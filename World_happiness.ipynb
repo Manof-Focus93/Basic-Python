{
 "cells": [
  {
   "cell_type": "code",
   "execution_count": 1,
   "metadata": {},
   "outputs": [
    {
     "data": {
      "text/html": [
       "<div>\n",
       "<style scoped>\n",
       "    .dataframe tbody tr th:only-of-type {\n",
       "        vertical-align: middle;\n",
       "    }\n",
       "\n",
       "    .dataframe tbody tr th {\n",
       "        vertical-align: top;\n",
       "    }\n",
       "\n",
       "    .dataframe thead th {\n",
       "        text-align: right;\n",
       "    }\n",
       "</style>\n",
       "<table border=\"1\" class=\"dataframe\">\n",
       "  <thead>\n",
       "    <tr style=\"text-align: right;\">\n",
       "      <th></th>\n",
       "      <th>Country</th>\n",
       "      <th>Region</th>\n",
       "      <th>Happiness Rank</th>\n",
       "      <th>Happiness Score</th>\n",
       "      <th>Standard Error</th>\n",
       "      <th>Economy (GDP per Capita)</th>\n",
       "      <th>Family</th>\n",
       "      <th>Health (Life Expectancy)</th>\n",
       "      <th>Freedom</th>\n",
       "      <th>Trust (Government Corruption)</th>\n",
       "      <th>Generosity</th>\n",
       "      <th>Dystopia Residual</th>\n",
       "    </tr>\n",
       "  </thead>\n",
       "  <tbody>\n",
       "    <tr>\n",
       "      <th>0</th>\n",
       "      <td>Switzerland</td>\n",
       "      <td>Western Europe</td>\n",
       "      <td>1</td>\n",
       "      <td>7.587</td>\n",
       "      <td>0.03411</td>\n",
       "      <td>1.39651</td>\n",
       "      <td>1.34951</td>\n",
       "      <td>0.94143</td>\n",
       "      <td>0.66557</td>\n",
       "      <td>0.41978</td>\n",
       "      <td>0.29678</td>\n",
       "      <td>2.51738</td>\n",
       "    </tr>\n",
       "    <tr>\n",
       "      <th>1</th>\n",
       "      <td>Iceland</td>\n",
       "      <td>Western Europe</td>\n",
       "      <td>2</td>\n",
       "      <td>7.561</td>\n",
       "      <td>0.04884</td>\n",
       "      <td>1.30232</td>\n",
       "      <td>1.40223</td>\n",
       "      <td>0.94784</td>\n",
       "      <td>0.62877</td>\n",
       "      <td>0.14145</td>\n",
       "      <td>0.43630</td>\n",
       "      <td>2.70201</td>\n",
       "    </tr>\n",
       "    <tr>\n",
       "      <th>2</th>\n",
       "      <td>Denmark</td>\n",
       "      <td>Western Europe</td>\n",
       "      <td>3</td>\n",
       "      <td>7.527</td>\n",
       "      <td>0.03328</td>\n",
       "      <td>1.32548</td>\n",
       "      <td>1.36058</td>\n",
       "      <td>0.87464</td>\n",
       "      <td>0.64938</td>\n",
       "      <td>0.48357</td>\n",
       "      <td>0.34139</td>\n",
       "      <td>2.49204</td>\n",
       "    </tr>\n",
       "    <tr>\n",
       "      <th>3</th>\n",
       "      <td>Norway</td>\n",
       "      <td>Western Europe</td>\n",
       "      <td>4</td>\n",
       "      <td>7.522</td>\n",
       "      <td>0.03880</td>\n",
       "      <td>1.45900</td>\n",
       "      <td>1.33095</td>\n",
       "      <td>0.88521</td>\n",
       "      <td>0.66973</td>\n",
       "      <td>0.36503</td>\n",
       "      <td>0.34699</td>\n",
       "      <td>2.46531</td>\n",
       "    </tr>\n",
       "    <tr>\n",
       "      <th>4</th>\n",
       "      <td>Canada</td>\n",
       "      <td>North America</td>\n",
       "      <td>5</td>\n",
       "      <td>7.427</td>\n",
       "      <td>0.03553</td>\n",
       "      <td>1.32629</td>\n",
       "      <td>1.32261</td>\n",
       "      <td>0.90563</td>\n",
       "      <td>0.63297</td>\n",
       "      <td>0.32957</td>\n",
       "      <td>0.45811</td>\n",
       "      <td>2.45176</td>\n",
       "    </tr>\n",
       "  </tbody>\n",
       "</table>\n",
       "</div>"
      ],
      "text/plain": [
       "       Country          Region  Happiness Rank  Happiness Score  \\\n",
       "0  Switzerland  Western Europe               1            7.587   \n",
       "1      Iceland  Western Europe               2            7.561   \n",
       "2      Denmark  Western Europe               3            7.527   \n",
       "3       Norway  Western Europe               4            7.522   \n",
       "4       Canada   North America               5            7.427   \n",
       "\n",
       "   Standard Error  Economy (GDP per Capita)   Family  \\\n",
       "0         0.03411                   1.39651  1.34951   \n",
       "1         0.04884                   1.30232  1.40223   \n",
       "2         0.03328                   1.32548  1.36058   \n",
       "3         0.03880                   1.45900  1.33095   \n",
       "4         0.03553                   1.32629  1.32261   \n",
       "\n",
       "   Health (Life Expectancy)  Freedom  Trust (Government Corruption)  \\\n",
       "0                   0.94143  0.66557                        0.41978   \n",
       "1                   0.94784  0.62877                        0.14145   \n",
       "2                   0.87464  0.64938                        0.48357   \n",
       "3                   0.88521  0.66973                        0.36503   \n",
       "4                   0.90563  0.63297                        0.32957   \n",
       "\n",
       "   Generosity  Dystopia Residual  \n",
       "0     0.29678            2.51738  \n",
       "1     0.43630            2.70201  \n",
       "2     0.34139            2.49204  \n",
       "3     0.34699            2.46531  \n",
       "4     0.45811            2.45176  "
      ]
     },
     "execution_count": 1,
     "metadata": {},
     "output_type": "execute_result"
    }
   ],
   "source": [
    "import pandas as pd\n",
    "happiness2015 = pd.read_csv('World_Happiness_2015.csv')\n",
    "happiness2015.head()"
   ]
  },
  {
   "cell_type": "code",
   "execution_count": 2,
   "metadata": {},
   "outputs": [
    {
     "data": {
      "text/html": [
       "<div>\n",
       "<style scoped>\n",
       "    .dataframe tbody tr th:only-of-type {\n",
       "        vertical-align: middle;\n",
       "    }\n",
       "\n",
       "    .dataframe tbody tr th {\n",
       "        vertical-align: top;\n",
       "    }\n",
       "\n",
       "    .dataframe thead th {\n",
       "        text-align: right;\n",
       "    }\n",
       "</style>\n",
       "<table border=\"1\" class=\"dataframe\">\n",
       "  <thead>\n",
       "    <tr style=\"text-align: right;\">\n",
       "      <th></th>\n",
       "      <th>Country</th>\n",
       "      <th>Region</th>\n",
       "      <th>Happiness Rank</th>\n",
       "      <th>Happiness Score</th>\n",
       "      <th>Standard Error</th>\n",
       "      <th>Economy (GDP per Capita)</th>\n",
       "      <th>Family</th>\n",
       "      <th>Health (Life Expectancy)</th>\n",
       "      <th>Freedom</th>\n",
       "      <th>Trust (Government Corruption)</th>\n",
       "      <th>Generosity</th>\n",
       "      <th>Dystopia Residual</th>\n",
       "    </tr>\n",
       "  </thead>\n",
       "  <tbody>\n",
       "    <tr>\n",
       "      <th>155</th>\n",
       "      <td>Syria</td>\n",
       "      <td>Middle East and Northern Africa</td>\n",
       "      <td>156</td>\n",
       "      <td>3.006</td>\n",
       "      <td>0.05015</td>\n",
       "      <td>0.66320</td>\n",
       "      <td>0.47489</td>\n",
       "      <td>0.72193</td>\n",
       "      <td>0.15684</td>\n",
       "      <td>0.18906</td>\n",
       "      <td>0.47179</td>\n",
       "      <td>0.32858</td>\n",
       "    </tr>\n",
       "    <tr>\n",
       "      <th>156</th>\n",
       "      <td>Burundi</td>\n",
       "      <td>Sub-Saharan Africa</td>\n",
       "      <td>157</td>\n",
       "      <td>2.905</td>\n",
       "      <td>0.08658</td>\n",
       "      <td>0.01530</td>\n",
       "      <td>0.41587</td>\n",
       "      <td>0.22396</td>\n",
       "      <td>0.11850</td>\n",
       "      <td>0.10062</td>\n",
       "      <td>0.19727</td>\n",
       "      <td>1.83302</td>\n",
       "    </tr>\n",
       "    <tr>\n",
       "      <th>157</th>\n",
       "      <td>Togo</td>\n",
       "      <td>Sub-Saharan Africa</td>\n",
       "      <td>158</td>\n",
       "      <td>2.839</td>\n",
       "      <td>0.06727</td>\n",
       "      <td>0.20868</td>\n",
       "      <td>0.13995</td>\n",
       "      <td>0.28443</td>\n",
       "      <td>0.36453</td>\n",
       "      <td>0.10731</td>\n",
       "      <td>0.16681</td>\n",
       "      <td>1.56726</td>\n",
       "    </tr>\n",
       "  </tbody>\n",
       "</table>\n",
       "</div>"
      ],
      "text/plain": [
       "     Country                           Region  Happiness Rank  \\\n",
       "155    Syria  Middle East and Northern Africa             156   \n",
       "156  Burundi               Sub-Saharan Africa             157   \n",
       "157     Togo               Sub-Saharan Africa             158   \n",
       "\n",
       "     Happiness Score  Standard Error  Economy (GDP per Capita)   Family  \\\n",
       "155            3.006         0.05015                   0.66320  0.47489   \n",
       "156            2.905         0.08658                   0.01530  0.41587   \n",
       "157            2.839         0.06727                   0.20868  0.13995   \n",
       "\n",
       "     Health (Life Expectancy)  Freedom  Trust (Government Corruption)  \\\n",
       "155                   0.72193  0.15684                        0.18906   \n",
       "156                   0.22396  0.11850                        0.10062   \n",
       "157                   0.28443  0.36453                        0.10731   \n",
       "\n",
       "     Generosity  Dystopia Residual  \n",
       "155     0.47179            0.32858  \n",
       "156     0.19727            1.83302  \n",
       "157     0.16681            1.56726  "
      ]
     },
     "execution_count": 2,
     "metadata": {},
     "output_type": "execute_result"
    }
   ],
   "source": [
    "happiness2015.tail(3)"
   ]
  },
  {
   "cell_type": "code",
   "execution_count": 3,
   "metadata": {},
   "outputs": [
    {
     "name": "stdout",
     "output_type": "stream",
     "text": [
      "<class 'pandas.core.frame.DataFrame'>\n",
      "RangeIndex: 158 entries, 0 to 157\n",
      "Data columns (total 12 columns):\n",
      "Country                          158 non-null object\n",
      "Region                           158 non-null object\n",
      "Happiness Rank                   158 non-null int64\n",
      "Happiness Score                  158 non-null float64\n",
      "Standard Error                   158 non-null float64\n",
      "Economy (GDP per Capita)         158 non-null float64\n",
      "Family                           158 non-null float64\n",
      "Health (Life Expectancy)         158 non-null float64\n",
      "Freedom                          158 non-null float64\n",
      "Trust (Government Corruption)    158 non-null float64\n",
      "Generosity                       158 non-null float64\n",
      "Dystopia Residual                158 non-null float64\n",
      "dtypes: float64(9), int64(1), object(2)\n",
      "memory usage: 14.9+ KB\n"
     ]
    }
   ],
   "source": [
    "happiness2015.info()"
   ]
  },
  {
   "cell_type": "code",
   "execution_count": 4,
   "metadata": {},
   "outputs": [
    {
     "data": {
      "text/plain": [
       "<matplotlib.axes._subplots.AxesSubplot at 0x1b97b3456a0>"
      ]
     },
     "execution_count": 4,
     "metadata": {},
     "output_type": "execute_result"
    },
    {
     "data": {
      "image/png": "[encoded data removed]",
      "text/plain": [
       "<Figure size 1008x288 with 1 Axes>"
      ]
     },
     "metadata": {
      "needs_background": "light"
     },
     "output_type": "display_data"
    }
   ],
   "source": [
    "import matplotlib.pyplot as plt\n",
    "import numpy as np\n",
    "%matplotlib inline\n",
    "happiness2015.plot.bar(x='Country',y='Happiness Score', figsize=(14,4), ylim=(0,10))"
   ]
  },
  {
   "cell_type": "code",
   "execution_count": 5,
   "metadata": {},
   "outputs": [
    {
     "data": {
      "text/plain": [
       "array(['Western Europe', 'North America', 'Australia and New Zealand',\n",
       "       'Middle East and Northern Africa', 'Latin America and Caribbean',\n",
       "       'Southeastern Asia', 'Central and Eastern Europe', 'Eastern Asia',\n",
       "       'Sub-Saharan Africa', 'Southern Asia'], dtype=object)"
      ]
     },
     "execution_count": 5,
     "metadata": {},
     "output_type": "execute_result"
    }
   ],
   "source": [
    "happiness2015['Region'].unique()"
   ]
  },
  {
   "cell_type": "code",
   "execution_count": 6,
   "metadata": {},
   "outputs": [
    {
     "data": {
      "image/png": "[encoded data removed]",
      "text/plain": [
       "<Figure size 432x288 with 1 Axes>"
      ]
     },
     "metadata": {
      "needs_background": "light"
     },
     "output_type": "display_data"
    }
   ],
   "source": [
    "sou_asia = happiness2015[happiness2015['Region']=='Southeastern Asia']\n",
    "sou_asia.plot(x='Country',y='Happiness Score', kind='barh', colormap='gist_rainbow', xlim=(0,10))\n",
    "plt.tick_params(left=False)"
   ]
  },
  {
   "cell_type": "code",
   "execution_count": 7,
   "metadata": {},
   "outputs": [
    {
     "data": {
      "text/plain": [
       "<matplotlib.axes._subplots.AxesSubplot at 0x1b97c4288d0>"
      ]
     },
     "execution_count": 7,
     "metadata": {},
     "output_type": "execute_result"
    },
    {
     "data": {
      "image/png": "[encoded data removed]",
      "text/plain": [
       "<Figure size 432x288 with 1 Axes>"
      ]
     },
     "metadata": {
      "needs_background": "light"
     },
     "output_type": "display_data"
    }
   ],
   "source": [
    "mean_happiness = {}\n",
    "for region in happiness2015['Region'].unique():\n",
    "    mean = happiness2015[happiness2015['Region']==region]['Happiness Score'].mean()\n",
    "    mean_happiness[region] = mean\n",
    "mean_happiness = pd.Series(mean_happiness)\n",
    "mean_happiness.plot.barh()"
   ]
  },
  {
   "cell_type": "code",
   "execution_count": 8,
   "metadata": {},
   "outputs": [
    {
     "data": {
      "text/html": [
       "<div>\n",
       "<style scoped>\n",
       "    .dataframe tbody tr th:only-of-type {\n",
       "        vertical-align: middle;\n",
       "    }\n",
       "\n",
       "    .dataframe tbody tr th {\n",
       "        vertical-align: top;\n",
       "    }\n",
       "\n",
       "    .dataframe thead th {\n",
       "        text-align: right;\n",
       "    }\n",
       "</style>\n",
       "<table border=\"1\" class=\"dataframe\">\n",
       "  <thead>\n",
       "    <tr style=\"text-align: right;\">\n",
       "      <th></th>\n",
       "      <th>Country</th>\n",
       "      <th>Region</th>\n",
       "      <th>Happiness Rank</th>\n",
       "      <th>Happiness Score</th>\n",
       "      <th>Standard Error</th>\n",
       "      <th>Economy (GDP per Capita)</th>\n",
       "      <th>Family</th>\n",
       "      <th>Health (Life Expectancy)</th>\n",
       "      <th>Freedom</th>\n",
       "      <th>Trust (Government Corruption)</th>\n",
       "      <th>Generosity</th>\n",
       "      <th>Dystopia Residual</th>\n",
       "    </tr>\n",
       "  </thead>\n",
       "  <tbody>\n",
       "    <tr>\n",
       "      <th>4</th>\n",
       "      <td>Canada</td>\n",
       "      <td>North America</td>\n",
       "      <td>5</td>\n",
       "      <td>7.427</td>\n",
       "      <td>0.03553</td>\n",
       "      <td>1.32629</td>\n",
       "      <td>1.32261</td>\n",
       "      <td>0.90563</td>\n",
       "      <td>0.63297</td>\n",
       "      <td>0.32957</td>\n",
       "      <td>0.45811</td>\n",
       "      <td>2.45176</td>\n",
       "    </tr>\n",
       "    <tr>\n",
       "      <th>14</th>\n",
       "      <td>United States</td>\n",
       "      <td>North America</td>\n",
       "      <td>15</td>\n",
       "      <td>7.119</td>\n",
       "      <td>0.03839</td>\n",
       "      <td>1.39451</td>\n",
       "      <td>1.24711</td>\n",
       "      <td>0.86179</td>\n",
       "      <td>0.54604</td>\n",
       "      <td>0.15890</td>\n",
       "      <td>0.40105</td>\n",
       "      <td>2.51011</td>\n",
       "    </tr>\n",
       "  </tbody>\n",
       "</table>\n",
       "</div>"
      ],
      "text/plain": [
       "          Country         Region  Happiness Rank  Happiness Score  \\\n",
       "4          Canada  North America               5            7.427   \n",
       "14  United States  North America              15            7.119   \n",
       "\n",
       "    Standard Error  Economy (GDP per Capita)   Family  \\\n",
       "4          0.03553                   1.32629  1.32261   \n",
       "14         0.03839                   1.39451  1.24711   \n",
       "\n",
       "    Health (Life Expectancy)  Freedom  Trust (Government Corruption)  \\\n",
       "4                    0.90563  0.63297                        0.32957   \n",
       "14                   0.86179  0.54604                        0.15890   \n",
       "\n",
       "    Generosity  Dystopia Residual  \n",
       "4      0.45811            2.45176  \n",
       "14     0.40105            2.51011  "
      ]
     },
     "execution_count": 8,
     "metadata": {},
     "output_type": "execute_result"
    }
   ],
   "source": [
    "# Get familiar with 'Groupby' function\n",
    "happiness2015.groupby('Region').get_group('North America')"
   ]
  },
  {
   "cell_type": "code",
   "execution_count": 9,
   "metadata": {},
   "outputs": [
    {
     "data": {
      "text/plain": [
       "{'Australia and New Zealand': Int64Index([8, 9], dtype='int64'),\n",
       " 'Central and Eastern Europe': Int64Index([ 30,  43,  44,  51,  53,  54,  55,  58,  59,  61,  63,  68,  69,\n",
       "              72,  76,  79,  82,  85,  86,  88,  92,  94,  95, 103, 105, 110,\n",
       "             126, 129, 133],\n",
       "            dtype='int64'),\n",
       " 'Eastern Asia': Int64Index([37, 45, 46, 71, 83, 99], dtype='int64'),\n",
       " 'Latin America and Caribbean': Int64Index([ 11,  13,  15,  22,  24,  26,  29,  31,  32,  39,  40,  41,  42,\n",
       "              47,  50,  52,  56,  57,  64,  97, 104, 118],\n",
       "            dtype='int64'),\n",
       " 'Middle East and Northern Africa': Int64Index([ 10,  19,  21,  27,  34,  38,  48,  62,  67,  75,  81,  91, 102,\n",
       "             106, 107, 109, 111, 134, 135, 155],\n",
       "            dtype='int64'),\n",
       " 'North America': Int64Index([4, 14], dtype='int64'),\n",
       " 'Southeastern Asia': Int64Index([23, 33, 60, 73, 74, 89, 98, 128, 144], dtype='int64'),\n",
       " 'Southern Asia': Int64Index([78, 80, 108, 116, 120, 131, 152], dtype='int64'),\n",
       " 'Sub-Saharan Africa': Int64Index([ 70,  77,  84,  90,  93,  96, 100, 112, 113, 114, 115, 117, 119,\n",
       "             121, 122, 123, 124, 125, 127, 130, 132, 136, 137, 138, 139, 140,\n",
       "             141, 142, 143, 145, 146, 147, 148, 149, 150, 151, 153, 154, 156,\n",
       "             157],\n",
       "            dtype='int64'),\n",
       " 'Western Europe': Int64Index([0, 1, 2, 3, 5, 6, 7, 12, 16, 17, 18, 20, 25, 28, 35, 36, 49, 65,\n",
       "             66, 87, 101],\n",
       "            dtype='int64')}"
      ]
     },
     "execution_count": 9,
     "metadata": {},
     "output_type": "execute_result"
    }
   ],
   "source": [
    "happiness2015.groupby('Region').groups"
   ]
  },
  {
   "cell_type": "code",
   "execution_count": 10,
   "metadata": {},
   "outputs": [
    {
     "data": {
      "text/html": [
       "<div>\n",
       "<style scoped>\n",
       "    .dataframe tbody tr th:only-of-type {\n",
       "        vertical-align: middle;\n",
       "    }\n",
       "\n",
       "    .dataframe tbody tr th {\n",
       "        vertical-align: top;\n",
       "    }\n",
       "\n",
       "    .dataframe thead th {\n",
       "        text-align: right;\n",
       "    }\n",
       "</style>\n",
       "<table border=\"1\" class=\"dataframe\">\n",
       "  <thead>\n",
       "    <tr style=\"text-align: right;\">\n",
       "      <th></th>\n",
       "      <th>mean</th>\n",
       "      <th>sum</th>\n",
       "      <th>median</th>\n",
       "      <th>min</th>\n",
       "      <th>max</th>\n",
       "    </tr>\n",
       "    <tr>\n",
       "      <th>Region</th>\n",
       "      <th></th>\n",
       "      <th></th>\n",
       "      <th></th>\n",
       "      <th></th>\n",
       "      <th></th>\n",
       "    </tr>\n",
       "  </thead>\n",
       "  <tbody>\n",
       "    <tr>\n",
       "      <th>Australia and New Zealand</th>\n",
       "      <td>7.285000</td>\n",
       "      <td>14.570</td>\n",
       "      <td>7.285</td>\n",
       "      <td>7.284</td>\n",
       "      <td>7.286</td>\n",
       "    </tr>\n",
       "    <tr>\n",
       "      <th>Central and Eastern Europe</th>\n",
       "      <td>5.332931</td>\n",
       "      <td>154.655</td>\n",
       "      <td>5.286</td>\n",
       "      <td>4.218</td>\n",
       "      <td>6.505</td>\n",
       "    </tr>\n",
       "    <tr>\n",
       "      <th>Eastern Asia</th>\n",
       "      <td>5.626167</td>\n",
       "      <td>33.757</td>\n",
       "      <td>5.729</td>\n",
       "      <td>4.874</td>\n",
       "      <td>6.298</td>\n",
       "    </tr>\n",
       "    <tr>\n",
       "      <th>Latin America and Caribbean</th>\n",
       "      <td>6.144682</td>\n",
       "      <td>135.183</td>\n",
       "      <td>6.149</td>\n",
       "      <td>4.518</td>\n",
       "      <td>7.226</td>\n",
       "    </tr>\n",
       "    <tr>\n",
       "      <th>Middle East and Northern Africa</th>\n",
       "      <td>5.406900</td>\n",
       "      <td>108.138</td>\n",
       "      <td>5.262</td>\n",
       "      <td>3.006</td>\n",
       "      <td>7.278</td>\n",
       "    </tr>\n",
       "    <tr>\n",
       "      <th>North America</th>\n",
       "      <td>7.273000</td>\n",
       "      <td>14.546</td>\n",
       "      <td>7.273</td>\n",
       "      <td>7.119</td>\n",
       "      <td>7.427</td>\n",
       "    </tr>\n",
       "    <tr>\n",
       "      <th>Southeastern Asia</th>\n",
       "      <td>5.317444</td>\n",
       "      <td>47.857</td>\n",
       "      <td>5.360</td>\n",
       "      <td>3.819</td>\n",
       "      <td>6.798</td>\n",
       "    </tr>\n",
       "    <tr>\n",
       "      <th>Southern Asia</th>\n",
       "      <td>4.580857</td>\n",
       "      <td>32.066</td>\n",
       "      <td>4.565</td>\n",
       "      <td>3.575</td>\n",
       "      <td>5.253</td>\n",
       "    </tr>\n",
       "    <tr>\n",
       "      <th>Sub-Saharan Africa</th>\n",
       "      <td>4.202800</td>\n",
       "      <td>168.112</td>\n",
       "      <td>4.272</td>\n",
       "      <td>2.839</td>\n",
       "      <td>5.477</td>\n",
       "    </tr>\n",
       "    <tr>\n",
       "      <th>Western Europe</th>\n",
       "      <td>6.689619</td>\n",
       "      <td>140.482</td>\n",
       "      <td>6.937</td>\n",
       "      <td>4.857</td>\n",
       "      <td>7.587</td>\n",
       "    </tr>\n",
       "  </tbody>\n",
       "</table>\n",
       "</div>"
      ],
      "text/plain": [
       "                                     mean      sum  median    min    max\n",
       "Region                                                                  \n",
       "Australia and New Zealand        7.285000   14.570   7.285  7.284  7.286\n",
       "Central and Eastern Europe       5.332931  154.655   5.286  4.218  6.505\n",
       "Eastern Asia                     5.626167   33.757   5.729  4.874  6.298\n",
       "Latin America and Caribbean      6.144682  135.183   6.149  4.518  7.226\n",
       "Middle East and Northern Africa  5.406900  108.138   5.262  3.006  7.278\n",
       "North America                    7.273000   14.546   7.273  7.119  7.427\n",
       "Southeastern Asia                5.317444   47.857   5.360  3.819  6.798\n",
       "Southern Asia                    4.580857   32.066   4.565  3.575  5.253\n",
       "Sub-Saharan Africa               4.202800  168.112   4.272  2.839  5.477\n",
       "Western Europe                   6.689619  140.482   6.937  4.857  7.587"
      ]
     },
     "execution_count": 10,
     "metadata": {},
     "output_type": "execute_result"
    }
   ],
   "source": [
    "#happiness2015.boxplot('Happiness Score', by='Region',vert=False)\n",
    "happiness2015.groupby('Region')['Happiness Score'].agg(['mean','sum','median','min','max'])"
   ]
  },
  {
   "cell_type": "code",
   "execution_count": 11,
   "metadata": {},
   "outputs": [
    {
     "data": {
      "text/html": [
       "<div>\n",
       "<style scoped>\n",
       "    .dataframe tbody tr th:only-of-type {\n",
       "        vertical-align: middle;\n",
       "    }\n",
       "\n",
       "    .dataframe tbody tr th {\n",
       "        vertical-align: top;\n",
       "    }\n",
       "\n",
       "    .dataframe thead tr th {\n",
       "        text-align: left;\n",
       "    }\n",
       "\n",
       "    .dataframe thead tr:last-of-type th {\n",
       "        text-align: right;\n",
       "    }\n",
       "</style>\n",
       "<table border=\"1\" class=\"dataframe\">\n",
       "  <thead>\n",
       "    <tr>\n",
       "      <th></th>\n",
       "      <th colspan=\"2\" halign=\"left\">Happiness Score</th>\n",
       "      <th colspan=\"2\" halign=\"left\">Family</th>\n",
       "    </tr>\n",
       "    <tr>\n",
       "      <th></th>\n",
       "      <th>sum</th>\n",
       "      <th>mean</th>\n",
       "      <th>min</th>\n",
       "      <th>max</th>\n",
       "    </tr>\n",
       "    <tr>\n",
       "      <th>Region</th>\n",
       "      <th></th>\n",
       "      <th></th>\n",
       "      <th></th>\n",
       "      <th></th>\n",
       "    </tr>\n",
       "  </thead>\n",
       "  <tbody>\n",
       "    <tr>\n",
       "      <th>Australia and New Zealand</th>\n",
       "      <td>14.570</td>\n",
       "      <td>7.285000</td>\n",
       "      <td>1.30923</td>\n",
       "      <td>1.31967</td>\n",
       "    </tr>\n",
       "    <tr>\n",
       "      <th>Central and Eastern Europe</th>\n",
       "      <td>154.655</td>\n",
       "      <td>5.332931</td>\n",
       "      <td>0.38562</td>\n",
       "      <td>1.34043</td>\n",
       "    </tr>\n",
       "    <tr>\n",
       "      <th>Eastern Asia</th>\n",
       "      <td>33.757</td>\n",
       "      <td>5.626167</td>\n",
       "      <td>0.94675</td>\n",
       "      <td>1.30060</td>\n",
       "    </tr>\n",
       "    <tr>\n",
       "      <th>Latin America and Caribbean</th>\n",
       "      <td>135.183</td>\n",
       "      <td>6.144682</td>\n",
       "      <td>0.74302</td>\n",
       "      <td>1.30477</td>\n",
       "    </tr>\n",
       "    <tr>\n",
       "      <th>Middle East and Northern Africa</th>\n",
       "      <td>108.138</td>\n",
       "      <td>5.406900</td>\n",
       "      <td>0.47489</td>\n",
       "      <td>1.22393</td>\n",
       "    </tr>\n",
       "    <tr>\n",
       "      <th>North America</th>\n",
       "      <td>14.546</td>\n",
       "      <td>7.273000</td>\n",
       "      <td>1.24711</td>\n",
       "      <td>1.32261</td>\n",
       "    </tr>\n",
       "    <tr>\n",
       "      <th>Southeastern Asia</th>\n",
       "      <td>47.857</td>\n",
       "      <td>5.317444</td>\n",
       "      <td>0.62736</td>\n",
       "      <td>1.26504</td>\n",
       "    </tr>\n",
       "    <tr>\n",
       "      <th>Southern Asia</th>\n",
       "      <td>32.066</td>\n",
       "      <td>4.580857</td>\n",
       "      <td>0.30285</td>\n",
       "      <td>1.10395</td>\n",
       "    </tr>\n",
       "    <tr>\n",
       "      <th>Sub-Saharan Africa</th>\n",
       "      <td>168.112</td>\n",
       "      <td>4.202800</td>\n",
       "      <td>0.00000</td>\n",
       "      <td>1.18468</td>\n",
       "    </tr>\n",
       "    <tr>\n",
       "      <th>Western Europe</th>\n",
       "      <td>140.482</td>\n",
       "      <td>6.689619</td>\n",
       "      <td>0.89318</td>\n",
       "      <td>1.40223</td>\n",
       "    </tr>\n",
       "  </tbody>\n",
       "</table>\n",
       "</div>"
      ],
      "text/plain": [
       "                                Happiness Score             Family         \n",
       "                                            sum      mean      min      max\n",
       "Region                                                                     \n",
       "Australia and New Zealand                14.570  7.285000  1.30923  1.31967\n",
       "Central and Eastern Europe              154.655  5.332931  0.38562  1.34043\n",
       "Eastern Asia                             33.757  5.626167  0.94675  1.30060\n",
       "Latin America and Caribbean             135.183  6.144682  0.74302  1.30477\n",
       "Middle East and Northern Africa         108.138  5.406900  0.47489  1.22393\n",
       "North America                            14.546  7.273000  1.24711  1.32261\n",
       "Southeastern Asia                        47.857  5.317444  0.62736  1.26504\n",
       "Southern Asia                            32.066  4.580857  0.30285  1.10395\n",
       "Sub-Saharan Africa                      168.112  4.202800  0.00000  1.18468\n",
       "Western Europe                          140.482  6.689619  0.89318  1.40223"
      ]
     },
     "execution_count": 11,
     "metadata": {},
     "output_type": "execute_result"
    }
   ],
   "source": [
    "happiness2015.groupby('Region').agg({'Happiness Score':['sum','mean'],\n",
    "                                     'Family':['min','max']})"
   ]
  },
  {
   "cell_type": "code",
   "execution_count": 12,
   "metadata": {},
   "outputs": [
    {
     "data": {
      "image/png": "[encoded data removed]",
      "text/plain": [
       "<Figure size 432x288 with 1 Axes>"
      ]
     },
     "metadata": {
      "needs_background": "light"
     },
     "output_type": "display_data"
    }
   ],
   "source": [
    "#Shorter way to use GroupBy for our dataset\n",
    "happiness2015.groupby('Region')['Happiness Score'].agg(['mean','median']).plot.barh(xlim=(0,10), grid=True)\n",
    "plt.xlabel('Score')\n",
    "plt.tick_params(left=False)"
   ]
  },
  {
   "cell_type": "code",
   "execution_count": 13,
   "metadata": {},
   "outputs": [
    {
     "data": {
      "image/png": "[encoded data removed]",
      "text/plain": [
       "<Figure size 720x360 with 1 Axes>"
      ]
     },
     "metadata": {
      "needs_background": "light"
     },
     "output_type": "display_data"
    }
   ],
   "source": [
    "# Create a Pivot Table (like the Excel!!!)\n",
    "mean_median_happiness = happiness2015.pivot_table(values='Happiness Score',\n",
    "                                                  index='Region',\n",
    "                                                  aggfunc=['mean','median'],\n",
    "                                                  margins=True)\n",
    "mean_median_happiness.plot.barh(xlim=(0,10), color=['orange','darkblue'], grid=True, title='Happiness Score by Region', figsize=(10,5))\n",
    "plt.xlabel('Score')\n",
    "plt.tick_params(left=False)"
   ]
  },
  {
   "cell_type": "code",
   "execution_count": 14,
   "metadata": {},
   "outputs": [
    {
     "data": {
      "text/html": [
       "<div>\n",
       "<style scoped>\n",
       "    .dataframe tbody tr th:only-of-type {\n",
       "        vertical-align: middle;\n",
       "    }\n",
       "\n",
       "    .dataframe tbody tr th {\n",
       "        vertical-align: top;\n",
       "    }\n",
       "\n",
       "    .dataframe thead tr th {\n",
       "        text-align: left;\n",
       "    }\n",
       "\n",
       "    .dataframe thead tr:last-of-type th {\n",
       "        text-align: right;\n",
       "    }\n",
       "</style>\n",
       "<table border=\"1\" class=\"dataframe\">\n",
       "  <thead>\n",
       "    <tr>\n",
       "      <th></th>\n",
       "      <th colspan=\"2\" halign=\"left\">mean</th>\n",
       "      <th colspan=\"2\" halign=\"left\">max</th>\n",
       "      <th colspan=\"2\" halign=\"left\">min</th>\n",
       "    </tr>\n",
       "    <tr>\n",
       "      <th></th>\n",
       "      <th>Family</th>\n",
       "      <th>Happiness Score</th>\n",
       "      <th>Family</th>\n",
       "      <th>Happiness Score</th>\n",
       "      <th>Family</th>\n",
       "      <th>Happiness Score</th>\n",
       "    </tr>\n",
       "    <tr>\n",
       "      <th>Region</th>\n",
       "      <th></th>\n",
       "      <th></th>\n",
       "      <th></th>\n",
       "      <th></th>\n",
       "      <th></th>\n",
       "      <th></th>\n",
       "    </tr>\n",
       "  </thead>\n",
       "  <tbody>\n",
       "    <tr>\n",
       "      <th>Australia and New Zealand</th>\n",
       "      <td>1.314450</td>\n",
       "      <td>7.285000</td>\n",
       "      <td>1.31967</td>\n",
       "      <td>7.286</td>\n",
       "      <td>1.30923</td>\n",
       "      <td>7.284</td>\n",
       "    </tr>\n",
       "    <tr>\n",
       "      <th>Central and Eastern Europe</th>\n",
       "      <td>1.053042</td>\n",
       "      <td>5.332931</td>\n",
       "      <td>1.34043</td>\n",
       "      <td>6.505</td>\n",
       "      <td>0.38562</td>\n",
       "      <td>4.218</td>\n",
       "    </tr>\n",
       "    <tr>\n",
       "      <th>Eastern Asia</th>\n",
       "      <td>1.099427</td>\n",
       "      <td>5.626167</td>\n",
       "      <td>1.30060</td>\n",
       "      <td>6.298</td>\n",
       "      <td>0.94675</td>\n",
       "      <td>4.874</td>\n",
       "    </tr>\n",
       "    <tr>\n",
       "      <th>Latin America and Caribbean</th>\n",
       "      <td>1.104720</td>\n",
       "      <td>6.144682</td>\n",
       "      <td>1.30477</td>\n",
       "      <td>7.226</td>\n",
       "      <td>0.74302</td>\n",
       "      <td>4.518</td>\n",
       "    </tr>\n",
       "    <tr>\n",
       "      <th>Middle East and Northern Africa</th>\n",
       "      <td>0.920490</td>\n",
       "      <td>5.406900</td>\n",
       "      <td>1.22393</td>\n",
       "      <td>7.278</td>\n",
       "      <td>0.47489</td>\n",
       "      <td>3.006</td>\n",
       "    </tr>\n",
       "    <tr>\n",
       "      <th>North America</th>\n",
       "      <td>1.284860</td>\n",
       "      <td>7.273000</td>\n",
       "      <td>1.32261</td>\n",
       "      <td>7.427</td>\n",
       "      <td>1.24711</td>\n",
       "      <td>7.119</td>\n",
       "    </tr>\n",
       "    <tr>\n",
       "      <th>Southeastern Asia</th>\n",
       "      <td>0.940468</td>\n",
       "      <td>5.317444</td>\n",
       "      <td>1.26504</td>\n",
       "      <td>6.798</td>\n",
       "      <td>0.62736</td>\n",
       "      <td>3.819</td>\n",
       "    </tr>\n",
       "    <tr>\n",
       "      <th>Southern Asia</th>\n",
       "      <td>0.645321</td>\n",
       "      <td>4.580857</td>\n",
       "      <td>1.10395</td>\n",
       "      <td>5.253</td>\n",
       "      <td>0.30285</td>\n",
       "      <td>3.575</td>\n",
       "    </tr>\n",
       "    <tr>\n",
       "      <th>Sub-Saharan Africa</th>\n",
       "      <td>0.809085</td>\n",
       "      <td>4.202800</td>\n",
       "      <td>1.18468</td>\n",
       "      <td>5.477</td>\n",
       "      <td>0.00000</td>\n",
       "      <td>2.839</td>\n",
       "    </tr>\n",
       "    <tr>\n",
       "      <th>Western Europe</th>\n",
       "      <td>1.247302</td>\n",
       "      <td>6.689619</td>\n",
       "      <td>1.40223</td>\n",
       "      <td>7.587</td>\n",
       "      <td>0.89318</td>\n",
       "      <td>4.857</td>\n",
       "    </tr>\n",
       "    <tr>\n",
       "      <th>All</th>\n",
       "      <td>0.991046</td>\n",
       "      <td>5.375734</td>\n",
       "      <td>1.40223</td>\n",
       "      <td>7.587</td>\n",
       "      <td>0.00000</td>\n",
       "      <td>2.839</td>\n",
       "    </tr>\n",
       "  </tbody>\n",
       "</table>\n",
       "</div>"
      ],
      "text/plain": [
       "                                     mean                      max  \\\n",
       "                                   Family Happiness Score   Family   \n",
       "Region                                                               \n",
       "Australia and New Zealand        1.314450        7.285000  1.31967   \n",
       "Central and Eastern Europe       1.053042        5.332931  1.34043   \n",
       "Eastern Asia                     1.099427        5.626167  1.30060   \n",
       "Latin America and Caribbean      1.104720        6.144682  1.30477   \n",
       "Middle East and Northern Africa  0.920490        5.406900  1.22393   \n",
       "North America                    1.284860        7.273000  1.32261   \n",
       "Southeastern Asia                0.940468        5.317444  1.26504   \n",
       "Southern Asia                    0.645321        4.580857  1.10395   \n",
       "Sub-Saharan Africa               0.809085        4.202800  1.18468   \n",
       "Western Europe                   1.247302        6.689619  1.40223   \n",
       "All                              0.991046        5.375734  1.40223   \n",
       "\n",
       "                                                     min                  \n",
       "                                Happiness Score   Family Happiness Score  \n",
       "Region                                                                    \n",
       "Australia and New Zealand                 7.286  1.30923           7.284  \n",
       "Central and Eastern Europe                6.505  0.38562           4.218  \n",
       "Eastern Asia                              6.298  0.94675           4.874  \n",
       "Latin America and Caribbean               7.226  0.74302           4.518  \n",
       "Middle East and Northern Africa           7.278  0.47489           3.006  \n",
       "North America                             7.427  1.24711           7.119  \n",
       "Southeastern Asia                         6.798  0.62736           3.819  \n",
       "Southern Asia                             5.253  0.30285           3.575  \n",
       "Sub-Saharan Africa                        5.477  0.00000           2.839  \n",
       "Western Europe                            7.587  0.89318           4.857  \n",
       "All                                       7.587  0.00000           2.839  "
      ]
     },
     "execution_count": 14,
     "metadata": {},
     "output_type": "execute_result"
    }
   ],
   "source": [
    "happiness2015.pivot_table(values=['Happiness Score','Family'],\n",
    "                          index='Region',\n",
    "                          aggfunc=['mean','max','min'],\n",
    "                          margins=True)"
   ]
  },
  {
   "cell_type": "code",
   "execution_count": 15,
   "metadata": {},
   "outputs": [
    {
     "data": {
      "text/html": [
       "<div>\n",
       "<style scoped>\n",
       "    .dataframe tbody tr th:only-of-type {\n",
       "        vertical-align: middle;\n",
       "    }\n",
       "\n",
       "    .dataframe tbody tr th {\n",
       "        vertical-align: top;\n",
       "    }\n",
       "\n",
       "    .dataframe thead tr th {\n",
       "        text-align: left;\n",
       "    }\n",
       "\n",
       "    .dataframe thead tr:last-of-type th {\n",
       "        text-align: right;\n",
       "    }\n",
       "</style>\n",
       "<table border=\"1\" class=\"dataframe\">\n",
       "  <thead>\n",
       "    <tr>\n",
       "      <th></th>\n",
       "      <th colspan=\"3\" halign=\"left\">Happiness Score</th>\n",
       "      <th colspan=\"3\" halign=\"left\">Family</th>\n",
       "    </tr>\n",
       "    <tr>\n",
       "      <th></th>\n",
       "      <th>amin</th>\n",
       "      <th>amax</th>\n",
       "      <th>mean</th>\n",
       "      <th>amin</th>\n",
       "      <th>amax</th>\n",
       "      <th>mean</th>\n",
       "    </tr>\n",
       "    <tr>\n",
       "      <th>Region</th>\n",
       "      <th></th>\n",
       "      <th></th>\n",
       "      <th></th>\n",
       "      <th></th>\n",
       "      <th></th>\n",
       "      <th></th>\n",
       "    </tr>\n",
       "  </thead>\n",
       "  <tbody>\n",
       "    <tr>\n",
       "      <th>Australia and New Zealand</th>\n",
       "      <td>7.284</td>\n",
       "      <td>7.286</td>\n",
       "      <td>7.285000</td>\n",
       "      <td>1.30923</td>\n",
       "      <td>1.31967</td>\n",
       "      <td>1.314450</td>\n",
       "    </tr>\n",
       "    <tr>\n",
       "      <th>Central and Eastern Europe</th>\n",
       "      <td>4.218</td>\n",
       "      <td>6.505</td>\n",
       "      <td>5.332931</td>\n",
       "      <td>0.38562</td>\n",
       "      <td>1.34043</td>\n",
       "      <td>1.053042</td>\n",
       "    </tr>\n",
       "    <tr>\n",
       "      <th>Eastern Asia</th>\n",
       "      <td>4.874</td>\n",
       "      <td>6.298</td>\n",
       "      <td>5.626167</td>\n",
       "      <td>0.94675</td>\n",
       "      <td>1.30060</td>\n",
       "      <td>1.099427</td>\n",
       "    </tr>\n",
       "    <tr>\n",
       "      <th>Latin America and Caribbean</th>\n",
       "      <td>4.518</td>\n",
       "      <td>7.226</td>\n",
       "      <td>6.144682</td>\n",
       "      <td>0.74302</td>\n",
       "      <td>1.30477</td>\n",
       "      <td>1.104720</td>\n",
       "    </tr>\n",
       "    <tr>\n",
       "      <th>Middle East and Northern Africa</th>\n",
       "      <td>3.006</td>\n",
       "      <td>7.278</td>\n",
       "      <td>5.406900</td>\n",
       "      <td>0.47489</td>\n",
       "      <td>1.22393</td>\n",
       "      <td>0.920490</td>\n",
       "    </tr>\n",
       "    <tr>\n",
       "      <th>North America</th>\n",
       "      <td>7.119</td>\n",
       "      <td>7.427</td>\n",
       "      <td>7.273000</td>\n",
       "      <td>1.24711</td>\n",
       "      <td>1.32261</td>\n",
       "      <td>1.284860</td>\n",
       "    </tr>\n",
       "    <tr>\n",
       "      <th>Southeastern Asia</th>\n",
       "      <td>3.819</td>\n",
       "      <td>6.798</td>\n",
       "      <td>5.317444</td>\n",
       "      <td>0.62736</td>\n",
       "      <td>1.26504</td>\n",
       "      <td>0.940468</td>\n",
       "    </tr>\n",
       "    <tr>\n",
       "      <th>Southern Asia</th>\n",
       "      <td>3.575</td>\n",
       "      <td>5.253</td>\n",
       "      <td>4.580857</td>\n",
       "      <td>0.30285</td>\n",
       "      <td>1.10395</td>\n",
       "      <td>0.645321</td>\n",
       "    </tr>\n",
       "    <tr>\n",
       "      <th>Sub-Saharan Africa</th>\n",
       "      <td>2.839</td>\n",
       "      <td>5.477</td>\n",
       "      <td>4.202800</td>\n",
       "      <td>0.00000</td>\n",
       "      <td>1.18468</td>\n",
       "      <td>0.809085</td>\n",
       "    </tr>\n",
       "    <tr>\n",
       "      <th>Western Europe</th>\n",
       "      <td>4.857</td>\n",
       "      <td>7.587</td>\n",
       "      <td>6.689619</td>\n",
       "      <td>0.89318</td>\n",
       "      <td>1.40223</td>\n",
       "      <td>1.247302</td>\n",
       "    </tr>\n",
       "  </tbody>\n",
       "</table>\n",
       "</div>"
      ],
      "text/plain": [
       "                                Happiness Score                    Family  \\\n",
       "                                           amin   amax      mean     amin   \n",
       "Region                                                                      \n",
       "Australia and New Zealand                 7.284  7.286  7.285000  1.30923   \n",
       "Central and Eastern Europe                4.218  6.505  5.332931  0.38562   \n",
       "Eastern Asia                              4.874  6.298  5.626167  0.94675   \n",
       "Latin America and Caribbean               4.518  7.226  6.144682  0.74302   \n",
       "Middle East and Northern Africa           3.006  7.278  5.406900  0.47489   \n",
       "North America                             7.119  7.427  7.273000  1.24711   \n",
       "Southeastern Asia                         3.819  6.798  5.317444  0.62736   \n",
       "Southern Asia                             3.575  5.253  4.580857  0.30285   \n",
       "Sub-Saharan Africa                        2.839  5.477  4.202800  0.00000   \n",
       "Western Europe                            4.857  7.587  6.689619  0.89318   \n",
       "\n",
       "                                                    \n",
       "                                    amax      mean  \n",
       "Region                                              \n",
       "Australia and New Zealand        1.31967  1.314450  \n",
       "Central and Eastern Europe       1.34043  1.053042  \n",
       "Eastern Asia                     1.30060  1.099427  \n",
       "Latin America and Caribbean      1.30477  1.104720  \n",
       "Middle East and Northern Africa  1.22393  0.920490  \n",
       "North America                    1.32261  1.284860  \n",
       "Southeastern Asia                1.26504  0.940468  \n",
       "Southern Asia                    1.10395  0.645321  \n",
       "Sub-Saharan Africa               1.18468  0.809085  \n",
       "Western Europe                   1.40223  1.247302  "
      ]
     },
     "execution_count": 15,
     "metadata": {},
     "output_type": "execute_result"
    }
   ],
   "source": [
    "happiness2015.groupby('Region')[['Happiness Score','Family']].agg([np.min,np.max,np.mean])"
   ]
  },
  {
   "cell_type": "code",
   "execution_count": 16,
   "metadata": {},
   "outputs": [],
   "source": [
    "happiness2016 = pd.read_csv('World_Happiness_2016.csv')\n",
    "happiness2017 = pd.read_csv('World_Happiness_2017.csv')"
   ]
  },
  {
   "cell_type": "code",
   "execution_count": 17,
   "metadata": {},
   "outputs": [],
   "source": [
    "happiness2015['Year']=2015"
   ]
  },
  {
   "cell_type": "code",
   "execution_count": 18,
   "metadata": {},
   "outputs": [
    {
     "data": {
      "text/html": [
       "<div>\n",
       "<style scoped>\n",
       "    .dataframe tbody tr th:only-of-type {\n",
       "        vertical-align: middle;\n",
       "    }\n",
       "\n",
       "    .dataframe tbody tr th {\n",
       "        vertical-align: top;\n",
       "    }\n",
       "\n",
       "    .dataframe thead th {\n",
       "        text-align: right;\n",
       "    }\n",
       "</style>\n",
       "<table border=\"1\" class=\"dataframe\">\n",
       "  <thead>\n",
       "    <tr style=\"text-align: right;\">\n",
       "      <th></th>\n",
       "      <th>Country</th>\n",
       "      <th>Region</th>\n",
       "      <th>Happiness Rank</th>\n",
       "      <th>Happiness Score</th>\n",
       "      <th>Lower Confidence Interval</th>\n",
       "      <th>Upper Confidence Interval</th>\n",
       "      <th>Economy (GDP per Capita)</th>\n",
       "      <th>Family</th>\n",
       "      <th>Health (Life Expectancy)</th>\n",
       "      <th>Freedom</th>\n",
       "      <th>Trust (Government Corruption)</th>\n",
       "      <th>Generosity</th>\n",
       "      <th>Dystopia Residual</th>\n",
       "      <th>Year</th>\n",
       "    </tr>\n",
       "  </thead>\n",
       "  <tbody>\n",
       "    <tr>\n",
       "      <th>0</th>\n",
       "      <td>Denmark</td>\n",
       "      <td>Western Europe</td>\n",
       "      <td>1</td>\n",
       "      <td>7.526</td>\n",
       "      <td>7.460</td>\n",
       "      <td>7.592</td>\n",
       "      <td>1.44178</td>\n",
       "      <td>1.16374</td>\n",
       "      <td>0.79504</td>\n",
       "      <td>0.57941</td>\n",
       "      <td>0.44453</td>\n",
       "      <td>0.36171</td>\n",
       "      <td>2.73939</td>\n",
       "      <td>2016</td>\n",
       "    </tr>\n",
       "    <tr>\n",
       "      <th>1</th>\n",
       "      <td>Switzerland</td>\n",
       "      <td>Western Europe</td>\n",
       "      <td>2</td>\n",
       "      <td>7.509</td>\n",
       "      <td>7.428</td>\n",
       "      <td>7.590</td>\n",
       "      <td>1.52733</td>\n",
       "      <td>1.14524</td>\n",
       "      <td>0.86303</td>\n",
       "      <td>0.58557</td>\n",
       "      <td>0.41203</td>\n",
       "      <td>0.28083</td>\n",
       "      <td>2.69463</td>\n",
       "      <td>2016</td>\n",
       "    </tr>\n",
       "    <tr>\n",
       "      <th>2</th>\n",
       "      <td>Iceland</td>\n",
       "      <td>Western Europe</td>\n",
       "      <td>3</td>\n",
       "      <td>7.501</td>\n",
       "      <td>7.333</td>\n",
       "      <td>7.669</td>\n",
       "      <td>1.42666</td>\n",
       "      <td>1.18326</td>\n",
       "      <td>0.86733</td>\n",
       "      <td>0.56624</td>\n",
       "      <td>0.14975</td>\n",
       "      <td>0.47678</td>\n",
       "      <td>2.83137</td>\n",
       "      <td>2016</td>\n",
       "    </tr>\n",
       "  </tbody>\n",
       "</table>\n",
       "</div>"
      ],
      "text/plain": [
       "       Country          Region  Happiness Rank  Happiness Score  \\\n",
       "0      Denmark  Western Europe               1            7.526   \n",
       "1  Switzerland  Western Europe               2            7.509   \n",
       "2      Iceland  Western Europe               3            7.501   \n",
       "\n",
       "   Lower Confidence Interval  Upper Confidence Interval  \\\n",
       "0                      7.460                      7.592   \n",
       "1                      7.428                      7.590   \n",
       "2                      7.333                      7.669   \n",
       "\n",
       "   Economy (GDP per Capita)   Family  Health (Life Expectancy)  Freedom  \\\n",
       "0                   1.44178  1.16374                   0.79504  0.57941   \n",
       "1                   1.52733  1.14524                   0.86303  0.58557   \n",
       "2                   1.42666  1.18326                   0.86733  0.56624   \n",
       "\n",
       "   Trust (Government Corruption)  Generosity  Dystopia Residual  Year  \n",
       "0                        0.44453     0.36171            2.73939  2016  \n",
       "1                        0.41203     0.28083            2.69463  2016  \n",
       "2                        0.14975     0.47678            2.83137  2016  "
      ]
     },
     "execution_count": 18,
     "metadata": {},
     "output_type": "execute_result"
    }
   ],
   "source": [
    "happiness2016['Year']=2016\n",
    "happiness2016.head(3)"
   ]
  },
  {
   "cell_type": "code",
   "execution_count": 19,
   "metadata": {},
   "outputs": [
    {
     "data": {
      "text/html": [
       "<div>\n",
       "<style scoped>\n",
       "    .dataframe tbody tr th:only-of-type {\n",
       "        vertical-align: middle;\n",
       "    }\n",
       "\n",
       "    .dataframe tbody tr th {\n",
       "        vertical-align: top;\n",
       "    }\n",
       "\n",
       "    .dataframe thead th {\n",
       "        text-align: right;\n",
       "    }\n",
       "</style>\n",
       "<table border=\"1\" class=\"dataframe\">\n",
       "  <thead>\n",
       "    <tr style=\"text-align: right;\">\n",
       "      <th></th>\n",
       "      <th>Country</th>\n",
       "      <th>Happiness.Rank</th>\n",
       "      <th>Happiness.Score</th>\n",
       "      <th>Whisker.high</th>\n",
       "      <th>Whisker.low</th>\n",
       "      <th>Economy..GDP.per.Capita.</th>\n",
       "      <th>Family</th>\n",
       "      <th>Health..Life.Expectancy.</th>\n",
       "      <th>Freedom</th>\n",
       "      <th>Generosity</th>\n",
       "      <th>Trust..Government.Corruption.</th>\n",
       "      <th>Dystopia.Residual</th>\n",
       "      <th>Year</th>\n",
       "    </tr>\n",
       "  </thead>\n",
       "  <tbody>\n",
       "    <tr>\n",
       "      <th>0</th>\n",
       "      <td>Norway</td>\n",
       "      <td>1</td>\n",
       "      <td>7.537</td>\n",
       "      <td>7.594445</td>\n",
       "      <td>7.479556</td>\n",
       "      <td>1.616463</td>\n",
       "      <td>1.533524</td>\n",
       "      <td>0.796667</td>\n",
       "      <td>0.635423</td>\n",
       "      <td>0.362012</td>\n",
       "      <td>0.315964</td>\n",
       "      <td>2.277027</td>\n",
       "      <td>2017</td>\n",
       "    </tr>\n",
       "    <tr>\n",
       "      <th>1</th>\n",
       "      <td>Denmark</td>\n",
       "      <td>2</td>\n",
       "      <td>7.522</td>\n",
       "      <td>7.581728</td>\n",
       "      <td>7.462272</td>\n",
       "      <td>1.482383</td>\n",
       "      <td>1.551122</td>\n",
       "      <td>0.792566</td>\n",
       "      <td>0.626007</td>\n",
       "      <td>0.355280</td>\n",
       "      <td>0.400770</td>\n",
       "      <td>2.313707</td>\n",
       "      <td>2017</td>\n",
       "    </tr>\n",
       "    <tr>\n",
       "      <th>2</th>\n",
       "      <td>Iceland</td>\n",
       "      <td>3</td>\n",
       "      <td>7.504</td>\n",
       "      <td>7.622030</td>\n",
       "      <td>7.385970</td>\n",
       "      <td>1.480633</td>\n",
       "      <td>1.610574</td>\n",
       "      <td>0.833552</td>\n",
       "      <td>0.627163</td>\n",
       "      <td>0.475540</td>\n",
       "      <td>0.153527</td>\n",
       "      <td>2.322715</td>\n",
       "      <td>2017</td>\n",
       "    </tr>\n",
       "  </tbody>\n",
       "</table>\n",
       "</div>"
      ],
      "text/plain": [
       "   Country  Happiness.Rank  Happiness.Score  Whisker.high  Whisker.low  \\\n",
       "0   Norway               1            7.537      7.594445     7.479556   \n",
       "1  Denmark               2            7.522      7.581728     7.462272   \n",
       "2  Iceland               3            7.504      7.622030     7.385970   \n",
       "\n",
       "   Economy..GDP.per.Capita.    Family  Health..Life.Expectancy.   Freedom  \\\n",
       "0                  1.616463  1.533524                  0.796667  0.635423   \n",
       "1                  1.482383  1.551122                  0.792566  0.626007   \n",
       "2                  1.480633  1.610574                  0.833552  0.627163   \n",
       "\n",
       "   Generosity  Trust..Government.Corruption.  Dystopia.Residual  Year  \n",
       "0    0.362012                       0.315964           2.277027  2017  \n",
       "1    0.355280                       0.400770           2.313707  2017  \n",
       "2    0.475540                       0.153527           2.322715  2017  "
      ]
     },
     "execution_count": 19,
     "metadata": {},
     "output_type": "execute_result"
    }
   ],
   "source": [
    "happiness2017['Year']=2017\n",
    "happiness2017.head(3)"
   ]
  },
  {
   "cell_type": "code",
   "execution_count": 20,
   "metadata": {},
   "outputs": [
    {
     "name": "stderr",
     "output_type": "stream",
     "text": [
      "D:\\INSTALL\\Empty\\lib\\site-packages\\ipykernel_launcher.py:2: FutureWarning: Sorting because non-concatenation axis is not aligned. A future version\n",
      "of pandas will change to not sort by default.\n",
      "\n",
      "To accept the future behavior, pass 'sort=False'.\n",
      "\n",
      "To retain the current behavior and silence the warning, pass 'sort=True'.\n",
      "\n",
      "  \n"
     ]
    },
    {
     "data": {
      "text/html": [
       "<div>\n",
       "<style scoped>\n",
       "    .dataframe tbody tr th:only-of-type {\n",
       "        vertical-align: middle;\n",
       "    }\n",
       "\n",
       "    .dataframe tbody tr th {\n",
       "        vertical-align: top;\n",
       "    }\n",
       "\n",
       "    .dataframe thead th {\n",
       "        text-align: right;\n",
       "    }\n",
       "</style>\n",
       "<table border=\"1\" class=\"dataframe\">\n",
       "  <thead>\n",
       "    <tr style=\"text-align: right;\">\n",
       "      <th></th>\n",
       "      <th>Country</th>\n",
       "      <th>Happiness Rank</th>\n",
       "      <th>Standard Error</th>\n",
       "      <th>Year</th>\n",
       "    </tr>\n",
       "  </thead>\n",
       "  <tbody>\n",
       "    <tr>\n",
       "      <th>0</th>\n",
       "      <td>Switzerland</td>\n",
       "      <td>1</td>\n",
       "      <td>0.03411</td>\n",
       "      <td>2015</td>\n",
       "    </tr>\n",
       "    <tr>\n",
       "      <th>1</th>\n",
       "      <td>Iceland</td>\n",
       "      <td>2</td>\n",
       "      <td>0.04884</td>\n",
       "      <td>2015</td>\n",
       "    </tr>\n",
       "    <tr>\n",
       "      <th>2</th>\n",
       "      <td>Denmark</td>\n",
       "      <td>3</td>\n",
       "      <td>0.03328</td>\n",
       "      <td>2015</td>\n",
       "    </tr>\n",
       "    <tr>\n",
       "      <th>3</th>\n",
       "      <td>Denmark</td>\n",
       "      <td>1</td>\n",
       "      <td>NaN</td>\n",
       "      <td>2016</td>\n",
       "    </tr>\n",
       "    <tr>\n",
       "      <th>4</th>\n",
       "      <td>Switzerland</td>\n",
       "      <td>2</td>\n",
       "      <td>NaN</td>\n",
       "      <td>2016</td>\n",
       "    </tr>\n",
       "    <tr>\n",
       "      <th>5</th>\n",
       "      <td>Iceland</td>\n",
       "      <td>3</td>\n",
       "      <td>NaN</td>\n",
       "      <td>2016</td>\n",
       "    </tr>\n",
       "  </tbody>\n",
       "</table>\n",
       "</div>"
      ],
      "text/plain": [
       "       Country  Happiness Rank  Standard Error  Year\n",
       "0  Switzerland               1         0.03411  2015\n",
       "1      Iceland               2         0.04884  2015\n",
       "2      Denmark               3         0.03328  2015\n",
       "3      Denmark               1             NaN  2016\n",
       "4  Switzerland               2             NaN  2016\n",
       "5      Iceland               3             NaN  2016"
      ]
     },
     "execution_count": 20,
     "metadata": {},
     "output_type": "execute_result"
    }
   ],
   "source": [
    "# Concatenate axis=0\n",
    "pd.concat([happiness2015[:3][['Country','Happiness Rank','Year','Standard Error']],happiness2016[:3][['Country','Happiness Rank','Year']]], ignore_index=True)"
   ]
  },
  {
   "cell_type": "code",
   "execution_count": 21,
   "metadata": {},
   "outputs": [
    {
     "data": {
      "text/html": [
       "<div>\n",
       "<style scoped>\n",
       "    .dataframe tbody tr th:only-of-type {\n",
       "        vertical-align: middle;\n",
       "    }\n",
       "\n",
       "    .dataframe tbody tr th {\n",
       "        vertical-align: top;\n",
       "    }\n",
       "\n",
       "    .dataframe thead th {\n",
       "        text-align: right;\n",
       "    }\n",
       "</style>\n",
       "<table border=\"1\" class=\"dataframe\">\n",
       "  <thead>\n",
       "    <tr style=\"text-align: right;\">\n",
       "      <th></th>\n",
       "      <th>Country</th>\n",
       "      <th>Happiness Rank</th>\n",
       "      <th>Year</th>\n",
       "      <th>Country</th>\n",
       "      <th>Happiness Rank</th>\n",
       "      <th>Year</th>\n",
       "    </tr>\n",
       "  </thead>\n",
       "  <tbody>\n",
       "    <tr>\n",
       "      <th>0</th>\n",
       "      <td>Switzerland</td>\n",
       "      <td>1.0</td>\n",
       "      <td>2015.0</td>\n",
       "      <td>Denmark</td>\n",
       "      <td>1</td>\n",
       "      <td>2016</td>\n",
       "    </tr>\n",
       "    <tr>\n",
       "      <th>1</th>\n",
       "      <td>Iceland</td>\n",
       "      <td>2.0</td>\n",
       "      <td>2015.0</td>\n",
       "      <td>Switzerland</td>\n",
       "      <td>2</td>\n",
       "      <td>2016</td>\n",
       "    </tr>\n",
       "    <tr>\n",
       "      <th>2</th>\n",
       "      <td>Denmark</td>\n",
       "      <td>3.0</td>\n",
       "      <td>2015.0</td>\n",
       "      <td>Iceland</td>\n",
       "      <td>3</td>\n",
       "      <td>2016</td>\n",
       "    </tr>\n",
       "    <tr>\n",
       "      <th>3</th>\n",
       "      <td>NaN</td>\n",
       "      <td>NaN</td>\n",
       "      <td>NaN</td>\n",
       "      <td>Norway</td>\n",
       "      <td>4</td>\n",
       "      <td>2016</td>\n",
       "    </tr>\n",
       "    <tr>\n",
       "      <th>4</th>\n",
       "      <td>NaN</td>\n",
       "      <td>NaN</td>\n",
       "      <td>NaN</td>\n",
       "      <td>Finland</td>\n",
       "      <td>5</td>\n",
       "      <td>2016</td>\n",
       "    </tr>\n",
       "  </tbody>\n",
       "</table>\n",
       "</div>"
      ],
      "text/plain": [
       "       Country  Happiness Rank    Year      Country  Happiness Rank  Year\n",
       "0  Switzerland             1.0  2015.0      Denmark               1  2016\n",
       "1      Iceland             2.0  2015.0  Switzerland               2  2016\n",
       "2      Denmark             3.0  2015.0      Iceland               3  2016\n",
       "3          NaN             NaN     NaN       Norway               4  2016\n",
       "4          NaN             NaN     NaN      Finland               5  2016"
      ]
     },
     "execution_count": 21,
     "metadata": {},
     "output_type": "execute_result"
    }
   ],
   "source": [
    "#Concatenate axis=1\n",
    "pd.concat([happiness2015[:3][['Country','Happiness Rank','Year']],\n",
    "           happiness2016[:5][['Country','Happiness Rank','Year']]],\n",
    "          axis=1)"
   ]
  },
  {
   "cell_type": "code",
   "execution_count": 22,
   "metadata": {},
   "outputs": [
    {
     "data": {
      "text/html": [
       "<div>\n",
       "<style scoped>\n",
       "    .dataframe tbody tr th:only-of-type {\n",
       "        vertical-align: middle;\n",
       "    }\n",
       "\n",
       "    .dataframe tbody tr th {\n",
       "        vertical-align: top;\n",
       "    }\n",
       "\n",
       "    .dataframe thead th {\n",
       "        text-align: right;\n",
       "    }\n",
       "</style>\n",
       "<table border=\"1\" class=\"dataframe\">\n",
       "  <thead>\n",
       "    <tr style=\"text-align: right;\">\n",
       "      <th></th>\n",
       "      <th>Country</th>\n",
       "      <th>Happiness Rank_2015</th>\n",
       "      <th>Year_2015</th>\n",
       "      <th>Happiness Rank_2016</th>\n",
       "      <th>Year_2016</th>\n",
       "    </tr>\n",
       "  </thead>\n",
       "  <tbody>\n",
       "    <tr>\n",
       "      <th>0</th>\n",
       "      <td>Denmark</td>\n",
       "      <td>3.0</td>\n",
       "      <td>2015.0</td>\n",
       "      <td>NaN</td>\n",
       "      <td>NaN</td>\n",
       "    </tr>\n",
       "    <tr>\n",
       "      <th>1</th>\n",
       "      <td>Norway</td>\n",
       "      <td>4.0</td>\n",
       "      <td>2015.0</td>\n",
       "      <td>4.0</td>\n",
       "      <td>2016.0</td>\n",
       "    </tr>\n",
       "    <tr>\n",
       "      <th>2</th>\n",
       "      <td>Canada</td>\n",
       "      <td>5.0</td>\n",
       "      <td>2015.0</td>\n",
       "      <td>NaN</td>\n",
       "      <td>NaN</td>\n",
       "    </tr>\n",
       "    <tr>\n",
       "      <th>3</th>\n",
       "      <td>Iceland</td>\n",
       "      <td>NaN</td>\n",
       "      <td>NaN</td>\n",
       "      <td>3.0</td>\n",
       "      <td>2016.0</td>\n",
       "    </tr>\n",
       "    <tr>\n",
       "      <th>4</th>\n",
       "      <td>Finland</td>\n",
       "      <td>NaN</td>\n",
       "      <td>NaN</td>\n",
       "      <td>5.0</td>\n",
       "      <td>2016.0</td>\n",
       "    </tr>\n",
       "  </tbody>\n",
       "</table>\n",
       "</div>"
      ],
      "text/plain": [
       "   Country  Happiness Rank_2015  Year_2015  Happiness Rank_2016  Year_2016\n",
       "0  Denmark                  3.0     2015.0                  NaN        NaN\n",
       "1   Norway                  4.0     2015.0                  4.0     2016.0\n",
       "2   Canada                  5.0     2015.0                  NaN        NaN\n",
       "3  Iceland                  NaN        NaN                  3.0     2016.0\n",
       "4  Finland                  NaN        NaN                  5.0     2016.0"
      ]
     },
     "execution_count": 22,
     "metadata": {},
     "output_type": "execute_result"
    }
   ],
   "source": [
    "# Merge df using df.merge() - how can be ['left','right','outer','inner']\n",
    "pd.merge(left=happiness2015.iloc[2:5][['Country','Happiness Rank','Year']],\n",
    "         right=happiness2016.iloc[2:5][['Country','Happiness Rank','Year']],\n",
    "         on='Country',\n",
    "         how='outer',\n",
    "         suffixes=('_2015','_2016'))"
   ]
  },
  {
   "cell_type": "code",
   "execution_count": 23,
   "metadata": {},
   "outputs": [
    {
     "data": {
      "text/html": [
       "<div>\n",
       "<style scoped>\n",
       "    .dataframe tbody tr th:only-of-type {\n",
       "        vertical-align: middle;\n",
       "    }\n",
       "\n",
       "    .dataframe tbody tr th {\n",
       "        vertical-align: top;\n",
       "    }\n",
       "\n",
       "    .dataframe thead th {\n",
       "        text-align: right;\n",
       "    }\n",
       "</style>\n",
       "<table border=\"1\" class=\"dataframe\">\n",
       "  <thead>\n",
       "    <tr style=\"text-align: right;\">\n",
       "      <th></th>\n",
       "      <th>Country_2015</th>\n",
       "      <th>Happiness Rank_2015</th>\n",
       "      <th>Year_2015</th>\n",
       "      <th>Country_2016</th>\n",
       "      <th>Happiness Rank_2016</th>\n",
       "      <th>Year_2016</th>\n",
       "    </tr>\n",
       "  </thead>\n",
       "  <tbody>\n",
       "    <tr>\n",
       "      <th>2</th>\n",
       "      <td>Denmark</td>\n",
       "      <td>3</td>\n",
       "      <td>2015</td>\n",
       "      <td>Iceland</td>\n",
       "      <td>3</td>\n",
       "      <td>2016</td>\n",
       "    </tr>\n",
       "    <tr>\n",
       "      <th>3</th>\n",
       "      <td>Norway</td>\n",
       "      <td>4</td>\n",
       "      <td>2015</td>\n",
       "      <td>Norway</td>\n",
       "      <td>4</td>\n",
       "      <td>2016</td>\n",
       "    </tr>\n",
       "    <tr>\n",
       "      <th>4</th>\n",
       "      <td>Canada</td>\n",
       "      <td>5</td>\n",
       "      <td>2015</td>\n",
       "      <td>Finland</td>\n",
       "      <td>5</td>\n",
       "      <td>2016</td>\n",
       "    </tr>\n",
       "  </tbody>\n",
       "</table>\n",
       "</div>"
      ],
      "text/plain": [
       "  Country_2015  Happiness Rank_2015  Year_2015 Country_2016  \\\n",
       "2      Denmark                    3       2015      Iceland   \n",
       "3       Norway                    4       2015       Norway   \n",
       "4       Canada                    5       2015      Finland   \n",
       "\n",
       "   Happiness Rank_2016  Year_2016  \n",
       "2                    3       2016  \n",
       "3                    4       2016  \n",
       "4                    5       2016  "
      ]
     },
     "execution_count": 23,
     "metadata": {},
     "output_type": "execute_result"
    }
   ],
   "source": [
    "# Merge on Indexes using pd.merge\n",
    "pd.merge(left=happiness2015[2:5][['Country','Happiness Rank','Year']],\n",
    "         right=happiness2016[2:6][['Country','Happiness Rank','Year']],\n",
    "         left_index=True,\n",
    "         right_index=True,\n",
    "         how='left',\n",
    "         suffixes=('_2015','_2016'))"
   ]
  },
  {
   "cell_type": "code",
   "execution_count": 24,
   "metadata": {},
   "outputs": [],
   "source": [
    "import seaborn as sns"
   ]
  },
  {
   "cell_type": "code",
   "execution_count": 25,
   "metadata": {},
   "outputs": [
    {
     "data": {
      "text/plain": [
       "Text(0.5, 0, 'Happiness Score')"
      ]
     },
     "execution_count": 25,
     "metadata": {},
     "output_type": "execute_result"
    },
    {
     "data": {
      "image/png": "[encoded data removed]",
      "text/plain": [
       "<Figure size 432x288 with 1 Axes>"
      ]
     },
     "metadata": {
      "needs_background": "light"
     },
     "output_type": "display_data"
    }
   ],
   "source": [
    "# Did world happiness increase, decrease, or stay about the same from 2015 to 2017?\n",
    "happiness2017.rename(columns={'Happiness.Score':'Happiness Score'}, inplace=True)\n",
    "merged = pd.concat([happiness2015[['Happiness Score','Year']], happiness2016[['Happiness Score','Year']], happiness2017[['Happiness Score','Year']]], ignore_index=True)\n",
    "merged_pivot = merged.pivot_table(values='Happiness Score', index='Year', aggfunc='mean', margins=True)\n",
    "#merged_pivot.plot.barh(xlim=(0,10), figsize=(8,4), title='Average Happiness Score by Year')\n",
    "plt.tick_params(left=False)\n",
    "plt.xticks(range(0,11))\n",
    "plt.xlabel('Happiness Score')\n",
    "#happiness2015.pivot_table(values='Happiness Score', index='Region', aggfunc='mean', margins=True).plot.barh()"
   ]
  },
  {
   "cell_type": "markdown",
   "metadata": {},
   "source": [
    "**--> The World's Average Happiness Score stays the same through year (2015-2017)**"
   ]
  },
  {
   "cell_type": "code",
   "execution_count": 26,
   "metadata": {},
   "outputs": [
    {
     "name": "stdout",
     "output_type": "stream",
     "text": [
      "       Country  Happiness Rank  Happiness Score  Year\n",
      "9    Australia              10            7.284  2015\n",
      "10      Israel              11            7.278  2015\n",
      "11  Costa Rica              12            7.226  2015\n",
      "12     Austria              13            7.200  2015\n",
      "       Country  Happiness Rank  Happiness Score  Year\n",
      "2      Iceland               3            7.501  2016\n",
      "3       Norway               4            7.498  2016\n",
      "4      Finland               5            7.413  2016\n",
      "5       Canada               6            7.404  2016\n",
      "6  Netherlands               7            7.339  2016\n"
     ]
    },
    {
     "data": {
      "text/html": [
       "<div>\n",
       "<style scoped>\n",
       "    .dataframe tbody tr th:only-of-type {\n",
       "        vertical-align: middle;\n",
       "    }\n",
       "\n",
       "    .dataframe tbody tr th {\n",
       "        vertical-align: top;\n",
       "    }\n",
       "\n",
       "    .dataframe thead th {\n",
       "        text-align: right;\n",
       "    }\n",
       "</style>\n",
       "<table border=\"1\" class=\"dataframe\">\n",
       "  <thead>\n",
       "    <tr style=\"text-align: right;\">\n",
       "      <th></th>\n",
       "      <th>Country</th>\n",
       "      <th>Happiness Rank_2015</th>\n",
       "      <th>Happiness Score_2015</th>\n",
       "      <th>Year_2015</th>\n",
       "      <th>Happiness Rank_2016</th>\n",
       "      <th>Happiness Score_2016</th>\n",
       "      <th>Year_2016</th>\n",
       "    </tr>\n",
       "  </thead>\n",
       "  <tbody>\n",
       "    <tr>\n",
       "      <th>0</th>\n",
       "      <td>Australia</td>\n",
       "      <td>10</td>\n",
       "      <td>7.284</td>\n",
       "      <td>2015</td>\n",
       "      <td>NaN</td>\n",
       "      <td>NaN</td>\n",
       "      <td>NaN</td>\n",
       "    </tr>\n",
       "    <tr>\n",
       "      <th>1</th>\n",
       "      <td>Israel</td>\n",
       "      <td>11</td>\n",
       "      <td>7.278</td>\n",
       "      <td>2015</td>\n",
       "      <td>NaN</td>\n",
       "      <td>NaN</td>\n",
       "      <td>NaN</td>\n",
       "    </tr>\n",
       "    <tr>\n",
       "      <th>2</th>\n",
       "      <td>Costa Rica</td>\n",
       "      <td>12</td>\n",
       "      <td>7.226</td>\n",
       "      <td>2015</td>\n",
       "      <td>NaN</td>\n",
       "      <td>NaN</td>\n",
       "      <td>NaN</td>\n",
       "    </tr>\n",
       "    <tr>\n",
       "      <th>3</th>\n",
       "      <td>Austria</td>\n",
       "      <td>13</td>\n",
       "      <td>7.200</td>\n",
       "      <td>2015</td>\n",
       "      <td>NaN</td>\n",
       "      <td>NaN</td>\n",
       "      <td>NaN</td>\n",
       "    </tr>\n",
       "  </tbody>\n",
       "</table>\n",
       "</div>"
      ],
      "text/plain": [
       "      Country  Happiness Rank_2015  Happiness Score_2015  Year_2015  \\\n",
       "0   Australia                   10                 7.284       2015   \n",
       "1      Israel                   11                 7.278       2015   \n",
       "2  Costa Rica                   12                 7.226       2015   \n",
       "3     Austria                   13                 7.200       2015   \n",
       "\n",
       "   Happiness Rank_2016  Happiness Score_2016  Year_2016  \n",
       "0                  NaN                   NaN        NaN  \n",
       "1                  NaN                   NaN        NaN  \n",
       "2                  NaN                   NaN        NaN  \n",
       "3                  NaN                   NaN        NaN  "
      ]
     },
     "execution_count": 26,
     "metadata": {},
     "output_type": "execute_result"
    }
   ],
   "source": [
    "hp2015 = happiness2015[9:13][['Country','Happiness Rank','Happiness Score','Year']]\n",
    "print(hp2015)\n",
    "hp2016 = happiness2016[2:7][['Country','Happiness Rank','Happiness Score','Year']]\n",
    "print(hp2016)\n",
    "pd.merge(left=hp2015,right=hp2016, on='Country', how='left', suffixes=('_2015','_2016'))"
   ]
  },
  {
   "cell_type": "code",
   "execution_count": 32,
   "metadata": {},
   "outputs": [
    {
     "data": {
      "text/plain": [
       "<seaborn.axisgrid.FacetGrid at 0x1b97f5ce278>"
      ]
     },
     "execution_count": 32,
     "metadata": {},
     "output_type": "execute_result"
    },
    {
     "data": {
      "image/png": "[encoded data removed]",
      "text/plain": [
       "<Figure size 277.375x2160 with 10 Axes>"
      ]
     },
     "metadata": {
      "needs_background": "light"
     },
     "output_type": "display_data"
    }
   ],
   "source": [
    "# Create Scatter Plot using seaborn.relplot()\n",
    "merged = pd.concat([happiness2015, happiness2016], ignore_index=True, sort=False)\n",
    "import seaborn as sns\n",
    "sns.relplot(data=merged, x='Family', y='Happiness Score', row='Region', hue='Year',kind='scatter', height=3)"
   ]
  },
  {
   "cell_type": "code",
   "execution_count": 33,
   "metadata": {},
   "outputs": [
    {
     "data": {
      "text/plain": [
       "<seaborn.axisgrid.FacetGrid at 0x1b9014b4630>"
      ]
     },
     "execution_count": 33,
     "metadata": {},
     "output_type": "execute_result"
    },
    {
     "data": {
      "image/png": "[encoded data removed]",
      "text/plain": [
       "<Figure size 915.75x360 with 2 Axes>"
      ]
     },
     "metadata": {
      "needs_background": "light"
     },
     "output_type": "display_data"
    }
   ],
   "source": [
    "#Create Multiple Line Plots using seaborn.relplot()\n",
    "sns.relplot(data=merged, x='Freedom', y='Happiness Score', hue='Region', col='Year', kind='scatter')"
   ]
  },
  {
   "cell_type": "code",
   "execution_count": 34,
   "metadata": {},
   "outputs": [
    {
     "data": {
      "text/html": [
       "<div>\n",
       "<style scoped>\n",
       "    .dataframe tbody tr th:only-of-type {\n",
       "        vertical-align: middle;\n",
       "    }\n",
       "\n",
       "    .dataframe tbody tr th {\n",
       "        vertical-align: top;\n",
       "    }\n",
       "\n",
       "    .dataframe thead th {\n",
       "        text-align: right;\n",
       "    }\n",
       "</style>\n",
       "<table border=\"1\" class=\"dataframe\">\n",
       "  <thead>\n",
       "    <tr style=\"text-align: right;\">\n",
       "      <th></th>\n",
       "      <th>Country</th>\n",
       "      <th>Region</th>\n",
       "      <th>Happiness Rank</th>\n",
       "      <th>Happiness Score</th>\n",
       "      <th>Standard Error</th>\n",
       "      <th>Economy</th>\n",
       "      <th>Family</th>\n",
       "      <th>Health</th>\n",
       "      <th>Freedom</th>\n",
       "      <th>Trust</th>\n",
       "      <th>Generosity</th>\n",
       "      <th>Dystopia Residual</th>\n",
       "      <th>Year</th>\n",
       "    </tr>\n",
       "  </thead>\n",
       "  <tbody>\n",
       "    <tr>\n",
       "      <th>0</th>\n",
       "      <td>Switzerland</td>\n",
       "      <td>Western Europe</td>\n",
       "      <td>1</td>\n",
       "      <td>7.587</td>\n",
       "      <td>0.03411</td>\n",
       "      <td>1.39651</td>\n",
       "      <td>1.34951</td>\n",
       "      <td>0.94143</td>\n",
       "      <td>0.66557</td>\n",
       "      <td>0.41978</td>\n",
       "      <td>0.29678</td>\n",
       "      <td>2.51738</td>\n",
       "      <td>2015</td>\n",
       "    </tr>\n",
       "    <tr>\n",
       "      <th>1</th>\n",
       "      <td>Iceland</td>\n",
       "      <td>Western Europe</td>\n",
       "      <td>2</td>\n",
       "      <td>7.561</td>\n",
       "      <td>0.04884</td>\n",
       "      <td>1.30232</td>\n",
       "      <td>1.40223</td>\n",
       "      <td>0.94784</td>\n",
       "      <td>0.62877</td>\n",
       "      <td>0.14145</td>\n",
       "      <td>0.43630</td>\n",
       "      <td>2.70201</td>\n",
       "      <td>2015</td>\n",
       "    </tr>\n",
       "    <tr>\n",
       "      <th>2</th>\n",
       "      <td>Denmark</td>\n",
       "      <td>Western Europe</td>\n",
       "      <td>3</td>\n",
       "      <td>7.527</td>\n",
       "      <td>0.03328</td>\n",
       "      <td>1.32548</td>\n",
       "      <td>1.36058</td>\n",
       "      <td>0.87464</td>\n",
       "      <td>0.64938</td>\n",
       "      <td>0.48357</td>\n",
       "      <td>0.34139</td>\n",
       "      <td>2.49204</td>\n",
       "      <td>2015</td>\n",
       "    </tr>\n",
       "  </tbody>\n",
       "</table>\n",
       "</div>"
      ],
      "text/plain": [
       "       Country          Region  Happiness Rank  Happiness Score  \\\n",
       "0  Switzerland  Western Europe               1            7.587   \n",
       "1      Iceland  Western Europe               2            7.561   \n",
       "2      Denmark  Western Europe               3            7.527   \n",
       "\n",
       "   Standard Error  Economy   Family   Health  Freedom    Trust  Generosity  \\\n",
       "0         0.03411  1.39651  1.34951  0.94143  0.66557  0.41978     0.29678   \n",
       "1         0.04884  1.30232  1.40223  0.94784  0.62877  0.14145     0.43630   \n",
       "2         0.03328  1.32548  1.36058  0.87464  0.64938  0.48357     0.34139   \n",
       "\n",
       "   Dystopia Residual  Year  \n",
       "0            2.51738  2015  \n",
       "1            2.70201  2015  \n",
       "2            2.49204  2015  "
      ]
     },
     "execution_count": 34,
     "metadata": {},
     "output_type": "execute_result"
    }
   ],
   "source": [
    "happiness2015.rename(columns={'Economy (GDP per Capita)': 'Economy',\n",
    "                     'Health (Life Expectancy)': 'Health',\n",
    "                     'Trust (Government Corruption)': 'Trust'}, inplace=True)\n",
    "happiness2015.head(3)"
   ]
  },
  {
   "cell_type": "code",
   "execution_count": 35,
   "metadata": {},
   "outputs": [
    {
     "data": {
      "text/plain": [
       "True"
      ]
     },
     "execution_count": 35,
     "metadata": {},
     "output_type": "execute_result"
    }
   ],
   "source": [
    "# Transform data using series.map(func) or series.apply(func)\n",
    "def label(number):\n",
    "    if number > 1:\n",
    "        return 'High'\n",
    "    else:\n",
    "        return 'Low'\n",
    "test_1 = happiness2015['Economy'].map(label)\n",
    "test_2 = happiness2015['Economy'].apply(label)\n",
    "test_1.equals(test_2)"
   ]
  },
  {
   "cell_type": "code",
   "execution_count": 36,
   "metadata": {},
   "outputs": [
    {
     "data": {
      "text/html": [
       "<div>\n",
       "<style scoped>\n",
       "    .dataframe tbody tr th:only-of-type {\n",
       "        vertical-align: middle;\n",
       "    }\n",
       "\n",
       "    .dataframe tbody tr th {\n",
       "        vertical-align: top;\n",
       "    }\n",
       "\n",
       "    .dataframe thead th {\n",
       "        text-align: right;\n",
       "    }\n",
       "</style>\n",
       "<table border=\"1\" class=\"dataframe\">\n",
       "  <thead>\n",
       "    <tr style=\"text-align: right;\">\n",
       "      <th></th>\n",
       "      <th>Economy</th>\n",
       "      <th>Family</th>\n",
       "      <th>Health</th>\n",
       "      <th>Freedom</th>\n",
       "      <th>Trust</th>\n",
       "      <th>Generosity</th>\n",
       "    </tr>\n",
       "  </thead>\n",
       "  <tbody>\n",
       "    <tr>\n",
       "      <th>High</th>\n",
       "      <td>66</td>\n",
       "      <td>89</td>\n",
       "      <td>2</td>\n",
       "      <td>NaN</td>\n",
       "      <td>NaN</td>\n",
       "      <td>NaN</td>\n",
       "    </tr>\n",
       "    <tr>\n",
       "      <th>Low</th>\n",
       "      <td>92</td>\n",
       "      <td>69</td>\n",
       "      <td>156</td>\n",
       "      <td>158.0</td>\n",
       "      <td>158.0</td>\n",
       "      <td>158.0</td>\n",
       "    </tr>\n",
       "  </tbody>\n",
       "</table>\n",
       "</div>"
      ],
      "text/plain": [
       "      Economy  Family  Health  Freedom  Trust  Generosity\n",
       "High       66      89       2      NaN    NaN         NaN\n",
       "Low        92      69     156    158.0  158.0       158.0"
      ]
     },
     "execution_count": 36,
     "metadata": {},
     "output_type": "execute_result"
    }
   ],
   "source": [
    "# Use df.applymap(func) to apply func to all df\n",
    "factor_impact = happiness2015[['Economy','Family','Health','Freedom','Trust','Generosity']].applymap(label)\n",
    "factor_impact.apply(pd.value_counts)"
   ]
  },
  {
   "cell_type": "code",
   "execution_count": 37,
   "metadata": {},
   "outputs": [
    {
     "data": {
      "text/html": [
       "<div>\n",
       "<style scoped>\n",
       "    .dataframe tbody tr th:only-of-type {\n",
       "        vertical-align: middle;\n",
       "    }\n",
       "\n",
       "    .dataframe tbody tr th {\n",
       "        vertical-align: top;\n",
       "    }\n",
       "\n",
       "    .dataframe thead th {\n",
       "        text-align: right;\n",
       "    }\n",
       "</style>\n",
       "<table border=\"1\" class=\"dataframe\">\n",
       "  <thead>\n",
       "    <tr style=\"text-align: right;\">\n",
       "      <th></th>\n",
       "      <th>Economy</th>\n",
       "      <th>Family</th>\n",
       "      <th>Health</th>\n",
       "      <th>Freedom</th>\n",
       "      <th>Trust</th>\n",
       "      <th>Generosity</th>\n",
       "    </tr>\n",
       "  </thead>\n",
       "  <tbody>\n",
       "    <tr>\n",
       "      <th>High</th>\n",
       "      <td>41.772152</td>\n",
       "      <td>56.329114</td>\n",
       "      <td>1.265823</td>\n",
       "      <td>NaN</td>\n",
       "      <td>NaN</td>\n",
       "      <td>NaN</td>\n",
       "    </tr>\n",
       "    <tr>\n",
       "      <th>Low</th>\n",
       "      <td>58.227848</td>\n",
       "      <td>43.670886</td>\n",
       "      <td>98.734177</td>\n",
       "      <td>100.0</td>\n",
       "      <td>100.0</td>\n",
       "      <td>100.0</td>\n",
       "    </tr>\n",
       "  </tbody>\n",
       "</table>\n",
       "</div>"
      ],
      "text/plain": [
       "        Economy     Family     Health  Freedom  Trust  Generosity\n",
       "High  41.772152  56.329114   1.265823      NaN    NaN         NaN\n",
       "Low   58.227848  43.670886  98.734177    100.0  100.0       100.0"
      ]
     },
     "execution_count": 37,
     "metadata": {},
     "output_type": "execute_result"
    }
   ],
   "source": [
    "#Use df.apply(func) to apply func to all Series (with condition that is func only apply for Series)\n",
    "def perc(col):\n",
    "    return col.value_counts()/col.size*100\n",
    "factor_impact.apply(perc)"
   ]
  },
  {
   "cell_type": "code",
   "execution_count": 38,
   "metadata": {},
   "outputs": [
    {
     "data": {
      "text/plain": [
       "<matplotlib.axes._subplots.AxesSubplot at 0x1b90127a278>"
      ]
     },
     "execution_count": 38,
     "metadata": {},
     "output_type": "execute_result"
    },
    {
     "data": {
      "image/png": "[encoded data removed]",
      "text/plain": [
       "<Figure size 432x288 with 1 Axes>"
      ]
     },
     "metadata": {},
     "output_type": "display_data"
    }
   ],
   "source": [
    "#Since the 'Happiness Score' are sum of all the factors' scores, we'll convert the factors' scores to percentages\n",
    "factors=['Economy','Family','Health','Freedom','Trust','Generosity','Dystopia Residual']\n",
    "def percent(col):\n",
    "    return col/happiness2015['Happiness Score']*100\n",
    "factors_percent = happiness2015[factors].apply(percent)\n",
    "#factors_percent[:10].plot.barh(y=factors, stacked=True, legend=False, colormap='gist_rainbow', xlim=(0,100))\n",
    "factors_percent.iloc[0].plot.pie(colormap='gist_rainbow', title='Factors Impact')"
   ]
  },
  {
   "cell_type": "code",
   "execution_count": 39,
   "metadata": {},
   "outputs": [
    {
     "data": {
      "text/html": [
       "<div>\n",
       "<style scoped>\n",
       "    .dataframe tbody tr th:only-of-type {\n",
       "        vertical-align: middle;\n",
       "    }\n",
       "\n",
       "    .dataframe tbody tr th {\n",
       "        vertical-align: top;\n",
       "    }\n",
       "\n",
       "    .dataframe thead th {\n",
       "        text-align: right;\n",
       "    }\n",
       "</style>\n",
       "<table border=\"1\" class=\"dataframe\">\n",
       "  <thead>\n",
       "    <tr style=\"text-align: right;\">\n",
       "      <th></th>\n",
       "      <th>Country</th>\n",
       "      <th>Region</th>\n",
       "      <th>Happiness Rank</th>\n",
       "      <th>Happiness Score</th>\n",
       "      <th>variable</th>\n",
       "      <th>value</th>\n",
       "      <th>Percentage</th>\n",
       "    </tr>\n",
       "  </thead>\n",
       "  <tbody>\n",
       "    <tr>\n",
       "      <th>0</th>\n",
       "      <td>Switzerland</td>\n",
       "      <td>Western Europe</td>\n",
       "      <td>1</td>\n",
       "      <td>7.587</td>\n",
       "      <td>Economy</td>\n",
       "      <td>1.39651</td>\n",
       "      <td>18.41</td>\n",
       "    </tr>\n",
       "    <tr>\n",
       "      <th>1</th>\n",
       "      <td>Iceland</td>\n",
       "      <td>Western Europe</td>\n",
       "      <td>2</td>\n",
       "      <td>7.561</td>\n",
       "      <td>Economy</td>\n",
       "      <td>1.30232</td>\n",
       "      <td>17.22</td>\n",
       "    </tr>\n",
       "    <tr>\n",
       "      <th>2</th>\n",
       "      <td>Denmark</td>\n",
       "      <td>Western Europe</td>\n",
       "      <td>3</td>\n",
       "      <td>7.527</td>\n",
       "      <td>Economy</td>\n",
       "      <td>1.32548</td>\n",
       "      <td>17.61</td>\n",
       "    </tr>\n",
       "  </tbody>\n",
       "</table>\n",
       "</div>"
      ],
      "text/plain": [
       "       Country          Region  Happiness Rank  Happiness Score variable  \\\n",
       "0  Switzerland  Western Europe               1            7.587  Economy   \n",
       "1      Iceland  Western Europe               2            7.561  Economy   \n",
       "2      Denmark  Western Europe               3            7.527  Economy   \n",
       "\n",
       "     value  Percentage  \n",
       "0  1.39651       18.41  \n",
       "1  1.30232       17.22  \n",
       "2  1.32548       17.61  "
      ]
     },
     "execution_count": 39,
     "metadata": {},
     "output_type": "execute_result"
    }
   ],
   "source": [
    "# Use pd.melt() to reshape the Df\n",
    "melt = pd.melt(happiness2015, id_vars=['Country','Region','Happiness Rank','Happiness Score'],\n",
    "        value_vars=['Economy','Family','Health','Freedom','Trust','Generosity','Dystopia Residual'])\n",
    "melt['Percentage'] = round(melt['value']/melt['Happiness Score']*100,2)\n",
    "melt.head(3)"
   ]
  },
  {
   "cell_type": "code",
   "execution_count": 40,
   "metadata": {},
   "outputs": [
    {
     "data": {
      "text/plain": [
       "<matplotlib.axes._subplots.AxesSubplot at 0x1b901314128>"
      ]
     },
     "execution_count": 40,
     "metadata": {},
     "output_type": "execute_result"
    },
    {
     "data": {
      "image/png": "[encoded data removed]",
      "text/plain": [
       "<Figure size 432x288 with 1 Axes>"
      ]
     },
     "metadata": {},
     "output_type": "display_data"
    }
   ],
   "source": [
    "#melt.groupby('variable')['Percentage'].agg('mean').plot.pie()\n",
    "melt.pivot_table(index='variable', values='value', aggfunc='mean').plot.pie(y='value', legend=False)"
   ]
  },
  {
   "cell_type": "code",
   "execution_count": 41,
   "metadata": {},
   "outputs": [
    {
     "data": {
      "text/html": [
       "<div>\n",
       "<style scoped>\n",
       "    .dataframe tbody tr th:only-of-type {\n",
       "        vertical-align: middle;\n",
       "    }\n",
       "\n",
       "    .dataframe tbody tr th {\n",
       "        vertical-align: top;\n",
       "    }\n",
       "\n",
       "    .dataframe thead th {\n",
       "        text-align: right;\n",
       "    }\n",
       "</style>\n",
       "<table border=\"1\" class=\"dataframe\">\n",
       "  <thead>\n",
       "    <tr style=\"text-align: right;\">\n",
       "      <th>variable</th>\n",
       "      <th>Dystopia Residual</th>\n",
       "      <th>Economy</th>\n",
       "      <th>Family</th>\n",
       "      <th>Freedom</th>\n",
       "      <th>Generosity</th>\n",
       "      <th>Health</th>\n",
       "      <th>Trust</th>\n",
       "    </tr>\n",
       "    <tr>\n",
       "      <th>Country</th>\n",
       "      <th></th>\n",
       "      <th></th>\n",
       "      <th></th>\n",
       "      <th></th>\n",
       "      <th></th>\n",
       "      <th></th>\n",
       "      <th></th>\n",
       "    </tr>\n",
       "  </thead>\n",
       "  <tbody>\n",
       "    <tr>\n",
       "      <th>Afghanistan</th>\n",
       "      <td>1.95210</td>\n",
       "      <td>0.31982</td>\n",
       "      <td>0.30285</td>\n",
       "      <td>0.23414</td>\n",
       "      <td>0.36510</td>\n",
       "      <td>0.30335</td>\n",
       "      <td>0.09719</td>\n",
       "    </tr>\n",
       "    <tr>\n",
       "      <th>Albania</th>\n",
       "      <td>1.89894</td>\n",
       "      <td>0.87867</td>\n",
       "      <td>0.80434</td>\n",
       "      <td>0.35733</td>\n",
       "      <td>0.14272</td>\n",
       "      <td>0.81325</td>\n",
       "      <td>0.06413</td>\n",
       "    </tr>\n",
       "    <tr>\n",
       "      <th>Algeria</th>\n",
       "      <td>2.43209</td>\n",
       "      <td>0.93929</td>\n",
       "      <td>1.07772</td>\n",
       "      <td>0.28579</td>\n",
       "      <td>0.07822</td>\n",
       "      <td>0.61766</td>\n",
       "      <td>0.17383</td>\n",
       "    </tr>\n",
       "  </tbody>\n",
       "</table>\n",
       "</div>"
      ],
      "text/plain": [
       "variable     Dystopia Residual  Economy   Family  Freedom  Generosity  \\\n",
       "Country                                                                 \n",
       "Afghanistan            1.95210  0.31982  0.30285  0.23414     0.36510   \n",
       "Albania                1.89894  0.87867  0.80434  0.35733     0.14272   \n",
       "Algeria                2.43209  0.93929  1.07772  0.28579     0.07822   \n",
       "\n",
       "variable      Health    Trust  \n",
       "Country                        \n",
       "Afghanistan  0.30335  0.09719  \n",
       "Albania      0.81325  0.06413  \n",
       "Algeria      0.61766  0.17383  "
      ]
     },
     "execution_count": 41,
     "metadata": {},
     "output_type": "execute_result"
    }
   ],
   "source": [
    "# Reshape the Df using df.pivot(index, columns, values)\n",
    "melt_reshape = melt.pivot(index='Country', columns='variable', values='value')\n",
    "melt_reshape.head(3)"
   ]
  },
  {
   "cell_type": "code",
   "execution_count": 42,
   "metadata": {},
   "outputs": [
    {
     "data": {
      "text/plain": [
       "Index(['Country', 'Region', 'Happiness Rank', 'Happiness Score',\n",
       "       'Standard Error', 'Economy', 'Family', 'Health', 'Freedom', 'Trust',\n",
       "       'Generosity', 'Dystopia Residual', 'Year'],\n",
       "      dtype='object')"
      ]
     },
     "execution_count": 42,
     "metadata": {},
     "output_type": "execute_result"
    }
   ],
   "source": [
    "happiness2015.columns"
   ]
  },
  {
   "cell_type": "code",
   "execution_count": 43,
   "metadata": {},
   "outputs": [
    {
     "data": {
      "text/html": [
       "<div>\n",
       "<style scoped>\n",
       "    .dataframe tbody tr th:only-of-type {\n",
       "        vertical-align: middle;\n",
       "    }\n",
       "\n",
       "    .dataframe tbody tr th {\n",
       "        vertical-align: top;\n",
       "    }\n",
       "\n",
       "    .dataframe thead th {\n",
       "        text-align: right;\n",
       "    }\n",
       "</style>\n",
       "<table border=\"1\" class=\"dataframe\">\n",
       "  <thead>\n",
       "    <tr style=\"text-align: right;\">\n",
       "      <th></th>\n",
       "      <th>CountryCode</th>\n",
       "      <th>ShortName</th>\n",
       "      <th>TableName</th>\n",
       "      <th>LongName</th>\n",
       "      <th>Alpha2Code</th>\n",
       "      <th>CurrencyUnit</th>\n",
       "      <th>SpecialNotes</th>\n",
       "      <th>Region</th>\n",
       "      <th>IncomeGroup</th>\n",
       "      <th>Wb2Code</th>\n",
       "      <th>...</th>\n",
       "      <th>GovernmentAccountingConcept</th>\n",
       "      <th>ImfDataDisseminationStandard</th>\n",
       "      <th>LatestPopulationCensus</th>\n",
       "      <th>LatestHouseholdSurvey</th>\n",
       "      <th>SourceOfMostRecentIncomeAndExpenditureData</th>\n",
       "      <th>VitalRegistrationComplete</th>\n",
       "      <th>LatestAgriculturalCensus</th>\n",
       "      <th>LatestIndustrialData</th>\n",
       "      <th>LatestTradeData</th>\n",
       "      <th>LatestWaterWithdrawalData</th>\n",
       "    </tr>\n",
       "  </thead>\n",
       "  <tbody>\n",
       "    <tr>\n",
       "      <th>0</th>\n",
       "      <td>AFG</td>\n",
       "      <td>Afghanistan</td>\n",
       "      <td>Afghanistan</td>\n",
       "      <td>Islamic State of Afghanistan</td>\n",
       "      <td>AF</td>\n",
       "      <td>Afghan afghani</td>\n",
       "      <td>Fiscal year end: March 20; reporting period fo...</td>\n",
       "      <td>South Asia</td>\n",
       "      <td>Low income</td>\n",
       "      <td>AF</td>\n",
       "      <td>...</td>\n",
       "      <td>Consolidated central government</td>\n",
       "      <td>General Data Dissemination System (GDDS)</td>\n",
       "      <td>1979</td>\n",
       "      <td>Multiple Indicator Cluster Survey (MICS), 2010/11</td>\n",
       "      <td>Integrated household survey (IHS), 2008</td>\n",
       "      <td>NaN</td>\n",
       "      <td>2013/14</td>\n",
       "      <td>NaN</td>\n",
       "      <td>2013.0</td>\n",
       "      <td>2000.0</td>\n",
       "    </tr>\n",
       "    <tr>\n",
       "      <th>1</th>\n",
       "      <td>ALB</td>\n",
       "      <td>Albania</td>\n",
       "      <td>Albania</td>\n",
       "      <td>Republic of Albania</td>\n",
       "      <td>AL</td>\n",
       "      <td>Albanian lek</td>\n",
       "      <td>NaN</td>\n",
       "      <td>Europe &amp; Central Asia</td>\n",
       "      <td>Upper middle income</td>\n",
       "      <td>AL</td>\n",
       "      <td>...</td>\n",
       "      <td>Budgetary central government</td>\n",
       "      <td>General Data Dissemination System (GDDS)</td>\n",
       "      <td>2011</td>\n",
       "      <td>Demographic and Health Survey (DHS), 2008/09</td>\n",
       "      <td>Living Standards Measurement Study Survey (LSM...</td>\n",
       "      <td>Yes</td>\n",
       "      <td>2012</td>\n",
       "      <td>2011.0</td>\n",
       "      <td>2013.0</td>\n",
       "      <td>2006.0</td>\n",
       "    </tr>\n",
       "    <tr>\n",
       "      <th>2</th>\n",
       "      <td>DZA</td>\n",
       "      <td>Algeria</td>\n",
       "      <td>Algeria</td>\n",
       "      <td>People's Democratic Republic of Algeria</td>\n",
       "      <td>DZ</td>\n",
       "      <td>Algerian dinar</td>\n",
       "      <td>NaN</td>\n",
       "      <td>Middle East &amp; North Africa</td>\n",
       "      <td>Upper middle income</td>\n",
       "      <td>DZ</td>\n",
       "      <td>...</td>\n",
       "      <td>Budgetary central government</td>\n",
       "      <td>General Data Dissemination System (GDDS)</td>\n",
       "      <td>2008</td>\n",
       "      <td>Multiple Indicator Cluster Survey (MICS), 2012</td>\n",
       "      <td>Integrated household survey (IHS), 1995</td>\n",
       "      <td>NaN</td>\n",
       "      <td>NaN</td>\n",
       "      <td>2010.0</td>\n",
       "      <td>2013.0</td>\n",
       "      <td>2001.0</td>\n",
       "    </tr>\n",
       "  </tbody>\n",
       "</table>\n",
       "<p>3 rows × 31 columns</p>\n",
       "</div>"
      ],
      "text/plain": [
       "  CountryCode    ShortName    TableName  \\\n",
       "0         AFG  Afghanistan  Afghanistan   \n",
       "1         ALB      Albania      Albania   \n",
       "2         DZA      Algeria      Algeria   \n",
       "\n",
       "                                  LongName Alpha2Code    CurrencyUnit  \\\n",
       "0             Islamic State of Afghanistan         AF  Afghan afghani   \n",
       "1                      Republic of Albania         AL    Albanian lek   \n",
       "2  People's Democratic Republic of Algeria         DZ  Algerian dinar   \n",
       "\n",
       "                                        SpecialNotes  \\\n",
       "0  Fiscal year end: March 20; reporting period fo...   \n",
       "1                                                NaN   \n",
       "2                                                NaN   \n",
       "\n",
       "                       Region          IncomeGroup Wb2Code  ...  \\\n",
       "0                  South Asia           Low income      AF  ...   \n",
       "1       Europe & Central Asia  Upper middle income      AL  ...   \n",
       "2  Middle East & North Africa  Upper middle income      DZ  ...   \n",
       "\n",
       "       GovernmentAccountingConcept              ImfDataDisseminationStandard  \\\n",
       "0  Consolidated central government  General Data Dissemination System (GDDS)   \n",
       "1     Budgetary central government  General Data Dissemination System (GDDS)   \n",
       "2     Budgetary central government  General Data Dissemination System (GDDS)   \n",
       "\n",
       "  LatestPopulationCensus                              LatestHouseholdSurvey  \\\n",
       "0                   1979  Multiple Indicator Cluster Survey (MICS), 2010/11   \n",
       "1                   2011       Demographic and Health Survey (DHS), 2008/09   \n",
       "2                   2008     Multiple Indicator Cluster Survey (MICS), 2012   \n",
       "\n",
       "          SourceOfMostRecentIncomeAndExpenditureData  \\\n",
       "0            Integrated household survey (IHS), 2008   \n",
       "1  Living Standards Measurement Study Survey (LSM...   \n",
       "2            Integrated household survey (IHS), 1995   \n",
       "\n",
       "  VitalRegistrationComplete LatestAgriculturalCensus LatestIndustrialData  \\\n",
       "0                       NaN                  2013/14                  NaN   \n",
       "1                       Yes                     2012               2011.0   \n",
       "2                       NaN                      NaN               2010.0   \n",
       "\n",
       "  LatestTradeData LatestWaterWithdrawalData  \n",
       "0          2013.0                    2000.0  \n",
       "1          2013.0                    2006.0  \n",
       "2          2013.0                    2001.0  \n",
       "\n",
       "[3 rows x 31 columns]"
      ]
     },
     "execution_count": 43,
     "metadata": {},
     "output_type": "execute_result"
    }
   ],
   "source": [
    "world_dev = pd.read_csv('World_dev.csv')\n",
    "world_dev.head(3)"
   ]
  },
  {
   "cell_type": "code",
   "execution_count": 44,
   "metadata": {},
   "outputs": [
    {
     "data": {
      "text/plain": [
       "Index(['CountryCode', 'ShortName', 'TableName', 'LongName', 'Alpha2Code',\n",
       "       'CurrencyUnit', 'SpecialNotes', 'Region', 'IncomeGroup', 'Wb2Code',\n",
       "       'NationalAccountsBaseYear', 'NationalAccountsReferenceYear',\n",
       "       'SnaPriceValuation', 'LendingCategory', 'OtherGroups',\n",
       "       'SystemOfNationalAccounts', 'AlternativeConversionFactor',\n",
       "       'PppSurveyYear', 'BalanceOfPaymentsManualInUse',\n",
       "       'ExternalDebtReportingStatus', 'SystemOfTrade',\n",
       "       'GovernmentAccountingConcept', 'ImfDataDisseminationStandard',\n",
       "       'LatestPopulationCensus', 'LatestHouseholdSurvey',\n",
       "       'SourceOfMostRecentIncomeAndExpenditureData',\n",
       "       'VitalRegistrationComplete', 'LatestAgriculturalCensus',\n",
       "       'LatestIndustrialData', 'LatestTradeData', 'LatestWaterWithdrawalData'],\n",
       "      dtype='object')"
      ]
     },
     "execution_count": 44,
     "metadata": {},
     "output_type": "execute_result"
    }
   ],
   "source": [
    "world_dev.columns"
   ]
  },
  {
   "cell_type": "code",
   "execution_count": 45,
   "metadata": {},
   "outputs": [
    {
     "data": {
      "text/plain": [
       "(247,)"
      ]
     },
     "execution_count": 45,
     "metadata": {},
     "output_type": "execute_result"
    }
   ],
   "source": [
    "world_dev['ShortName'].unique().shape"
   ]
  },
  {
   "cell_type": "code",
   "execution_count": 46,
   "metadata": {},
   "outputs": [
    {
     "data": {
      "text/plain": [
       "Index(['Country', 'Region_x', 'Happiness Rank', 'Happiness Score',\n",
       "       'Standard Error', 'Economy', 'Family', 'Health', 'Freedom', 'Trust',\n",
       "       'Generosity', 'Dystopia Residual', 'Year', 'CountryCode', 'ShortName',\n",
       "       'TableName', 'LongName', 'Alpha2Code', 'CurrencyUnit', 'SpecialNotes',\n",
       "       'Region_y', 'IncomeGroup', 'Wb2Code', 'NationalAccountsBaseYear',\n",
       "       'NationalAccountsReferenceYear', 'SnaPriceValuation', 'LendingCategory',\n",
       "       'OtherGroups', 'SystemOfNationalAccounts',\n",
       "       'AlternativeConversionFactor', 'PppSurveyYear',\n",
       "       'BalanceOfPaymentsManualInUse', 'ExternalDebtReportingStatus',\n",
       "       'SystemOfTrade', 'GovernmentAccountingConcept',\n",
       "       'ImfDataDisseminationStandard', 'LatestPopulationCensus',\n",
       "       'LatestHouseholdSurvey', 'IESurvey', 'VitalRegistrationComplete',\n",
       "       'LatestAgriculturalCensus', 'LatestIndustrialData', 'LatestTradeData',\n",
       "       'LatestWaterWithdrawalData'],\n",
       "      dtype='object')"
      ]
     },
     "execution_count": 46,
     "metadata": {},
     "output_type": "execute_result"
    }
   ],
   "source": [
    "# Merge 'happiness2015' & 'world_dev', keep the rows in 'happiness2015'\n",
    "merged = pd.merge(left=happiness2015, right=world_dev, how='left',\n",
    "                 left_on='Country', right_on='ShortName')\n",
    "merged.rename(columns={'SourceOfMostRecentIncomeAndExpenditureData': 'IESurvey'}, inplace=True)\n",
    "merged.columns"
   ]
  },
  {
   "cell_type": "code",
   "execution_count": 47,
   "metadata": {},
   "outputs": [
    {
     "data": {
      "text/plain": [
       "0         franc\n",
       "1         krona\n",
       "2         krone\n",
       "3         krone\n",
       "4        dollar\n",
       "5          Euro\n",
       "6          Euro\n",
       "7         krona\n",
       "8        dollar\n",
       "9        dollar\n",
       "10       shekel\n",
       "11        colon\n",
       "12         Euro\n",
       "13         peso\n",
       "14       dollar\n",
       "15         real\n",
       "16         Euro\n",
       "17         Euro\n",
       "18         Euro\n",
       "19       dirham\n",
       "20     sterling\n",
       "21        Omani\n",
       "22       fuerte\n",
       "23       dollar\n",
       "24       balboa\n",
       "25         Euro\n",
       "26         peso\n",
       "27        riyal\n",
       "28         Euro\n",
       "29         peso\n",
       "         ...   \n",
       "128        kyat\n",
       "129        lari\n",
       "130      kwacha\n",
       "131       rupee\n",
       "132       franc\n",
       "133         lev\n",
       "134       pound\n",
       "135        rial\n",
       "136      kwanza\n",
       "137       franc\n",
       "138         nan\n",
       "139       franc\n",
       "140    shilling\n",
       "141       franc\n",
       "142       franc\n",
       "143       franc\n",
       "144        riel\n",
       "145    shilling\n",
       "146      ariary\n",
       "147       franc\n",
       "148       franc\n",
       "149       franc\n",
       "150         nan\n",
       "151       franc\n",
       "152     afghani\n",
       "153       franc\n",
       "154       franc\n",
       "155         nan\n",
       "156       franc\n",
       "157       franc\n",
       "Name: CurrencyUnit, Length: 158, dtype: object"
      ]
     },
     "execution_count": 47,
     "metadata": {},
     "output_type": "execute_result"
    }
   ],
   "source": [
    "# Use series.apply(func) to split str from a str\n",
    "def last_cur(cur):\n",
    "    return str(cur).split()[-1]\n",
    "merged['CurrencyUnit'].apply(last_cur)"
   ]
  },
  {
   "cell_type": "code",
   "execution_count": 48,
   "metadata": {},
   "outputs": [
    {
     "data": {
      "text/plain": [
       "0    Expenditure survey/budget survey (ES/BS), 2004\n",
       "1           Integrated household survey (IHS), 2010\n",
       "2                  Income tax registers (ITR), 2010\n",
       "3                          Income survey (IS), 2010\n",
       "4                    Labor force survey (LFS), 2010\n",
       "Name: IESurvey, dtype: object"
      ]
     },
     "execution_count": 48,
     "metadata": {},
     "output_type": "execute_result"
    }
   ],
   "source": [
    "#merged['CurrencyUnit'].str.split().str[-1]\n",
    "#merged['CurrencyUnit'].str.len()\n",
    "#national_accounts = merged['SpecialNotes'].str.contains(r'[Nn]ational accounts', na=False, regex=True)\n",
    "#merged[national_accounts]['SpecialNotes'].iloc[1]\n",
    "#merged['SpecialNotes'].str.extract(r'([1-2][0-9][0-9][0-9])', expand=True)\n",
    "#merged['SpecialNotes'].str.extract(r'([1-2][0-9]{3})', expand=True)\n",
    "merged['IESurvey'].head()"
   ]
  },
  {
   "cell_type": "code",
   "execution_count": 49,
   "metadata": {},
   "outputs": [
    {
     "data": {
      "text/plain": [
       "2012    33\n",
       "2010    28\n",
       "2011    22\n",
       "2013    12\n",
       "2009     8\n",
       "2005     6\n",
       "2008     6\n",
       "2007     4\n",
       "2004     3\n",
       "2006     1\n",
       "1992     1\n",
       "2000     1\n",
       "1995     1\n",
       "1999     1\n",
       "2002     1\n",
       "1998     1\n",
       "2003     1\n",
       "Name: Years, dtype: int64"
      ]
     },
     "execution_count": 49,
     "metadata": {},
     "output_type": "execute_result"
    }
   ],
   "source": [
    "merged.set_index('Country')['IESurvey'].str.extractall(r'(?P<Years>[1-2][0-9]{3})')['Years'].value_counts()"
   ]
  },
  {
   "cell_type": "code",
   "execution_count": 50,
   "metadata": {},
   "outputs": [
    {
     "data": {
      "text/html": [
       "<div>\n",
       "<style scoped>\n",
       "    .dataframe tbody tr th:only-of-type {\n",
       "        vertical-align: middle;\n",
       "    }\n",
       "\n",
       "    .dataframe tbody tr th {\n",
       "        vertical-align: top;\n",
       "    }\n",
       "\n",
       "    .dataframe thead th {\n",
       "        text-align: right;\n",
       "    }\n",
       "</style>\n",
       "<table border=\"1\" class=\"dataframe\">\n",
       "  <thead>\n",
       "    <tr style=\"text-align: right;\">\n",
       "      <th></th>\n",
       "      <th></th>\n",
       "      <th>First_Year</th>\n",
       "      <th>Second_Year</th>\n",
       "    </tr>\n",
       "    <tr>\n",
       "      <th></th>\n",
       "      <th>match</th>\n",
       "      <th></th>\n",
       "      <th></th>\n",
       "    </tr>\n",
       "  </thead>\n",
       "  <tbody>\n",
       "    <tr>\n",
       "      <th>77</th>\n",
       "      <th>0</th>\n",
       "      <td>2009</td>\n",
       "      <td>2010</td>\n",
       "    </tr>\n",
       "    <tr>\n",
       "      <th>79</th>\n",
       "      <th>0</th>\n",
       "      <td>2011</td>\n",
       "      <td>2012</td>\n",
       "    </tr>\n",
       "    <tr>\n",
       "      <th>80</th>\n",
       "      <th>0</th>\n",
       "      <td>2010</td>\n",
       "      <td>2011</td>\n",
       "    </tr>\n",
       "    <tr>\n",
       "      <th>93</th>\n",
       "      <th>0</th>\n",
       "      <td>2008</td>\n",
       "      <td>2009</td>\n",
       "    </tr>\n",
       "    <tr>\n",
       "      <th>94</th>\n",
       "      <th>0</th>\n",
       "      <td>2011</td>\n",
       "      <td>2012</td>\n",
       "    </tr>\n",
       "    <tr>\n",
       "      <th>100</th>\n",
       "      <th>0</th>\n",
       "      <td>2009</td>\n",
       "      <td>2010</td>\n",
       "    </tr>\n",
       "    <tr>\n",
       "      <th>112</th>\n",
       "      <th>0</th>\n",
       "      <td>2010</td>\n",
       "      <td>2011</td>\n",
       "    </tr>\n",
       "    <tr>\n",
       "      <th>114</th>\n",
       "      <th>0</th>\n",
       "      <td>2011</td>\n",
       "      <td>2012</td>\n",
       "    </tr>\n",
       "    <tr>\n",
       "      <th>116</th>\n",
       "      <th>0</th>\n",
       "      <td>2011</td>\n",
       "      <td>2012</td>\n",
       "    </tr>\n",
       "    <tr>\n",
       "      <th>120</th>\n",
       "      <th>0</th>\n",
       "      <td>2010</td>\n",
       "      <td>2011</td>\n",
       "    </tr>\n",
       "    <tr>\n",
       "      <th>121</th>\n",
       "      <th>0</th>\n",
       "      <td>2010</td>\n",
       "      <td>2011</td>\n",
       "    </tr>\n",
       "    <tr>\n",
       "      <th>124</th>\n",
       "      <th>0</th>\n",
       "      <td>2005</td>\n",
       "      <td>2006</td>\n",
       "    </tr>\n",
       "    <tr>\n",
       "      <th>127</th>\n",
       "      <th>0</th>\n",
       "      <td>2009</td>\n",
       "      <td>2010</td>\n",
       "    </tr>\n",
       "    <tr>\n",
       "      <th>130</th>\n",
       "      <th>0</th>\n",
       "      <td>2010</td>\n",
       "      <td>2011</td>\n",
       "    </tr>\n",
       "    <tr>\n",
       "      <th>136</th>\n",
       "      <th>0</th>\n",
       "      <td>2008</td>\n",
       "      <td>2009</td>\n",
       "    </tr>\n",
       "    <tr>\n",
       "      <th>137</th>\n",
       "      <th>0</th>\n",
       "      <td>2009</td>\n",
       "      <td>2010</td>\n",
       "    </tr>\n",
       "    <tr>\n",
       "      <th>140</th>\n",
       "      <th>0</th>\n",
       "      <td>2012</td>\n",
       "      <td>2013</td>\n",
       "    </tr>\n",
       "    <tr>\n",
       "      <th>145</th>\n",
       "      <th>0</th>\n",
       "      <td>2011</td>\n",
       "      <td>2012</td>\n",
       "    </tr>\n",
       "    <tr>\n",
       "      <th>153</th>\n",
       "      <th>0</th>\n",
       "      <td>2010</td>\n",
       "      <td>2011</td>\n",
       "    </tr>\n",
       "    <tr>\n",
       "      <th>154</th>\n",
       "      <th>0</th>\n",
       "      <td>2011</td>\n",
       "      <td>2012</td>\n",
       "    </tr>\n",
       "  </tbody>\n",
       "</table>\n",
       "</div>"
      ],
      "text/plain": [
       "          First_Year Second_Year\n",
       "    match                       \n",
       "77  0           2009        2010\n",
       "79  0           2011        2012\n",
       "80  0           2010        2011\n",
       "93  0           2008        2009\n",
       "94  0           2011        2012\n",
       "100 0           2009        2010\n",
       "112 0           2010        2011\n",
       "114 0           2011        2012\n",
       "116 0           2011        2012\n",
       "120 0           2010        2011\n",
       "121 0           2010        2011\n",
       "124 0           2005        2006\n",
       "127 0           2009        2010\n",
       "130 0           2010        2011\n",
       "136 0           2008        2009\n",
       "137 0           2009        2010\n",
       "140 0           2012        2013\n",
       "145 0           2011        2012\n",
       "153 0           2010        2011\n",
       "154 0           2011        2012"
      ]
     },
     "execution_count": 50,
     "metadata": {},
     "output_type": "execute_result"
    }
   ],
   "source": [
    "pattern = r\"(?P<First_Year>[1-2][0-9]{3})/?(?P<Second_Year>[0-9]{2})?\"\n",
    "years = merged['IESurvey'].str.extractall(pattern)\n",
    "years['Second_Year'] = years['First_Year'].str[:2] + years['Second_Year']\n",
    "years[years['Second_Year'].notnull()]"
   ]
  },
  {
   "cell_type": "code",
   "execution_count": 51,
   "metadata": {},
   "outputs": [
    {
     "data": {
      "text/plain": [
       "array(['High income: OECD', 'Upper middle income', 'High income: nonOECD',\n",
       "       nan, 'Lower middle income', 'Low income'], dtype=object)"
      ]
     },
     "execution_count": 51,
     "metadata": {},
     "output_type": "execute_result"
    }
   ],
   "source": [
    "merged['IncomeGroup'].unique()"
   ]
  },
  {
   "cell_type": "code",
   "execution_count": 52,
   "metadata": {},
   "outputs": [
    {
     "data": {
      "text/plain": [
       "<matplotlib.axes._subplots.AxesSubplot at 0x1b9013978d0>"
      ]
     },
     "execution_count": 52,
     "metadata": {},
     "output_type": "execute_result"
    },
    {
     "data": {
      "image/png": "[encoded data removed]",
      "text/plain": [
       "<Figure size 432x288 with 1 Axes>"
      ]
     },
     "metadata": {
      "needs_background": "light"
     },
     "output_type": "display_data"
    }
   ],
   "source": [
    "merged.pivot_table(index='IncomeGroup', values='Happiness Score', aggfunc='mean').plot.barh(legend=False, xlim=(0,10), title='Happiness Score')"
   ]
  },
  {
   "cell_type": "code",
   "execution_count": 53,
   "metadata": {},
   "outputs": [
    {
     "data": {
      "text/plain": [
       "<matplotlib.axes._subplots.AxesSubplot at 0x1b90143aef0>"
      ]
     },
     "execution_count": 53,
     "metadata": {},
     "output_type": "execute_result"
    },
    {
     "data": {
      "image/png": "[encoded data removed]",
      "text/plain": [
       "<Figure size 432x288 with 1 Axes>"
      ]
     },
     "metadata": {
      "needs_background": "light"
     },
     "output_type": "display_data"
    }
   ],
   "source": [
    "#'High income: OECD'.replace('income','').replace(': ','').upper()\n",
    "merged['IncomeGroup'] = merged['IncomeGroup'].str.replace('income','').str.replace(': ','').str.upper().str.strip()\n",
    "merged['IncomeGroup'].unique()\n",
    "merged.pivot_table(index='IncomeGroup',values='Happiness Score', aggfunc='mean').plot.barh(xlim=(0,10),\n",
    "                                                                                           title='Happiness Score by Income Group',\n",
    "                                                                                           legend=False)"
   ]
  },
  {
   "cell_type": "code",
   "execution_count": 54,
   "metadata": {},
   "outputs": [
    {
     "data": {
      "text/html": [
       "<div>\n",
       "<style scoped>\n",
       "    .dataframe tbody tr th:only-of-type {\n",
       "        vertical-align: middle;\n",
       "    }\n",
       "\n",
       "    .dataframe tbody tr th {\n",
       "        vertical-align: top;\n",
       "    }\n",
       "\n",
       "    .dataframe thead th {\n",
       "        text-align: right;\n",
       "    }\n",
       "</style>\n",
       "<table border=\"1\" class=\"dataframe\">\n",
       "  <thead>\n",
       "    <tr style=\"text-align: right;\">\n",
       "      <th></th>\n",
       "      <th>Country</th>\n",
       "      <th>Region</th>\n",
       "      <th>Happiness Rank</th>\n",
       "      <th>Happiness Score</th>\n",
       "      <th>Standard Error</th>\n",
       "      <th>Economy</th>\n",
       "      <th>Family</th>\n",
       "      <th>Health</th>\n",
       "      <th>Freedom</th>\n",
       "      <th>Trust</th>\n",
       "      <th>Generosity</th>\n",
       "      <th>Dystopia Residual</th>\n",
       "      <th>Year</th>\n",
       "    </tr>\n",
       "  </thead>\n",
       "  <tbody>\n",
       "    <tr>\n",
       "      <th>0</th>\n",
       "      <td>Switzerland</td>\n",
       "      <td>Western Europe</td>\n",
       "      <td>1</td>\n",
       "      <td>7.587</td>\n",
       "      <td>0.03411</td>\n",
       "      <td>1.39651</td>\n",
       "      <td>1.34951</td>\n",
       "      <td>0.94143</td>\n",
       "      <td>0.66557</td>\n",
       "      <td>0.41978</td>\n",
       "      <td>0.29678</td>\n",
       "      <td>2.51738</td>\n",
       "      <td>2015</td>\n",
       "    </tr>\n",
       "    <tr>\n",
       "      <th>1</th>\n",
       "      <td>Iceland</td>\n",
       "      <td>Western Europe</td>\n",
       "      <td>2</td>\n",
       "      <td>7.561</td>\n",
       "      <td>0.04884</td>\n",
       "      <td>1.30232</td>\n",
       "      <td>1.40223</td>\n",
       "      <td>0.94784</td>\n",
       "      <td>0.62877</td>\n",
       "      <td>0.14145</td>\n",
       "      <td>0.43630</td>\n",
       "      <td>2.70201</td>\n",
       "      <td>2015</td>\n",
       "    </tr>\n",
       "    <tr>\n",
       "      <th>2</th>\n",
       "      <td>Denmark</td>\n",
       "      <td>Western Europe</td>\n",
       "      <td>3</td>\n",
       "      <td>7.527</td>\n",
       "      <td>0.03328</td>\n",
       "      <td>1.32548</td>\n",
       "      <td>1.36058</td>\n",
       "      <td>0.87464</td>\n",
       "      <td>0.64938</td>\n",
       "      <td>0.48357</td>\n",
       "      <td>0.34139</td>\n",
       "      <td>2.49204</td>\n",
       "      <td>2015</td>\n",
       "    </tr>\n",
       "  </tbody>\n",
       "</table>\n",
       "</div>"
      ],
      "text/plain": [
       "       Country          Region  Happiness Rank  Happiness Score  \\\n",
       "0  Switzerland  Western Europe               1            7.587   \n",
       "1      Iceland  Western Europe               2            7.561   \n",
       "2      Denmark  Western Europe               3            7.527   \n",
       "\n",
       "   Standard Error  Economy   Family   Health  Freedom    Trust  Generosity  \\\n",
       "0         0.03411  1.39651  1.34951  0.94143  0.66557  0.41978     0.29678   \n",
       "1         0.04884  1.30232  1.40223  0.94784  0.62877  0.14145     0.43630   \n",
       "2         0.03328  1.32548  1.36058  0.87464  0.64938  0.48357     0.34139   \n",
       "\n",
       "   Dystopia Residual  Year  \n",
       "0            2.51738  2015  \n",
       "1            2.70201  2015  \n",
       "2            2.49204  2015  "
      ]
     },
     "execution_count": 54,
     "metadata": {},
     "output_type": "execute_result"
    }
   ],
   "source": [
    "happiness2015.head(3)"
   ]
  },
  {
   "cell_type": "code",
   "execution_count": 55,
   "metadata": {},
   "outputs": [
    {
     "data": {
      "text/plain": [
       "Country                            0\n",
       "Region_x                           0\n",
       "Happiness Rank                     0\n",
       "Happiness Score                    0\n",
       "Standard Error                     0\n",
       "Economy                            0\n",
       "Family                             0\n",
       "Health                             0\n",
       "Freedom                            0\n",
       "Trust                              0\n",
       "Generosity                         0\n",
       "Dystopia Residual                  0\n",
       "Year                               0\n",
       "CountryCode                       13\n",
       "ShortName                         13\n",
       "TableName                         13\n",
       "LongName                          13\n",
       "Alpha2Code                        14\n",
       "CurrencyUnit                      13\n",
       "SpecialNotes                      65\n",
       "Region_y                          13\n",
       "IncomeGroup                       13\n",
       "Wb2Code                           13\n",
       "NationalAccountsBaseYear          13\n",
       "NationalAccountsReferenceYear    110\n",
       "SnaPriceValuation                 13\n",
       "LendingCategory                   52\n",
       "OtherGroups                      110\n",
       "SystemOfNationalAccounts          13\n",
       "AlternativeConversionFactor      118\n",
       "PppSurveyYear                     19\n",
       "BalanceOfPaymentsManualInUse      17\n",
       "ExternalDebtReportingStatus       60\n",
       "SystemOfTrade                     15\n",
       "GovernmentAccountingConcept       30\n",
       "ImfDataDisseminationStandard      16\n",
       "LatestPopulationCensus            13\n",
       "LatestHouseholdSurvey             43\n",
       "IESurvey                          28\n",
       "VitalRegistrationComplete         85\n",
       "LatestAgriculturalCensus          42\n",
       "LatestIndustrialData              59\n",
       "LatestTradeData                   19\n",
       "LatestWaterWithdrawalData         14\n",
       "dtype: int64"
      ]
     },
     "execution_count": 55,
     "metadata": {},
     "output_type": "execute_result"
    }
   ],
   "source": [
    "merged.isnull().sum()"
   ]
  },
  {
   "cell_type": "code",
   "execution_count": 56,
   "metadata": {},
   "outputs": [
    {
     "data": {
      "text/plain": [
       "Country                            0\n",
       "Dystopia Residual                177\n",
       "Dystopia.Residual                337\n",
       "Economy (GDP per Capita)         177\n",
       "Economy..GDP.per.Capita.         337\n",
       "Family                            22\n",
       "Freedom                           22\n",
       "Generosity                        22\n",
       "Happiness Rank                   177\n",
       "Happiness Score                  177\n",
       "Happiness.Rank                   337\n",
       "Happiness.Score                  337\n",
       "Health (Life Expectancy)         177\n",
       "Health..Life.Expectancy.         337\n",
       "Lower Confidence Interval        335\n",
       "Region                           177\n",
       "Standard Error                   334\n",
       "Trust (Government Corruption)    177\n",
       "Trust..Government.Corruption.    337\n",
       "Upper Confidence Interval        335\n",
       "Whisker.high                     337\n",
       "Whisker.low                      337\n",
       "Year                               0\n",
       "dtype: int64"
      ]
     },
     "execution_count": 56,
     "metadata": {},
     "output_type": "execute_result"
    }
   ],
   "source": [
    "happiness2015 = pd.read_csv('wh_2015.csv')\n",
    "happiness2016 = pd.read_csv('wh_2016.csv')\n",
    "happiness2017 = pd.read_csv('wh_2017.csv')\n",
    "combined = pd.concat([happiness2015, happiness2016, happiness2017], ignore_index=True, sort=True)\n",
    "combined.isnull().sum()"
   ]
  },
  {
   "cell_type": "code",
   "execution_count": 57,
   "metadata": {},
   "outputs": [
    {
     "data": {
      "text/plain": [
       "Index(['COUNTRY', 'HAPPINESS RANK', 'HAPPINESS SCORE', 'WHISKER HIGH',\n",
       "       'WHISKER LOW', 'ECONOMY GDP PER CAPITA', 'FAMILY',\n",
       "       'HEALTH LIFE EXPECTANCY', 'FREEDOM', 'GENEROSITY',\n",
       "       'TRUST GOVERNMENT CORRUPTION', 'DYSTOPIA RESIDUAL', 'YEAR'],\n",
       "      dtype='object')"
      ]
     },
     "execution_count": 57,
     "metadata": {},
     "output_type": "execute_result"
    }
   ],
   "source": [
    "happiness2017.columns = happiness2017.columns.str.replace('.', ' ').str.replace('\\s+',' ').str.strip().str.upper()\n",
    "happiness2017.columns"
   ]
  },
  {
   "cell_type": "code",
   "execution_count": 58,
   "metadata": {},
   "outputs": [
    {
     "data": {
      "text/plain": [
       "Index(['COUNTRY', 'REGION', 'HAPPINESS RANK', 'HAPPINESS SCORE',\n",
       "       'LOWER CONFIDENCE INTERVAL', 'UPPER CONFIDENCE INTERVAL',\n",
       "       'ECONOMY GDP PER CAPITA', 'FAMILY', 'HEALTH LIFE EXPECTANCY', 'FREEDOM',\n",
       "       'TRUST GOVERNMENT CORRUPTION', 'GENEROSITY', 'DYSTOPIA RESIDUAL',\n",
       "       'YEAR'],\n",
       "      dtype='object')"
      ]
     },
     "execution_count": 58,
     "metadata": {},
     "output_type": "execute_result"
    }
   ],
   "source": [
    "#happiness2016.columns = happiness2016.columns.str.replace('(','').str.replace(')','').str.upper()\n",
    "happiness2016.columns = happiness2016.columns.str.replace(r'[\\(\\)]','').str.strip().str.upper()\n",
    "happiness2016.columns"
   ]
  },
  {
   "cell_type": "code",
   "execution_count": 59,
   "metadata": {},
   "outputs": [
    {
     "data": {
      "text/plain": [
       "Index(['COUNTRY', 'REGION', 'HAPPINESS RANK', 'HAPPINESS SCORE',\n",
       "       'STANDARD ERROR', 'ECONOMY GDP PER CAPITA', 'FAMILY',\n",
       "       'HEALTH LIFE EXPECTANCY', 'FREEDOM', 'TRUST GOVERNMENT CORRUPTION',\n",
       "       'GENEROSITY', 'DYSTOPIA RESIDUAL', 'YEAR'],\n",
       "      dtype='object')"
      ]
     },
     "execution_count": 59,
     "metadata": {},
     "output_type": "execute_result"
    }
   ],
   "source": [
    "#happiness2015.columns = happiness2015.columns.str.replace('(','').str.replace(')','').str.upper()\n",
    "happiness2015.columns = happiness2015.columns.str.replace(r'[\\(\\)]','').str.strip().str.upper()\n",
    "happiness2015.columns"
   ]
  },
  {
   "cell_type": "code",
   "execution_count": 60,
   "metadata": {},
   "outputs": [
    {
     "data": {
      "text/plain": [
       "COUNTRY                          0\n",
       "DYSTOPIA RESIDUAL               22\n",
       "ECONOMY GDP PER CAPITA          22\n",
       "FAMILY                          22\n",
       "FREEDOM                         22\n",
       "GENEROSITY                      22\n",
       "HAPPINESS RANK                  22\n",
       "HAPPINESS SCORE                 22\n",
       "HEALTH LIFE EXPECTANCY          22\n",
       "LOWER CONFIDENCE INTERVAL      335\n",
       "REGION                         177\n",
       "STANDARD ERROR                 334\n",
       "TRUST GOVERNMENT CORRUPTION     22\n",
       "UPPER CONFIDENCE INTERVAL      335\n",
       "WHISKER HIGH                   337\n",
       "WHISKER LOW                    337\n",
       "YEAR                             0\n",
       "dtype: int64"
      ]
     },
     "execution_count": 60,
     "metadata": {},
     "output_type": "execute_result"
    }
   ],
   "source": [
    "combined = pd.concat([happiness2015, happiness2016, happiness2017], ignore_index=True, sort=True)\n",
    "combined.isnull().sum()"
   ]
  },
  {
   "cell_type": "code",
   "execution_count": 61,
   "metadata": {},
   "outputs": [
    {
     "data": {
      "text/plain": [
       "<matplotlib.axes._subplots.AxesSubplot at 0x1b9018ab128>"
      ]
     },
     "execution_count": 61,
     "metadata": {},
     "output_type": "execute_result"
    },
    {
     "data": {
      "image/png": "[encoded data removed]",
      "text/plain": [
       "<Figure size 432x288 with 2 Axes>"
      ]
     },
     "metadata": {
      "needs_background": "light"
     },
     "output_type": "display_data"
    }
   ],
   "source": [
    "#sns.set_style('white')\n",
    "sns.heatmap(combined.set_index('YEAR').isnull())"
   ]
  },
  {
   "cell_type": "code",
   "execution_count": 62,
   "metadata": {},
   "outputs": [
    {
     "data": {
      "text/plain": [
       "(164,)"
      ]
     },
     "execution_count": 62,
     "metadata": {},
     "output_type": "execute_result"
    }
   ],
   "source": [
    "combined.loc[combined['YEAR']==2017,'REGION'].shape"
   ]
  },
  {
   "cell_type": "code",
   "execution_count": 85,
   "metadata": {},
   "outputs": [
    {
     "data": {
      "text/plain": [
       "<matplotlib.axes._subplots.AxesSubplot at 0x1b9044ffda0>"
      ]
     },
     "execution_count": 85,
     "metadata": {},
     "output_type": "execute_result"
    },
    {
     "data": {
      "image/png": "[encoded data removed]",
      "text/plain": [
       "<Figure size 432x288 with 2 Axes>"
      ]
     },
     "metadata": {
      "needs_background": "light"
     },
     "output_type": "display_data"
    }
   ],
   "source": [
    "sns.heatmap(combined.set_index('YEAR').notnull(), cmap='Greens')"
   ]
  },
  {
   "cell_type": "code",
   "execution_count": 64,
   "metadata": {},
   "outputs": [
    {
     "data": {
      "text/plain": [
       "COUNTRY                        SwitzerlandIcelandDenmarkNorwayCanadaFinlandNe...\n",
       "DYSTOPIA RESIDUAL                                                            NaN\n",
       "ECONOMY GDP PER CAPITA                                                       NaN\n",
       "FAMILY                                                                       NaN\n",
       "FREEDOM                                                                      NaN\n",
       "GENEROSITY                                                                   NaN\n",
       "HAPPINESS RANK                                                               NaN\n",
       "HAPPINESS SCORE                                                              NaN\n",
       "HEALTH LIFE EXPECTANCY                                                       NaN\n",
       "LOWER CONFIDENCE INTERVAL                                                    NaN\n",
       "STANDARD ERROR                                                               NaN\n",
       "TRUST GOVERNMENT CORRUPTION                                                  NaN\n",
       "UPPER CONFIDENCE INTERVAL                                                    NaN\n",
       "WHISKER HIGH                                                                 NaN\n",
       "WHISKER LOW                                                                  NaN\n",
       "YEAR                                                                      991872\n",
       "dtype: object"
      ]
     },
     "execution_count": 64,
     "metadata": {},
     "output_type": "execute_result"
    }
   ],
   "source": [
    "combined.sum(skipna=False)"
   ]
  },
  {
   "cell_type": "code",
   "execution_count": null,
   "metadata": {},
   "outputs": [],
   "source": []
  },
  {
   "cell_type": "code",
   "execution_count": 65,
   "metadata": {},
   "outputs": [
    {
     "data": {
      "text/plain": [
       "Index(['COUNTRY', 'DYSTOPIA RESIDUAL', 'ECONOMY GDP PER CAPITA', 'FAMILY',\n",
       "       'FREEDOM', 'GENEROSITY', 'HAPPINESS RANK', 'HAPPINESS SCORE',\n",
       "       'HEALTH LIFE EXPECTANCY', 'LOWER CONFIDENCE INTERVAL', 'REGION',\n",
       "       'STANDARD ERROR', 'TRUST GOVERNMENT CORRUPTION',\n",
       "       'UPPER CONFIDENCE INTERVAL', 'WHISKER HIGH', 'WHISKER LOW', 'YEAR'],\n",
       "      dtype='object')"
      ]
     },
     "execution_count": 65,
     "metadata": {},
     "output_type": "execute_result"
    }
   ],
   "source": [
    "combined.columns"
   ]
  },
  {
   "cell_type": "code",
   "execution_count": null,
   "metadata": {},
   "outputs": [],
   "source": []
  }
 ],
 "metadata": {
  "kernelspec": {
   "display_name": "Python 3",
   "language": "python",
   "name": "python3"
  },
  "language_info": {
   "codemirror_mode": {
    "name": "ipython",
    "version": 3
   },
   "file_extension": ".py",
   "mimetype": "text/x-python",
   "name": "python",
   "nbconvert_exporter": "python",
   "pygments_lexer": "ipython3",
   "version": "3.7.3"
  }
 },
 "nbformat": 4,
 "nbformat_minor": 2
}
