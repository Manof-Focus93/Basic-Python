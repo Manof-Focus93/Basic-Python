{
 "cells": [
  {
   "cell_type": "markdown",
   "metadata": {},
   "source": [
    "## **SURVEY ON USERS' NEEDS ABOUT INVESTING IN ALTCOIN**\n",
    "### *CONDUCTED BY* **REMITANO**\n",
    "\n",
    "- Link to the survey: [survey](https://remitano.typeform.com/to/jkKO5oZG)\n",
    "- Link to the data (survey results): [results](https://remitano.typeform.com/to/jkKO5oZG)"
   ]
  },
  {
   "cell_type": "code",
   "execution_count": 2,
   "metadata": {},
   "outputs": [],
   "source": [
    "# Import the essential libraries\n",
    "import pandas as pd\n",
    "import numpy as np\n",
    "import matplotlib.pyplot as plt\n",
    "import matplotlib.ticker as ticker\n",
    "import seaborn as sns\n",
    "import re\n",
    "pd.set_option('max_columns', 100)"
   ]
  },
  {
   "cell_type": "code",
   "execution_count": 3,
   "metadata": {},
   "outputs": [
    {
     "data": {
      "text/html": [
       "<div>\n",
       "<style scoped>\n",
       "    .dataframe tbody tr th:only-of-type {\n",
       "        vertical-align: middle;\n",
       "    }\n",
       "\n",
       "    .dataframe tbody tr th {\n",
       "        vertical-align: top;\n",
       "    }\n",
       "\n",
       "    .dataframe thead th {\n",
       "        text-align: right;\n",
       "    }\n",
       "</style>\n",
       "<table border=\"1\" class=\"dataframe\">\n",
       "  <thead>\n",
       "    <tr style=\"text-align: right;\">\n",
       "      <th></th>\n",
       "      <th>#</th>\n",
       "      <th>What age range do you have?</th>\n",
       "      <th>What is your gender?</th>\n",
       "      <th>Other</th>\n",
       "      <th>Where are you from?</th>\n",
       "      <th>Other.1</th>\n",
       "      <th>When did you join Remitano?</th>\n",
       "      <th>Buy Coins</th>\n",
       "      <th>Sell Coins</th>\n",
       "      <th>Withdraw coins</th>\n",
       "      <th>Deposit Coins</th>\n",
       "      <th>Swap</th>\n",
       "      <th>Invest</th>\n",
       "      <th>Read articles on Forum</th>\n",
       "      <th>Participate in minigame on Forum</th>\n",
       "      <th>Not using any of the above features</th>\n",
       "      <th>Used all</th>\n",
       "      <th>Have you know about Altcoins?</th>\n",
       "      <th>Name at least 1 Altcoin you have known 🧐</th>\n",
       "      <th>Altcoins</th>\n",
       "      <th>BTC</th>\n",
       "      <th>ETH</th>\n",
       "      <th>USDT</th>\n",
       "      <th>LTC</th>\n",
       "      <th>XRP</th>\n",
       "      <th>BCH</th>\n",
       "      <th>If you could only choose 1 coin, which one would you invest? (choose only 1)</th>\n",
       "      <th>Because there are more risks (scam, fraud) than Bitcoin or top coin.</th>\n",
       "      <th>Because I got difficulty to own and store Altcoins.</th>\n",
       "      <th>Because of low liquidity.</th>\n",
       "      <th>Because I have a litte money.</th>\n",
       "      <th>Because I am lack of information about potential Altcoins.</th>\n",
       "      <th>Because the crypto exchange platforms I'm using don't have the Altcoins which I want to buy.</th>\n",
       "      <th>Because the budget of crypto market is very small in my portfolio.</th>\n",
       "      <th>Other.2</th>\n",
       "      <th>What will help you change your mind and be willing to invest Altcoin?</th>\n",
       "      <th>Why did you choose to invest Altcoins?</th>\n",
       "      <th>How many percentage of total budget are you going to invest in Altcoin? (type the number 0 - 100)</th>\n",
       "      <th>What is your strategy in the altcoin investment ? (choose only 1)</th>\n",
       "      <th>Other.3</th>\n",
       "      <th>Where do you store your altcoin? (choose only 1)</th>\n",
       "      <th>Other.4</th>\n",
       "      <th>I got difficulties in owning and storing Altcoins.</th>\n",
       "      <th>The exchange is low liquidity.</th>\n",
       "      <th>I have low invest budget</th>\n",
       "      <th>I am lack of information about potential Altcoins.</th>\n",
       "      <th>The crypto exchange platforms I'm using don't have the Altcoins which I want to buy.</th>\n",
       "      <th>The budget of crypto market is very small in my portfolio.</th>\n",
       "      <th>There are more risks (scam, fraud) than Bitcoin or top coin.</th>\n",
       "      <th>Other.5</th>\n",
       "      <th>Which is the most difficult thing? (choose 1)</th>\n",
       "      <th>Other.6</th>\n",
       "      <th>Name the most potential Altcoins you can't miss, you should invest now.</th>\n",
       "      <th>How did you buy Altcoins?</th>\n",
       "      <th>What is the most difficult thing about buying Altcoins?</th>\n",
       "      <th>If you have Altcoin, how did you sell Altcoins?</th>\n",
       "      <th>What is the most difficult thing about selling Altcoin?</th>\n",
       "      <th>In your opinion, what should Remitano do to help you trade Altcoins easily?</th>\n",
       "      <th>I can buy/sell all Altcoins at \"P2P exchange\".</th>\n",
       "      <th>I can \"Swap\" from BTC / ETH / UST to all Altcoins and vice versa.</th>\n",
       "      <th>I can \"Swap\" from my fiat-currency to all Altcoins and vice versa.</th>\n",
       "      <th>I can \"Invest\" in all Altcoins.</th>\n",
       "      <th>I can store and deposit/withdraw all altcoins in \"Remitano wallet\".</th>\n",
       "      <th>I can add my new Altcoin (which I create) on Remitano system.</th>\n",
       "      <th>I can buy/sell all Altcoins at \"P2P exchange\"..1</th>\n",
       "      <th>I can \"Swap\" from BTC / ETH / UST to all Altcoins and vice versa..1</th>\n",
       "      <th>I can \"Swap\" from my fiat-currency to all Altcoins and vice versa..1</th>\n",
       "      <th>I can \"Invest\" in all Altcoins..1</th>\n",
       "      <th>I can store and deposit/withdraw all altcoins in \"Remitano wallet\"..1</th>\n",
       "      <th>I can add my new Altcoin (which I create) on Remitano system..1</th>\n",
       "      <th>If there is only 1 vote, which one do you prefer?</th>\n",
       "      <th>Coinbas và Coinbase Pro</th>\n",
       "      <th>Bittrex</th>\n",
       "      <th>Changelly</th>\n",
       "      <th>Binance</th>\n",
       "      <th>Kraken</th>\n",
       "      <th>BitMEX</th>\n",
       "      <th>KuCoin</th>\n",
       "      <th>Huobi Pro</th>\n",
       "      <th>Bitpanda</th>\n",
       "      <th>Remitano</th>\n",
       "      <th>Other.7</th>\n",
       "      <th>Why did you choose this crypto exchange?</th>\n",
       "      <th>Start Date (UTC)</th>\n",
       "      <th>Submit Date (UTC)</th>\n",
       "      <th>Network ID</th>\n",
       "    </tr>\n",
       "  </thead>\n",
       "  <tbody>\n",
       "    <tr>\n",
       "      <th>0</th>\n",
       "      <td>6w46ukq2s3q0hg17q06w46ukqyj8cz6a</td>\n",
       "      <td>&gt; 40</td>\n",
       "      <td>Male</td>\n",
       "      <td>NaN</td>\n",
       "      <td>Malaysia</td>\n",
       "      <td>NaN</td>\n",
       "      <td>2019</td>\n",
       "      <td>Buy Coins</td>\n",
       "      <td>NaN</td>\n",
       "      <td>NaN</td>\n",
       "      <td>NaN</td>\n",
       "      <td>NaN</td>\n",
       "      <td>NaN</td>\n",
       "      <td>NaN</td>\n",
       "      <td>NaN</td>\n",
       "      <td>NaN</td>\n",
       "      <td>NaN</td>\n",
       "      <td>No</td>\n",
       "      <td>NaN</td>\n",
       "      <td>NaN</td>\n",
       "      <td>NaN</td>\n",
       "      <td>NaN</td>\n",
       "      <td>NaN</td>\n",
       "      <td>NaN</td>\n",
       "      <td>NaN</td>\n",
       "      <td>NaN</td>\n",
       "      <td>NaN</td>\n",
       "      <td>NaN</td>\n",
       "      <td>NaN</td>\n",
       "      <td>NaN</td>\n",
       "      <td>NaN</td>\n",
       "      <td>NaN</td>\n",
       "      <td>NaN</td>\n",
       "      <td>NaN</td>\n",
       "      <td>NaN</td>\n",
       "      <td>NaN</td>\n",
       "      <td>NaN</td>\n",
       "      <td>NaN</td>\n",
       "      <td>NaN</td>\n",
       "      <td>NaN</td>\n",
       "      <td>NaN</td>\n",
       "      <td>NaN</td>\n",
       "      <td>NaN</td>\n",
       "      <td>NaN</td>\n",
       "      <td>NaN</td>\n",
       "      <td>NaN</td>\n",
       "      <td>NaN</td>\n",
       "      <td>NaN</td>\n",
       "      <td>NaN</td>\n",
       "      <td>NaN</td>\n",
       "      <td>NaN</td>\n",
       "      <td>NaN</td>\n",
       "      <td>NaN</td>\n",
       "      <td>NaN</td>\n",
       "      <td>NaN</td>\n",
       "      <td>NaN</td>\n",
       "      <td>NaN</td>\n",
       "      <td>NaN</td>\n",
       "      <td>NaN</td>\n",
       "      <td>NaN</td>\n",
       "      <td>NaN</td>\n",
       "      <td>NaN</td>\n",
       "      <td>NaN</td>\n",
       "      <td>NaN</td>\n",
       "      <td>NaN</td>\n",
       "      <td>NaN</td>\n",
       "      <td>NaN</td>\n",
       "      <td>NaN</td>\n",
       "      <td>NaN</td>\n",
       "      <td>NaN</td>\n",
       "      <td>NaN</td>\n",
       "      <td>NaN</td>\n",
       "      <td>NaN</td>\n",
       "      <td>NaN</td>\n",
       "      <td>NaN</td>\n",
       "      <td>NaN</td>\n",
       "      <td>NaN</td>\n",
       "      <td>NaN</td>\n",
       "      <td>NaN</td>\n",
       "      <td>NaN</td>\n",
       "      <td>NaN</td>\n",
       "      <td>NaN</td>\n",
       "      <td>NaN</td>\n",
       "      <td>2020-08-03 01:58:34</td>\n",
       "      <td>2020-08-03 02:01:14</td>\n",
       "      <td>6f23d6341c</td>\n",
       "    </tr>\n",
       "    <tr>\n",
       "      <th>1</th>\n",
       "      <td>aon05iax15oiaocz08iyq9m6nw0bx0cz</td>\n",
       "      <td>&gt; 40</td>\n",
       "      <td>Male</td>\n",
       "      <td>NaN</td>\n",
       "      <td>Malaysia</td>\n",
       "      <td>NaN</td>\n",
       "      <td>2017</td>\n",
       "      <td>Buy Coins</td>\n",
       "      <td>Sell Coins</td>\n",
       "      <td>Withdraw coins</td>\n",
       "      <td>Deposit Coins</td>\n",
       "      <td>NaN</td>\n",
       "      <td>NaN</td>\n",
       "      <td>NaN</td>\n",
       "      <td>NaN</td>\n",
       "      <td>NaN</td>\n",
       "      <td>NaN</td>\n",
       "      <td>Yes</td>\n",
       "      <td>Tron (TRX)</td>\n",
       "      <td>NaN</td>\n",
       "      <td>BTC</td>\n",
       "      <td>NaN</td>\n",
       "      <td>NaN</td>\n",
       "      <td>NaN</td>\n",
       "      <td>NaN</td>\n",
       "      <td>NaN</td>\n",
       "      <td>One of Altcoins I like</td>\n",
       "      <td>NaN</td>\n",
       "      <td>NaN</td>\n",
       "      <td>NaN</td>\n",
       "      <td>NaN</td>\n",
       "      <td>NaN</td>\n",
       "      <td>NaN</td>\n",
       "      <td>Because the budget of crypto market is very sm...</td>\n",
       "      <td>NaN</td>\n",
       "      <td>Daily ROI Investment</td>\n",
       "      <td>NaN</td>\n",
       "      <td>NaN</td>\n",
       "      <td>NaN</td>\n",
       "      <td>NaN</td>\n",
       "      <td>NaN</td>\n",
       "      <td>NaN</td>\n",
       "      <td>NaN</td>\n",
       "      <td>NaN</td>\n",
       "      <td>NaN</td>\n",
       "      <td>NaN</td>\n",
       "      <td>NaN</td>\n",
       "      <td>NaN</td>\n",
       "      <td>NaN</td>\n",
       "      <td>NaN</td>\n",
       "      <td>NaN</td>\n",
       "      <td>NaN</td>\n",
       "      <td>NaN</td>\n",
       "      <td>NaN</td>\n",
       "      <td>NaN</td>\n",
       "      <td>NaN</td>\n",
       "      <td>NaN</td>\n",
       "      <td>Provide Trading Chart And Indicators</td>\n",
       "      <td>I can buy/sell all Altcoins at \"P2P exchange\".</td>\n",
       "      <td>NaN</td>\n",
       "      <td>NaN</td>\n",
       "      <td>NaN</td>\n",
       "      <td>NaN</td>\n",
       "      <td>NaN</td>\n",
       "      <td>10.0</td>\n",
       "      <td>0.0</td>\n",
       "      <td>10.0</td>\n",
       "      <td>0.0</td>\n",
       "      <td>10.0</td>\n",
       "      <td>10.0</td>\n",
       "      <td>I can add my new Altcoin (which I create) on R...</td>\n",
       "      <td>NaN</td>\n",
       "      <td>NaN</td>\n",
       "      <td>NaN</td>\n",
       "      <td>NaN</td>\n",
       "      <td>NaN</td>\n",
       "      <td>NaN</td>\n",
       "      <td>NaN</td>\n",
       "      <td>NaN</td>\n",
       "      <td>NaN</td>\n",
       "      <td>NaN</td>\n",
       "      <td>NaN</td>\n",
       "      <td>NaN</td>\n",
       "      <td>2020-07-15 04:17:25</td>\n",
       "      <td>2020-07-15 04:25:07</td>\n",
       "      <td>6a0087bdf7</td>\n",
       "    </tr>\n",
       "    <tr>\n",
       "      <th>2</th>\n",
       "      <td>rd4384zwi4f8qdc8zpkgrd4384zwsiqw</td>\n",
       "      <td>31 - 40</td>\n",
       "      <td>Male</td>\n",
       "      <td>NaN</td>\n",
       "      <td>Malaysia</td>\n",
       "      <td>NaN</td>\n",
       "      <td>2017</td>\n",
       "      <td>Buy Coins</td>\n",
       "      <td>NaN</td>\n",
       "      <td>NaN</td>\n",
       "      <td>NaN</td>\n",
       "      <td>NaN</td>\n",
       "      <td>NaN</td>\n",
       "      <td>NaN</td>\n",
       "      <td>NaN</td>\n",
       "      <td>NaN</td>\n",
       "      <td>NaN</td>\n",
       "      <td>No</td>\n",
       "      <td>NaN</td>\n",
       "      <td>NaN</td>\n",
       "      <td>NaN</td>\n",
       "      <td>NaN</td>\n",
       "      <td>NaN</td>\n",
       "      <td>NaN</td>\n",
       "      <td>NaN</td>\n",
       "      <td>NaN</td>\n",
       "      <td>NaN</td>\n",
       "      <td>NaN</td>\n",
       "      <td>NaN</td>\n",
       "      <td>NaN</td>\n",
       "      <td>NaN</td>\n",
       "      <td>NaN</td>\n",
       "      <td>NaN</td>\n",
       "      <td>NaN</td>\n",
       "      <td>NaN</td>\n",
       "      <td>NaN</td>\n",
       "      <td>NaN</td>\n",
       "      <td>NaN</td>\n",
       "      <td>NaN</td>\n",
       "      <td>NaN</td>\n",
       "      <td>NaN</td>\n",
       "      <td>NaN</td>\n",
       "      <td>NaN</td>\n",
       "      <td>NaN</td>\n",
       "      <td>NaN</td>\n",
       "      <td>NaN</td>\n",
       "      <td>NaN</td>\n",
       "      <td>NaN</td>\n",
       "      <td>NaN</td>\n",
       "      <td>NaN</td>\n",
       "      <td>NaN</td>\n",
       "      <td>NaN</td>\n",
       "      <td>NaN</td>\n",
       "      <td>NaN</td>\n",
       "      <td>NaN</td>\n",
       "      <td>NaN</td>\n",
       "      <td>NaN</td>\n",
       "      <td>NaN</td>\n",
       "      <td>NaN</td>\n",
       "      <td>NaN</td>\n",
       "      <td>NaN</td>\n",
       "      <td>NaN</td>\n",
       "      <td>NaN</td>\n",
       "      <td>NaN</td>\n",
       "      <td>NaN</td>\n",
       "      <td>NaN</td>\n",
       "      <td>NaN</td>\n",
       "      <td>NaN</td>\n",
       "      <td>NaN</td>\n",
       "      <td>NaN</td>\n",
       "      <td>NaN</td>\n",
       "      <td>NaN</td>\n",
       "      <td>NaN</td>\n",
       "      <td>NaN</td>\n",
       "      <td>NaN</td>\n",
       "      <td>NaN</td>\n",
       "      <td>NaN</td>\n",
       "      <td>NaN</td>\n",
       "      <td>NaN</td>\n",
       "      <td>NaN</td>\n",
       "      <td>NaN</td>\n",
       "      <td>NaN</td>\n",
       "      <td>NaN</td>\n",
       "      <td>2020-07-03 23:21:57</td>\n",
       "      <td>2020-07-03 23:24:19</td>\n",
       "      <td>58162a427b</td>\n",
       "    </tr>\n",
       "    <tr>\n",
       "      <th>3</th>\n",
       "      <td>5v23ormjjk7517pdic95v23r0v2l61l2</td>\n",
       "      <td>&lt; 18</td>\n",
       "      <td>Male</td>\n",
       "      <td>NaN</td>\n",
       "      <td>India</td>\n",
       "      <td>NaN</td>\n",
       "      <td>2020</td>\n",
       "      <td>NaN</td>\n",
       "      <td>NaN</td>\n",
       "      <td>NaN</td>\n",
       "      <td>NaN</td>\n",
       "      <td>NaN</td>\n",
       "      <td>NaN</td>\n",
       "      <td>NaN</td>\n",
       "      <td>Participate in minigame on Forum</td>\n",
       "      <td>NaN</td>\n",
       "      <td>NaN</td>\n",
       "      <td>No</td>\n",
       "      <td>NaN</td>\n",
       "      <td>NaN</td>\n",
       "      <td>NaN</td>\n",
       "      <td>NaN</td>\n",
       "      <td>NaN</td>\n",
       "      <td>NaN</td>\n",
       "      <td>NaN</td>\n",
       "      <td>NaN</td>\n",
       "      <td>NaN</td>\n",
       "      <td>NaN</td>\n",
       "      <td>NaN</td>\n",
       "      <td>NaN</td>\n",
       "      <td>NaN</td>\n",
       "      <td>NaN</td>\n",
       "      <td>NaN</td>\n",
       "      <td>NaN</td>\n",
       "      <td>NaN</td>\n",
       "      <td>NaN</td>\n",
       "      <td>NaN</td>\n",
       "      <td>NaN</td>\n",
       "      <td>NaN</td>\n",
       "      <td>NaN</td>\n",
       "      <td>NaN</td>\n",
       "      <td>NaN</td>\n",
       "      <td>NaN</td>\n",
       "      <td>NaN</td>\n",
       "      <td>NaN</td>\n",
       "      <td>NaN</td>\n",
       "      <td>NaN</td>\n",
       "      <td>NaN</td>\n",
       "      <td>NaN</td>\n",
       "      <td>NaN</td>\n",
       "      <td>NaN</td>\n",
       "      <td>NaN</td>\n",
       "      <td>NaN</td>\n",
       "      <td>NaN</td>\n",
       "      <td>NaN</td>\n",
       "      <td>NaN</td>\n",
       "      <td>NaN</td>\n",
       "      <td>NaN</td>\n",
       "      <td>NaN</td>\n",
       "      <td>NaN</td>\n",
       "      <td>NaN</td>\n",
       "      <td>NaN</td>\n",
       "      <td>NaN</td>\n",
       "      <td>NaN</td>\n",
       "      <td>NaN</td>\n",
       "      <td>NaN</td>\n",
       "      <td>NaN</td>\n",
       "      <td>NaN</td>\n",
       "      <td>NaN</td>\n",
       "      <td>NaN</td>\n",
       "      <td>NaN</td>\n",
       "      <td>NaN</td>\n",
       "      <td>NaN</td>\n",
       "      <td>NaN</td>\n",
       "      <td>NaN</td>\n",
       "      <td>NaN</td>\n",
       "      <td>NaN</td>\n",
       "      <td>NaN</td>\n",
       "      <td>NaN</td>\n",
       "      <td>NaN</td>\n",
       "      <td>NaN</td>\n",
       "      <td>NaN</td>\n",
       "      <td>NaN</td>\n",
       "      <td>2020-06-26 14:32:31</td>\n",
       "      <td>2020-06-26 14:33:10</td>\n",
       "      <td>368d15a9d1</td>\n",
       "    </tr>\n",
       "    <tr>\n",
       "      <th>4</th>\n",
       "      <td>1i9bju4z8s2gxicftve1i9bcwwsjzd6r</td>\n",
       "      <td>18 - 25</td>\n",
       "      <td>Male</td>\n",
       "      <td>NaN</td>\n",
       "      <td>India</td>\n",
       "      <td>NaN</td>\n",
       "      <td>2020</td>\n",
       "      <td>NaN</td>\n",
       "      <td>NaN</td>\n",
       "      <td>NaN</td>\n",
       "      <td>NaN</td>\n",
       "      <td>NaN</td>\n",
       "      <td>NaN</td>\n",
       "      <td>NaN</td>\n",
       "      <td>Participate in minigame on Forum</td>\n",
       "      <td>NaN</td>\n",
       "      <td>NaN</td>\n",
       "      <td>No</td>\n",
       "      <td>NaN</td>\n",
       "      <td>NaN</td>\n",
       "      <td>NaN</td>\n",
       "      <td>NaN</td>\n",
       "      <td>NaN</td>\n",
       "      <td>NaN</td>\n",
       "      <td>NaN</td>\n",
       "      <td>NaN</td>\n",
       "      <td>NaN</td>\n",
       "      <td>NaN</td>\n",
       "      <td>NaN</td>\n",
       "      <td>NaN</td>\n",
       "      <td>NaN</td>\n",
       "      <td>NaN</td>\n",
       "      <td>NaN</td>\n",
       "      <td>NaN</td>\n",
       "      <td>NaN</td>\n",
       "      <td>NaN</td>\n",
       "      <td>NaN</td>\n",
       "      <td>NaN</td>\n",
       "      <td>NaN</td>\n",
       "      <td>NaN</td>\n",
       "      <td>NaN</td>\n",
       "      <td>NaN</td>\n",
       "      <td>NaN</td>\n",
       "      <td>NaN</td>\n",
       "      <td>NaN</td>\n",
       "      <td>NaN</td>\n",
       "      <td>NaN</td>\n",
       "      <td>NaN</td>\n",
       "      <td>NaN</td>\n",
       "      <td>NaN</td>\n",
       "      <td>NaN</td>\n",
       "      <td>NaN</td>\n",
       "      <td>NaN</td>\n",
       "      <td>NaN</td>\n",
       "      <td>NaN</td>\n",
       "      <td>NaN</td>\n",
       "      <td>NaN</td>\n",
       "      <td>NaN</td>\n",
       "      <td>NaN</td>\n",
       "      <td>NaN</td>\n",
       "      <td>NaN</td>\n",
       "      <td>NaN</td>\n",
       "      <td>NaN</td>\n",
       "      <td>NaN</td>\n",
       "      <td>NaN</td>\n",
       "      <td>NaN</td>\n",
       "      <td>NaN</td>\n",
       "      <td>NaN</td>\n",
       "      <td>NaN</td>\n",
       "      <td>NaN</td>\n",
       "      <td>NaN</td>\n",
       "      <td>NaN</td>\n",
       "      <td>NaN</td>\n",
       "      <td>NaN</td>\n",
       "      <td>NaN</td>\n",
       "      <td>NaN</td>\n",
       "      <td>NaN</td>\n",
       "      <td>NaN</td>\n",
       "      <td>NaN</td>\n",
       "      <td>NaN</td>\n",
       "      <td>NaN</td>\n",
       "      <td>NaN</td>\n",
       "      <td>NaN</td>\n",
       "      <td>2020-06-26 14:31:07</td>\n",
       "      <td>2020-06-26 14:32:22</td>\n",
       "      <td>368d15a9d1</td>\n",
       "    </tr>\n",
       "  </tbody>\n",
       "</table>\n",
       "</div>"
      ],
      "text/plain": [
       "                                  # What age range do you have?  \\\n",
       "0  6w46ukq2s3q0hg17q06w46ukqyj8cz6a                        > 40   \n",
       "1  aon05iax15oiaocz08iyq9m6nw0bx0cz                        > 40   \n",
       "2  rd4384zwi4f8qdc8zpkgrd4384zwsiqw                     31 - 40   \n",
       "3  5v23ormjjk7517pdic95v23r0v2l61l2                        < 18   \n",
       "4  1i9bju4z8s2gxicftve1i9bcwwsjzd6r                     18 - 25   \n",
       "\n",
       "  What is your gender? Other Where are you from? Other.1  \\\n",
       "0                 Male   NaN            Malaysia     NaN   \n",
       "1                 Male   NaN            Malaysia     NaN   \n",
       "2                 Male   NaN            Malaysia     NaN   \n",
       "3                 Male   NaN               India     NaN   \n",
       "4                 Male   NaN               India     NaN   \n",
       "\n",
       "   When did you join Remitano?  Buy Coins  Sell Coins  Withdraw coins  \\\n",
       "0                         2019  Buy Coins         NaN             NaN   \n",
       "1                         2017  Buy Coins  Sell Coins  Withdraw coins   \n",
       "2                         2017  Buy Coins         NaN             NaN   \n",
       "3                         2020        NaN         NaN             NaN   \n",
       "4                         2020        NaN         NaN             NaN   \n",
       "\n",
       "   Deposit Coins Swap Invest Read articles on Forum  \\\n",
       "0            NaN  NaN    NaN                    NaN   \n",
       "1  Deposit Coins  NaN    NaN                    NaN   \n",
       "2            NaN  NaN    NaN                    NaN   \n",
       "3            NaN  NaN    NaN                    NaN   \n",
       "4            NaN  NaN    NaN                    NaN   \n",
       "\n",
       "   Participate in minigame on Forum Not using any of the above features  \\\n",
       "0                               NaN                                 NaN   \n",
       "1                               NaN                                 NaN   \n",
       "2                               NaN                                 NaN   \n",
       "3  Participate in minigame on Forum                                 NaN   \n",
       "4  Participate in minigame on Forum                                 NaN   \n",
       "\n",
       "  Used all Have you know about Altcoins?  \\\n",
       "0      NaN                            No   \n",
       "1      NaN                           Yes   \n",
       "2      NaN                            No   \n",
       "3      NaN                            No   \n",
       "4      NaN                            No   \n",
       "\n",
       "  Name at least 1 Altcoin you have known 🧐 Altcoins  BTC  ETH USDT  LTC  XRP  \\\n",
       "0                                      NaN      NaN  NaN  NaN  NaN  NaN  NaN   \n",
       "1                               Tron (TRX)      NaN  BTC  NaN  NaN  NaN  NaN   \n",
       "2                                      NaN      NaN  NaN  NaN  NaN  NaN  NaN   \n",
       "3                                      NaN      NaN  NaN  NaN  NaN  NaN  NaN   \n",
       "4                                      NaN      NaN  NaN  NaN  NaN  NaN  NaN   \n",
       "\n",
       "   BCH  \\\n",
       "0  NaN   \n",
       "1  NaN   \n",
       "2  NaN   \n",
       "3  NaN   \n",
       "4  NaN   \n",
       "\n",
       "  If you could only choose 1 coin, which one would you invest? (choose only 1)  \\\n",
       "0                                                NaN                             \n",
       "1                             One of Altcoins I like                             \n",
       "2                                                NaN                             \n",
       "3                                                NaN                             \n",
       "4                                                NaN                             \n",
       "\n",
       "  Because there are more risks (scam, fraud) than Bitcoin or top coin.  \\\n",
       "0                                                NaN                     \n",
       "1                                                NaN                     \n",
       "2                                                NaN                     \n",
       "3                                                NaN                     \n",
       "4                                                NaN                     \n",
       "\n",
       "  Because I got difficulty to own and store Altcoins.  \\\n",
       "0                                                NaN    \n",
       "1                                                NaN    \n",
       "2                                                NaN    \n",
       "3                                                NaN    \n",
       "4                                                NaN    \n",
       "\n",
       "  Because of low liquidity. Because I have a litte money.  \\\n",
       "0                       NaN                           NaN   \n",
       "1                       NaN                           NaN   \n",
       "2                       NaN                           NaN   \n",
       "3                       NaN                           NaN   \n",
       "4                       NaN                           NaN   \n",
       "\n",
       "  Because I am lack of information about potential Altcoins.  \\\n",
       "0                                                NaN           \n",
       "1                                                NaN           \n",
       "2                                                NaN           \n",
       "3                                                NaN           \n",
       "4                                                NaN           \n",
       "\n",
       "  Because the crypto exchange platforms I'm using don't have the Altcoins which I want to buy.  \\\n",
       "0                                                NaN                                             \n",
       "1                                                NaN                                             \n",
       "2                                                NaN                                             \n",
       "3                                                NaN                                             \n",
       "4                                                NaN                                             \n",
       "\n",
       "  Because the budget of crypto market is very small in my portfolio. Other.2  \\\n",
       "0                                                NaN                     NaN   \n",
       "1  Because the budget of crypto market is very sm...                     NaN   \n",
       "2                                                NaN                     NaN   \n",
       "3                                                NaN                     NaN   \n",
       "4                                                NaN                     NaN   \n",
       "\n",
       "  What will help you change your mind and be willing to invest Altcoin?  \\\n",
       "0                                                NaN                      \n",
       "1                               Daily ROI Investment                      \n",
       "2                                                NaN                      \n",
       "3                                                NaN                      \n",
       "4                                                NaN                      \n",
       "\n",
       "  Why did you choose to invest Altcoins?  \\\n",
       "0                                    NaN   \n",
       "1                                    NaN   \n",
       "2                                    NaN   \n",
       "3                                    NaN   \n",
       "4                                    NaN   \n",
       "\n",
       "   How many percentage of total budget are you going to invest in Altcoin? (type the number 0 - 100)  \\\n",
       "0                                                NaN                                                   \n",
       "1                                                NaN                                                   \n",
       "2                                                NaN                                                   \n",
       "3                                                NaN                                                   \n",
       "4                                                NaN                                                   \n",
       "\n",
       "  What is your strategy in the altcoin investment ? (choose only 1) Other.3  \\\n",
       "0                                                NaN                    NaN   \n",
       "1                                                NaN                    NaN   \n",
       "2                                                NaN                    NaN   \n",
       "3                                                NaN                    NaN   \n",
       "4                                                NaN                    NaN   \n",
       "\n",
       "  Where do you store your altcoin? (choose only 1) Other.4  \\\n",
       "0                                              NaN     NaN   \n",
       "1                                              NaN     NaN   \n",
       "2                                              NaN     NaN   \n",
       "3                                              NaN     NaN   \n",
       "4                                              NaN     NaN   \n",
       "\n",
       "  I got difficulties in owning and storing Altcoins.  \\\n",
       "0                                                NaN   \n",
       "1                                                NaN   \n",
       "2                                                NaN   \n",
       "3                                                NaN   \n",
       "4                                                NaN   \n",
       "\n",
       "  The exchange is low liquidity. I have low invest budget  \\\n",
       "0                            NaN                      NaN   \n",
       "1                            NaN                      NaN   \n",
       "2                            NaN                      NaN   \n",
       "3                            NaN                      NaN   \n",
       "4                            NaN                      NaN   \n",
       "\n",
       "  I am lack of information about potential Altcoins.  \\\n",
       "0                                                NaN   \n",
       "1                                                NaN   \n",
       "2                                                NaN   \n",
       "3                                                NaN   \n",
       "4                                                NaN   \n",
       "\n",
       "  The crypto exchange platforms I'm using don't have the Altcoins which I want to buy.  \\\n",
       "0                                                NaN                                     \n",
       "1                                                NaN                                     \n",
       "2                                                NaN                                     \n",
       "3                                                NaN                                     \n",
       "4                                                NaN                                     \n",
       "\n",
       "  The budget of crypto market is very small in my portfolio.  \\\n",
       "0                                                NaN           \n",
       "1                                                NaN           \n",
       "2                                                NaN           \n",
       "3                                                NaN           \n",
       "4                                                NaN           \n",
       "\n",
       "  There are more risks (scam, fraud) than Bitcoin or top coin. Other.5  \\\n",
       "0                                                NaN               NaN   \n",
       "1                                                NaN               NaN   \n",
       "2                                                NaN               NaN   \n",
       "3                                                NaN               NaN   \n",
       "4                                                NaN               NaN   \n",
       "\n",
       "  Which is the most difficult thing? (choose 1) Other.6  \\\n",
       "0                                           NaN     NaN   \n",
       "1                                           NaN     NaN   \n",
       "2                                           NaN     NaN   \n",
       "3                                           NaN     NaN   \n",
       "4                                           NaN     NaN   \n",
       "\n",
       "  Name the most potential Altcoins you can't miss, you should invest now.  \\\n",
       "0                                                NaN                        \n",
       "1                                                NaN                        \n",
       "2                                                NaN                        \n",
       "3                                                NaN                        \n",
       "4                                                NaN                        \n",
       "\n",
       "  How did you buy Altcoins?  \\\n",
       "0                       NaN   \n",
       "1                       NaN   \n",
       "2                       NaN   \n",
       "3                       NaN   \n",
       "4                       NaN   \n",
       "\n",
       "  What is the most difficult thing about buying Altcoins?  \\\n",
       "0                                                NaN        \n",
       "1                                                NaN        \n",
       "2                                                NaN        \n",
       "3                                                NaN        \n",
       "4                                                NaN        \n",
       "\n",
       "  If you have Altcoin, how did you sell Altcoins?  \\\n",
       "0                                             NaN   \n",
       "1                                             NaN   \n",
       "2                                             NaN   \n",
       "3                                             NaN   \n",
       "4                                             NaN   \n",
       "\n",
       "  What is the most difficult thing about selling Altcoin?  \\\n",
       "0                                                NaN        \n",
       "1                                                NaN        \n",
       "2                                                NaN        \n",
       "3                                                NaN        \n",
       "4                                                NaN        \n",
       "\n",
       "  In your opinion, what should Remitano do to help you trade Altcoins easily?  \\\n",
       "0                                                NaN                            \n",
       "1               Provide Trading Chart And Indicators                            \n",
       "2                                                NaN                            \n",
       "3                                                NaN                            \n",
       "4                                                NaN                            \n",
       "\n",
       "   I can buy/sell all Altcoins at \"P2P exchange\".  \\\n",
       "0                                             NaN   \n",
       "1  I can buy/sell all Altcoins at \"P2P exchange\".   \n",
       "2                                             NaN   \n",
       "3                                             NaN   \n",
       "4                                             NaN   \n",
       "\n",
       "  I can \"Swap\" from BTC / ETH / UST to all Altcoins and vice versa.  \\\n",
       "0                                                NaN                  \n",
       "1                                                NaN                  \n",
       "2                                                NaN                  \n",
       "3                                                NaN                  \n",
       "4                                                NaN                  \n",
       "\n",
       "  I can \"Swap\" from my fiat-currency to all Altcoins and vice versa.  \\\n",
       "0                                                NaN                   \n",
       "1                                                NaN                   \n",
       "2                                                NaN                   \n",
       "3                                                NaN                   \n",
       "4                                                NaN                   \n",
       "\n",
       "  I can \"Invest\" in all Altcoins.  \\\n",
       "0                             NaN   \n",
       "1                             NaN   \n",
       "2                             NaN   \n",
       "3                             NaN   \n",
       "4                             NaN   \n",
       "\n",
       "  I can store and deposit/withdraw all altcoins in \"Remitano wallet\".  \\\n",
       "0                                                NaN                    \n",
       "1                                                NaN                    \n",
       "2                                                NaN                    \n",
       "3                                                NaN                    \n",
       "4                                                NaN                    \n",
       "\n",
       "  I can add my new Altcoin (which I create) on Remitano system.  \\\n",
       "0                                                NaN              \n",
       "1                                                NaN              \n",
       "2                                                NaN              \n",
       "3                                                NaN              \n",
       "4                                                NaN              \n",
       "\n",
       "   I can buy/sell all Altcoins at \"P2P exchange\"..1  \\\n",
       "0                                               NaN   \n",
       "1                                              10.0   \n",
       "2                                               NaN   \n",
       "3                                               NaN   \n",
       "4                                               NaN   \n",
       "\n",
       "   I can \"Swap\" from BTC / ETH / UST to all Altcoins and vice versa..1  \\\n",
       "0                                                NaN                     \n",
       "1                                                0.0                     \n",
       "2                                                NaN                     \n",
       "3                                                NaN                     \n",
       "4                                                NaN                     \n",
       "\n",
       "   I can \"Swap\" from my fiat-currency to all Altcoins and vice versa..1  \\\n",
       "0                                                NaN                      \n",
       "1                                               10.0                      \n",
       "2                                                NaN                      \n",
       "3                                                NaN                      \n",
       "4                                                NaN                      \n",
       "\n",
       "   I can \"Invest\" in all Altcoins..1  \\\n",
       "0                                NaN   \n",
       "1                                0.0   \n",
       "2                                NaN   \n",
       "3                                NaN   \n",
       "4                                NaN   \n",
       "\n",
       "   I can store and deposit/withdraw all altcoins in \"Remitano wallet\"..1  \\\n",
       "0                                                NaN                       \n",
       "1                                               10.0                       \n",
       "2                                                NaN                       \n",
       "3                                                NaN                       \n",
       "4                                                NaN                       \n",
       "\n",
       "   I can add my new Altcoin (which I create) on Remitano system..1  \\\n",
       "0                                                NaN                 \n",
       "1                                               10.0                 \n",
       "2                                                NaN                 \n",
       "3                                                NaN                 \n",
       "4                                                NaN                 \n",
       "\n",
       "   If there is only 1 vote, which one do you prefer? Coinbas và Coinbase Pro  \\\n",
       "0                                                NaN                     NaN   \n",
       "1  I can add my new Altcoin (which I create) on R...                     NaN   \n",
       "2                                                NaN                     NaN   \n",
       "3                                                NaN                     NaN   \n",
       "4                                                NaN                     NaN   \n",
       "\n",
       "  Bittrex Changelly Binance Kraken BitMEX KuCoin Huobi Pro Bitpanda Remitano  \\\n",
       "0     NaN       NaN     NaN    NaN    NaN    NaN       NaN      NaN      NaN   \n",
       "1     NaN       NaN     NaN    NaN    NaN    NaN       NaN      NaN      NaN   \n",
       "2     NaN       NaN     NaN    NaN    NaN    NaN       NaN      NaN      NaN   \n",
       "3     NaN       NaN     NaN    NaN    NaN    NaN       NaN      NaN      NaN   \n",
       "4     NaN       NaN     NaN    NaN    NaN    NaN       NaN      NaN      NaN   \n",
       "\n",
       "  Other.7 Why did you choose this crypto exchange?    Start Date (UTC)  \\\n",
       "0     NaN                                      NaN 2020-08-03 01:58:34   \n",
       "1     NaN                                      NaN 2020-07-15 04:17:25   \n",
       "2     NaN                                      NaN 2020-07-03 23:21:57   \n",
       "3     NaN                                      NaN 2020-06-26 14:32:31   \n",
       "4     NaN                                      NaN 2020-06-26 14:31:07   \n",
       "\n",
       "    Submit Date (UTC)  Network ID  \n",
       "0 2020-08-03 02:01:14  6f23d6341c  \n",
       "1 2020-07-15 04:25:07  6a0087bdf7  \n",
       "2 2020-07-03 23:24:19  58162a427b  \n",
       "3 2020-06-26 14:33:10  368d15a9d1  \n",
       "4 2020-06-26 14:32:22  368d15a9d1  "
      ]
     },
     "execution_count": 3,
     "metadata": {},
     "output_type": "execute_result"
    }
   ],
   "source": [
    "# Load the dataset into dataframe using the path leads to where the file is saved\n",
    "remi = pd.read_excel('D:/Projects/Remi_test3/Test 1 Remitano survey 4_2020.xlsx')\n",
    "remi.head()"
   ]
  },
  {
   "cell_type": "code",
   "execution_count": 4,
   "metadata": {},
   "outputs": [
    {
     "data": {
      "text/plain": [
       "(910, 86)"
      ]
     },
     "execution_count": 4,
     "metadata": {},
     "output_type": "execute_result"
    }
   ],
   "source": [
    "remi.shape"
   ]
  },
  {
   "cell_type": "code",
   "execution_count": 5,
   "metadata": {},
   "outputs": [],
   "source": [
    "data = remi.copy()"
   ]
  },
  {
   "cell_type": "markdown",
   "metadata": {},
   "source": [
    "### ***Replace appropriate data***\n",
    "\n",
    "Some multiple choice questions that allow users to choose only one answer, including 'Other' option. That 'Other' will be filled and placed in new column named 'Other' right next to the column related to the question. The options those are null value in question column will be explained more details in the 'Other' columns.\n",
    "\n",
    "Let's replace those null values by 'Other'."
   ]
  },
  {
   "cell_type": "code",
   "execution_count": 6,
   "metadata": {},
   "outputs": [
    {
     "data": {
      "text/plain": [
       "NaN                                                       790\n",
       "Online wallets (For example: Blockchain )                  57\n",
       "On the exchange platform                                   38\n",
       "Do not store Altcoins, I change them to the main coin.     12\n",
       "Cold wallets                                                9\n",
       "Other                                                       4\n",
       "Name: Where do you store your altcoin? (choose only 1), dtype: int64"
      ]
     },
     "execution_count": 6,
     "metadata": {},
     "output_type": "execute_result"
    }
   ],
   "source": [
    "# Define a function to convert appropriate null values in multiple choices questions those allow to choose 1 option into 'Other'\n",
    "def convert_other(col_id, data=data):\n",
    "    \n",
    "    for col in col_id:\n",
    "        other_idx = data[data.iloc[:, col+1].notnull()].index.tolist()\n",
    "        data.iloc[other_idx, col] = 'Other'\n",
    "    \n",
    "    return data\n",
    "\n",
    "data = convert_other(col_id=[2,4,38,40,50])\n",
    "data.iloc[:,40].value_counts(dropna=False)"
   ]
  },
  {
   "cell_type": "code",
   "execution_count": 7,
   "metadata": {},
   "outputs": [
    {
     "data": {
      "text/plain": [
       "<matplotlib.axes._subplots.AxesSubplot at 0x25dc8ae71c8>"
      ]
     },
     "execution_count": 7,
     "metadata": {},
     "output_type": "execute_result"
    },
    {
     "data": {
      "image/png": "[encoded data removed]",
      "text/plain": [
       "<Figure size 432x288 with 1 Axes>"
      ]
     },
     "metadata": {
      "needs_background": "light"
     },
     "output_type": "display_data"
    }
   ],
   "source": [
    "# Get the overview of data structure\n",
    "sns.countplot(data = data, x = data.iloc[:,4].name, hue = data.iloc[:,2].name)"
   ]
  },
  {
   "cell_type": "markdown",
   "metadata": {},
   "source": [
    "--> It seems most of our surveyors come from Nigeria and Malaysia, while the Male is majority."
   ]
  },
  {
   "cell_type": "code",
   "execution_count": 8,
   "metadata": {},
   "outputs": [
    {
     "data": {
      "text/plain": [
       "<matplotlib.axes._subplots.AxesSubplot at 0x25dcba8c448>"
      ]
     },
     "execution_count": 8,
     "metadata": {},
     "output_type": "execute_result"
    },
    {
     "data": {
      "image/png": "[encoded data removed]",
      "text/plain": [
       "<Figure size 432x288 with 1 Axes>"
      ]
     },
     "metadata": {
      "needs_background": "light"
     },
     "output_type": "display_data"
    }
   ],
   "source": [
    "sns.countplot(data=data, x=data.iloc[:,1].name, hue=data.iloc[:,2].name,\n",
    "              order = ['< 18', '18 - 25', '26 - 30', '31 - 40', '> 40'])"
   ]
  },
  {
   "cell_type": "markdown",
   "metadata": {},
   "source": [
    "--> Our users mostly have age within 18-40."
   ]
  },
  {
   "cell_type": "markdown",
   "metadata": {},
   "source": [
    "### **TRANSFORM DATA FROM WIDE FORM TO LONG FORM**\n",
    "\n",
    "In this dataset, there are some multiple choices questions where people can choose more than one options as their answers. If we unpivot all of them and replace into the original dataset, length of the dataset will be multiplied many times that leads to lower performance.\n",
    "\n",
    "Instead of doing that, we will transform those options related to each question with each user ID (#) as a data point into a separate dataframe. Then, we can take advantage of data model function in Tableau to make deeper analysis, or join each dataframe into our original dataframe to see once a time."
   ]
  },
  {
   "cell_type": "code",
   "execution_count": 9,
   "metadata": {},
   "outputs": [
    {
     "data": {
      "text/html": [
       "<div>\n",
       "<style scoped>\n",
       "    .dataframe tbody tr th:only-of-type {\n",
       "        vertical-align: middle;\n",
       "    }\n",
       "\n",
       "    .dataframe tbody tr th {\n",
       "        vertical-align: top;\n",
       "    }\n",
       "\n",
       "    .dataframe thead th {\n",
       "        text-align: right;\n",
       "    }\n",
       "</style>\n",
       "<table border=\"1\" class=\"dataframe\">\n",
       "  <thead>\n",
       "    <tr style=\"text-align: right;\">\n",
       "      <th></th>\n",
       "      <th>#</th>\n",
       "      <th>variable</th>\n",
       "      <th>detail</th>\n",
       "    </tr>\n",
       "  </thead>\n",
       "  <tbody>\n",
       "    <tr>\n",
       "      <th>7087</th>\n",
       "      <td>8fn1tm3u97atovgd70y8fn1td96kewte</td>\n",
       "      <td>Other</td>\n",
       "      <td>I want good income for me BTC</td>\n",
       "    </tr>\n",
       "    <tr>\n",
       "      <th>7099</th>\n",
       "      <td>a322sn346gtovla3228eu8faka5c7p6y</td>\n",
       "      <td>Other</td>\n",
       "      <td>Because market cap of altcoin alone is caparat...</td>\n",
       "    </tr>\n",
       "    <tr>\n",
       "      <th>7178</th>\n",
       "      <td>occpwdohwxymg54qca67voccpwdohvgj</td>\n",
       "      <td>Other</td>\n",
       "      <td>Bitcoin is older than other coins, and it will...</td>\n",
       "    </tr>\n",
       "    <tr>\n",
       "      <th>7183</th>\n",
       "      <td>ptyko54zk2pmyzuois0jlye7ptyko54z</td>\n",
       "      <td>Other</td>\n",
       "      <td>I love Bitcoin and do believe Bitcoin will ris...</td>\n",
       "    </tr>\n",
       "    <tr>\n",
       "      <th>7265</th>\n",
       "      <td>ze15v1k6kt6znjirojeze15v12i4ed1y</td>\n",
       "      <td>Other</td>\n",
       "      <td>Because people not to be trust</td>\n",
       "    </tr>\n",
       "  </tbody>\n",
       "</table>\n",
       "</div>"
      ],
      "text/plain": [
       "                                     # variable  \\\n",
       "7087  8fn1tm3u97atovgd70y8fn1td96kewte    Other   \n",
       "7099  a322sn346gtovla3228eu8faka5c7p6y    Other   \n",
       "7178  occpwdohwxymg54qca67voccpwdohvgj    Other   \n",
       "7183  ptyko54zk2pmyzuois0jlye7ptyko54z    Other   \n",
       "7265  ze15v1k6kt6znjirojeze15v12i4ed1y    Other   \n",
       "\n",
       "                                                 detail  \n",
       "7087                      I want good income for me BTC  \n",
       "7099  Because market cap of altcoin alone is caparat...  \n",
       "7178  Bitcoin is older than other coins, and it will...  \n",
       "7183  I love Bitcoin and do believe Bitcoin will ris...  \n",
       "7265                     Because people not to be trust  "
      ]
     },
     "execution_count": 9,
     "metadata": {},
     "output_type": "execute_result"
    }
   ],
   "source": [
    "# Define a function to transform data from long form to wide form then clean the df\n",
    "def unpivot(start_idx=None, end_idx=None, columns=None, data=data, id_vars='#', var_name='variable', value_name='detail'):\n",
    "    \n",
    "    if columns == None:\n",
    "        df = pd.melt(data,\n",
    "                     id_vars = id_vars,\n",
    "                     value_vars = data.iloc[:, start_idx:end_idx].columns.tolist(),\n",
    "                     var_name = var_name,\n",
    "                     value_name = value_name)\n",
    "    else:\n",
    "        df = pd.melt(data,\n",
    "                     id_vars = id_vars,\n",
    "                     value_vars = columns,\n",
    "                     var_name = var_name,\n",
    "                     value_name = value_name)\n",
    "        \n",
    "    df.dropna(subset=[value_name], inplace=True)\n",
    "    other_idx = df[df[var_name].str.contains(r'Other', flags=re.I)].index.tolist()\n",
    "    df.loc[other_idx, var_name] = 'Other'\n",
    "    \n",
    "    return df\n",
    "\n",
    "\n",
    "unpivot(27,35).tail()"
   ]
  },
  {
   "cell_type": "code",
   "execution_count": 10,
   "metadata": {},
   "outputs": [
    {
     "data": {
      "text/plain": [
       "['Coinbas và Coinbase Pro',\n",
       " 'Bittrex',\n",
       " 'Changelly',\n",
       " 'Binance',\n",
       " 'Kraken',\n",
       " 'BitMEX',\n",
       " 'KuCoin',\n",
       " 'Huobi Pro',\n",
       " 'Bitpanda',\n",
       " 'Remitano',\n",
       " 'Other.7']"
      ]
     },
     "execution_count": 10,
     "metadata": {},
     "output_type": "execute_result"
    }
   ],
   "source": [
    "# Indentify the columns related to multiple choice questions that allow users to choose more than 1 option\n",
    "remi_features_cols = data.iloc[:,7:17].columns.tolist()\n",
    "invest_coins_cols = data.iloc[:,19:26].columns.tolist()\n",
    "reason_not_invest_cols = data.iloc[:,27:35].columns.tolist()\n",
    "difficulties_cols = data.iloc[:,42:50].columns.tolist()\n",
    "expectation_cols = data.iloc[:,58:64].columns.tolist()\n",
    "evaluate_cols = data.iloc[:,64:70].columns.tolist()\n",
    "exchange_cols = data.iloc[:,71:82].columns.tolist()\n",
    "exchange_cols"
   ]
  },
  {
   "cell_type": "code",
   "execution_count": 11,
   "metadata": {},
   "outputs": [
    {
     "data": {
      "text/plain": [
       "<matplotlib.axes._subplots.AxesSubplot at 0x25dc619f688>"
      ]
     },
     "execution_count": 11,
     "metadata": {},
     "output_type": "execute_result"
    },
    {
     "data": {
      "image/png": "[encoded data removed]",
      "text/plain": [
       "<Figure size 432x288 with 1 Axes>"
      ]
     },
     "metadata": {
      "needs_background": "light"
     },
     "output_type": "display_data"
    }
   ],
   "source": [
    "# Remitano Features\n",
    "unpivot(7,17)['variable'].value_counts(dropna=False, ascending=True).plot.barh()"
   ]
  },
  {
   "cell_type": "code",
   "execution_count": 12,
   "metadata": {},
   "outputs": [
    {
     "data": {
      "text/plain": [
       "<matplotlib.axes._subplots.AxesSubplot at 0x25dcbbe5e88>"
      ]
     },
     "execution_count": 12,
     "metadata": {},
     "output_type": "execute_result"
    },
    {
     "data": {
      "image/png": "[encoded data removed]",
      "text/plain": [
       "<Figure size 432x288 with 1 Axes>"
      ]
     },
     "metadata": {
      "needs_background": "light"
     },
     "output_type": "display_data"
    }
   ],
   "source": [
    "# Intention in investing Coins\n",
    "unpivot(19,26)['variable'].value_counts(dropna=False, ascending=True).plot.barh(color='darkred')"
   ]
  },
  {
   "cell_type": "code",
   "execution_count": 13,
   "metadata": {},
   "outputs": [
    {
     "data": {
      "text/plain": [
       "<matplotlib.axes._subplots.AxesSubplot at 0x25dcb25ca08>"
      ]
     },
     "execution_count": 13,
     "metadata": {},
     "output_type": "execute_result"
    },
    {
     "data": {
      "image/png": "[encoded data removed]",
      "text/plain": [
       "<Figure size 432x288 with 1 Axes>"
      ]
     },
     "metadata": {
      "needs_background": "light"
     },
     "output_type": "display_data"
    }
   ],
   "source": [
    "data.iloc[:,26].value_counts(dropna=True, ascending=True).plot.barh(color='darkorange')"
   ]
  },
  {
   "cell_type": "code",
   "execution_count": 14,
   "metadata": {},
   "outputs": [
    {
     "data": {
      "text/plain": [
       "<matplotlib.axes._subplots.AxesSubplot at 0x25dcbc83808>"
      ]
     },
     "execution_count": 14,
     "metadata": {},
     "output_type": "execute_result"
    },
    {
     "data": {
      "image/png": "[encoded data removed]",
      "text/plain": [
       "<Figure size 432x288 with 1 Axes>"
      ]
     },
     "metadata": {
      "needs_background": "light"
     },
     "output_type": "display_data"
    }
   ],
   "source": [
    "# Reason not invest in Altcoins\n",
    "unpivot(27,35)['variable'].value_counts(dropna=True, ascending=True).plot.barh(color='darkblue')"
   ]
  },
  {
   "cell_type": "code",
   "execution_count": 15,
   "metadata": {},
   "outputs": [
    {
     "data": {
      "text/plain": [
       "<matplotlib.axes._subplots.AxesSubplot at 0x25dcbcfc6c8>"
      ]
     },
     "execution_count": 15,
     "metadata": {},
     "output_type": "execute_result"
    },
    {
     "data": {
      "image/png": "[encoded data removed]",
      "text/plain": [
       "<Figure size 432x288 with 1 Axes>"
      ]
     },
     "metadata": {
      "needs_background": "light"
     },
     "output_type": "display_data"
    }
   ],
   "source": [
    "# Difficulties when investing in Altcoins\n",
    "unpivot(42,50)['variable'].value_counts(dropna=True, ascending=True).plot.barh(color='darkgreen')"
   ]
  },
  {
   "cell_type": "code",
   "execution_count": 16,
   "metadata": {},
   "outputs": [
    {
     "data": {
      "text/plain": [
       "<matplotlib.axes._subplots.AxesSubplot at 0x25dcbd83148>"
      ]
     },
     "execution_count": 16,
     "metadata": {},
     "output_type": "execute_result"
    },
    {
     "data": {
      "image/png": "[encoded data removed]",
      "text/plain": [
       "<Figure size 432x288 with 1 Axes>"
      ]
     },
     "metadata": {
      "needs_background": "light"
     },
     "output_type": "display_data"
    }
   ],
   "source": [
    "# Expectation to improve Remitano\n",
    "unpivot(58,64)['variable'].value_counts(dropna=True, ascending=True).plot.barh(color='purple')"
   ]
  },
  {
   "cell_type": "code",
   "execution_count": 17,
   "metadata": {},
   "outputs": [
    {
     "data": {
      "text/plain": [
       "<matplotlib.axes._subplots.AxesSubplot at 0x25dcbde8448>"
      ]
     },
     "execution_count": 17,
     "metadata": {},
     "output_type": "execute_result"
    },
    {
     "data": {
      "image/png": "[encoded data removed]",
      "text/plain": [
       "<Figure size 432x288 with 1 Axes>"
      ]
     },
     "metadata": {
      "needs_background": "light"
     },
     "output_type": "display_data"
    }
   ],
   "source": [
    "# Main exchange using to trade Altcoins\n",
    "unpivot(71,82)['variable'].value_counts(dropna=True, ascending=True).plot.barh(colormap='summer')"
   ]
  },
  {
   "cell_type": "code",
   "execution_count": 18,
   "metadata": {},
   "outputs": [
    {
     "data": {
      "text/plain": [
       "<matplotlib.axes._subplots.AxesSubplot at 0x25dcbe78f48>"
      ]
     },
     "execution_count": 18,
     "metadata": {},
     "output_type": "execute_result"
    },
    {
     "data": {
      "image/png": "[encoded data removed]",
      "text/plain": [
       "<Figure size 432x288 with 2 Axes>"
      ]
     },
     "metadata": {
      "needs_background": "light"
     },
     "output_type": "display_data"
    }
   ],
   "source": [
    "sns.heatmap(data.iloc[:,64:70].corr(), cmap='inferno', annot=True, vmin=.3)"
   ]
  },
  {
   "cell_type": "markdown",
   "metadata": {},
   "source": [
    "### *REMOVE COLUMNS RELATED TO* **MULTIPLE CHOICE QUESTIONS** *TO MAKE A SECONDARY DATASET WITH EACH ROW AS EACH DATA POINT*"
   ]
  },
  {
   "cell_type": "code",
   "execution_count": 19,
   "metadata": {},
   "outputs": [
    {
     "data": {
      "text/plain": [
       "Yes    457\n",
       "No     453\n",
       "Name: Have you know about Altcoins?, dtype: int64"
      ]
     },
     "execution_count": 19,
     "metadata": {},
     "output_type": "execute_result"
    }
   ],
   "source": [
    "data.iloc[:,17].value_counts(dropna=False)"
   ]
  },
  {
   "cell_type": "code",
   "execution_count": 20,
   "metadata": {},
   "outputs": [
    {
     "data": {
      "text/plain": [
       "No     790\n",
       "Yes    120\n",
       "Name: investing_altcoins, dtype: int64"
      ]
     },
     "execution_count": 20,
     "metadata": {},
     "output_type": "execute_result"
    }
   ],
   "source": [
    "# Key column to evaluate if surveyor investing in ALtcoins or not -- \"Altcoins\"\n",
    "data['investing_altcoins'] = data['Altcoins'].apply(lambda x: 'Yes' if x == 'Altcoins' else 'No')\n",
    "data['investing_altcoins'].value_counts()"
   ]
  },
  {
   "cell_type": "code",
   "execution_count": 21,
   "metadata": {},
   "outputs": [
    {
     "data": {
      "text/plain": [
       "56"
      ]
     },
     "execution_count": 21,
     "metadata": {},
     "output_type": "execute_result"
    }
   ],
   "source": [
    "remove_cols = remi_features_cols + invest_coins_cols + reason_not_invest_cols + difficulties_cols + expectation_cols + evaluate_cols + exchange_cols\n",
    "len(remove_cols)"
   ]
  },
  {
   "cell_type": "code",
   "execution_count": 22,
   "metadata": {},
   "outputs": [
    {
     "name": "stdout",
     "output_type": "stream",
     "text": [
      "0 #\n",
      "1 What age range do you have?\n",
      "2 What is your gender?\n",
      "3 Other\n",
      "4 Where are you from?\n",
      "5 Other.1\n",
      "6 When did you join Remitano?\n",
      "7 Have you know about Altcoins?\n",
      "8 Name at least 1 Altcoin you have known 🧐\n",
      "9 If you could only choose 1 coin, which one would you invest? (choose only 1)\n",
      "10 What will help you change your mind and be willing to invest Altcoin?\n",
      "11 Why did you choose to invest Altcoins?\n",
      "12 How many percentage of total budget are you going to invest in Altcoin? (type the number 0 - 100)\n",
      "13 What is your strategy in the altcoin investment ? (choose only 1)\n",
      "14 Other.3\n",
      "15 Where do you store your altcoin? (choose only 1)\n",
      "16 Other.4\n",
      "17 Which is the most difficult thing? (choose 1)\n",
      "18 Other.6\n",
      "19 Name the most potential Altcoins you can't miss, you should invest now.\n",
      "20 How did you buy Altcoins?\n",
      "21 What is the most difficult thing about buying Altcoins?\n",
      "22 If you have Altcoin, how did you sell Altcoins?\n",
      "23 What is the most difficult thing about selling Altcoin?\n",
      "24 In your opinion, what should Remitano do to help you trade Altcoins easily?\n",
      "25 If there is only 1 vote, which one do you prefer?\n",
      "26 Why did you choose this crypto exchange?\n",
      "27 Start Date (UTC)\n",
      "28 Submit Date (UTC)\n",
      "29 Network ID\n",
      "30 investing_altcoins\n"
     ]
    }
   ],
   "source": [
    "data_2nd = data.drop(columns=remove_cols)\n",
    "for i,col in enumerate(data_2nd.columns):\n",
    "    print(i,col)"
   ]
  },
  {
   "cell_type": "code",
   "execution_count": 36,
   "metadata": {},
   "outputs": [
    {
     "data": {
      "text/html": [
       "<div>\n",
       "<style scoped>\n",
       "    .dataframe tbody tr th:only-of-type {\n",
       "        vertical-align: middle;\n",
       "    }\n",
       "\n",
       "    .dataframe tbody tr th {\n",
       "        vertical-align: top;\n",
       "    }\n",
       "\n",
       "    .dataframe thead th {\n",
       "        text-align: right;\n",
       "    }\n",
       "</style>\n",
       "<table border=\"1\" class=\"dataframe\">\n",
       "  <thead>\n",
       "    <tr style=\"text-align: right;\">\n",
       "      <th></th>\n",
       "      <th>#</th>\n",
       "      <th>age</th>\n",
       "      <th>gender</th>\n",
       "      <th>gender_detail</th>\n",
       "      <th>country</th>\n",
       "      <th>country_detail</th>\n",
       "      <th>year_join</th>\n",
       "      <th>knowing_altcoin?</th>\n",
       "      <th>altcoin_you_know</th>\n",
       "      <th>prior_invest</th>\n",
       "      <th>how_to_change_mind</th>\n",
       "      <th>why_invest</th>\n",
       "      <th>budget_perc</th>\n",
       "      <th>invest_strategy</th>\n",
       "      <th>strategy_detail</th>\n",
       "      <th>prior_store</th>\n",
       "      <th>store_detail</th>\n",
       "      <th>prior_difficulty</th>\n",
       "      <th>difficulties_detail</th>\n",
       "      <th>potential_altcoin</th>\n",
       "      <th>how_to_buy</th>\n",
       "      <th>difficult_buying</th>\n",
       "      <th>how_to_sell</th>\n",
       "      <th>difficult_selling</th>\n",
       "      <th>expect</th>\n",
       "      <th>prior_expect</th>\n",
       "      <th>why_this_exchange</th>\n",
       "      <th>Start Date (UTC)</th>\n",
       "      <th>Submit Date (UTC)</th>\n",
       "      <th>Network ID</th>\n",
       "      <th>investing_altcoins</th>\n",
       "    </tr>\n",
       "  </thead>\n",
       "  <tbody>\n",
       "    <tr>\n",
       "      <th>0</th>\n",
       "      <td>6w46ukq2s3q0hg17q06w46ukqyj8cz6a</td>\n",
       "      <td>&gt; 40</td>\n",
       "      <td>Male</td>\n",
       "      <td>NaN</td>\n",
       "      <td>Malaysia</td>\n",
       "      <td>NaN</td>\n",
       "      <td>2019</td>\n",
       "      <td>No</td>\n",
       "      <td>NaN</td>\n",
       "      <td>NaN</td>\n",
       "      <td>NaN</td>\n",
       "      <td>NaN</td>\n",
       "      <td>NaN</td>\n",
       "      <td>NaN</td>\n",
       "      <td>NaN</td>\n",
       "      <td>NaN</td>\n",
       "      <td>NaN</td>\n",
       "      <td>NaN</td>\n",
       "      <td>NaN</td>\n",
       "      <td>NaN</td>\n",
       "      <td>NaN</td>\n",
       "      <td>NaN</td>\n",
       "      <td>NaN</td>\n",
       "      <td>NaN</td>\n",
       "      <td>NaN</td>\n",
       "      <td>NaN</td>\n",
       "      <td>NaN</td>\n",
       "      <td>2020-08-03 01:58:34</td>\n",
       "      <td>2020-08-03 02:01:14</td>\n",
       "      <td>6f23d6341c</td>\n",
       "      <td>No</td>\n",
       "    </tr>\n",
       "    <tr>\n",
       "      <th>1</th>\n",
       "      <td>aon05iax15oiaocz08iyq9m6nw0bx0cz</td>\n",
       "      <td>&gt; 40</td>\n",
       "      <td>Male</td>\n",
       "      <td>NaN</td>\n",
       "      <td>Malaysia</td>\n",
       "      <td>NaN</td>\n",
       "      <td>2017</td>\n",
       "      <td>Yes</td>\n",
       "      <td>Tron (TRX)</td>\n",
       "      <td>One of Altcoins I like</td>\n",
       "      <td>Daily ROI Investment</td>\n",
       "      <td>NaN</td>\n",
       "      <td>NaN</td>\n",
       "      <td>NaN</td>\n",
       "      <td>NaN</td>\n",
       "      <td>NaN</td>\n",
       "      <td>NaN</td>\n",
       "      <td>NaN</td>\n",
       "      <td>NaN</td>\n",
       "      <td>NaN</td>\n",
       "      <td>NaN</td>\n",
       "      <td>NaN</td>\n",
       "      <td>NaN</td>\n",
       "      <td>NaN</td>\n",
       "      <td>Provide Trading Chart And Indicators</td>\n",
       "      <td>I can add my new Altcoin (which I create) on R...</td>\n",
       "      <td>NaN</td>\n",
       "      <td>2020-07-15 04:17:25</td>\n",
       "      <td>2020-07-15 04:25:07</td>\n",
       "      <td>6a0087bdf7</td>\n",
       "      <td>No</td>\n",
       "    </tr>\n",
       "    <tr>\n",
       "      <th>2</th>\n",
       "      <td>rd4384zwi4f8qdc8zpkgrd4384zwsiqw</td>\n",
       "      <td>31 - 40</td>\n",
       "      <td>Male</td>\n",
       "      <td>NaN</td>\n",
       "      <td>Malaysia</td>\n",
       "      <td>NaN</td>\n",
       "      <td>2017</td>\n",
       "      <td>No</td>\n",
       "      <td>NaN</td>\n",
       "      <td>NaN</td>\n",
       "      <td>NaN</td>\n",
       "      <td>NaN</td>\n",
       "      <td>NaN</td>\n",
       "      <td>NaN</td>\n",
       "      <td>NaN</td>\n",
       "      <td>NaN</td>\n",
       "      <td>NaN</td>\n",
       "      <td>NaN</td>\n",
       "      <td>NaN</td>\n",
       "      <td>NaN</td>\n",
       "      <td>NaN</td>\n",
       "      <td>NaN</td>\n",
       "      <td>NaN</td>\n",
       "      <td>NaN</td>\n",
       "      <td>NaN</td>\n",
       "      <td>NaN</td>\n",
       "      <td>NaN</td>\n",
       "      <td>2020-07-03 23:21:57</td>\n",
       "      <td>2020-07-03 23:24:19</td>\n",
       "      <td>58162a427b</td>\n",
       "      <td>No</td>\n",
       "    </tr>\n",
       "    <tr>\n",
       "      <th>3</th>\n",
       "      <td>5v23ormjjk7517pdic95v23r0v2l61l2</td>\n",
       "      <td>&lt; 18</td>\n",
       "      <td>Male</td>\n",
       "      <td>NaN</td>\n",
       "      <td>India</td>\n",
       "      <td>NaN</td>\n",
       "      <td>2020</td>\n",
       "      <td>No</td>\n",
       "      <td>NaN</td>\n",
       "      <td>NaN</td>\n",
       "      <td>NaN</td>\n",
       "      <td>NaN</td>\n",
       "      <td>NaN</td>\n",
       "      <td>NaN</td>\n",
       "      <td>NaN</td>\n",
       "      <td>NaN</td>\n",
       "      <td>NaN</td>\n",
       "      <td>NaN</td>\n",
       "      <td>NaN</td>\n",
       "      <td>NaN</td>\n",
       "      <td>NaN</td>\n",
       "      <td>NaN</td>\n",
       "      <td>NaN</td>\n",
       "      <td>NaN</td>\n",
       "      <td>NaN</td>\n",
       "      <td>NaN</td>\n",
       "      <td>NaN</td>\n",
       "      <td>2020-06-26 14:32:31</td>\n",
       "      <td>2020-06-26 14:33:10</td>\n",
       "      <td>368d15a9d1</td>\n",
       "      <td>No</td>\n",
       "    </tr>\n",
       "    <tr>\n",
       "      <th>4</th>\n",
       "      <td>1i9bju4z8s2gxicftve1i9bcwwsjzd6r</td>\n",
       "      <td>18 - 25</td>\n",
       "      <td>Male</td>\n",
       "      <td>NaN</td>\n",
       "      <td>India</td>\n",
       "      <td>NaN</td>\n",
       "      <td>2020</td>\n",
       "      <td>No</td>\n",
       "      <td>NaN</td>\n",
       "      <td>NaN</td>\n",
       "      <td>NaN</td>\n",
       "      <td>NaN</td>\n",
       "      <td>NaN</td>\n",
       "      <td>NaN</td>\n",
       "      <td>NaN</td>\n",
       "      <td>NaN</td>\n",
       "      <td>NaN</td>\n",
       "      <td>NaN</td>\n",
       "      <td>NaN</td>\n",
       "      <td>NaN</td>\n",
       "      <td>NaN</td>\n",
       "      <td>NaN</td>\n",
       "      <td>NaN</td>\n",
       "      <td>NaN</td>\n",
       "      <td>NaN</td>\n",
       "      <td>NaN</td>\n",
       "      <td>NaN</td>\n",
       "      <td>2020-06-26 14:31:07</td>\n",
       "      <td>2020-06-26 14:32:22</td>\n",
       "      <td>368d15a9d1</td>\n",
       "      <td>No</td>\n",
       "    </tr>\n",
       "  </tbody>\n",
       "</table>\n",
       "</div>"
      ],
      "text/plain": [
       "                                  #      age gender gender_detail   country  \\\n",
       "0  6w46ukq2s3q0hg17q06w46ukqyj8cz6a     > 40   Male           NaN  Malaysia   \n",
       "1  aon05iax15oiaocz08iyq9m6nw0bx0cz     > 40   Male           NaN  Malaysia   \n",
       "2  rd4384zwi4f8qdc8zpkgrd4384zwsiqw  31 - 40   Male           NaN  Malaysia   \n",
       "3  5v23ormjjk7517pdic95v23r0v2l61l2     < 18   Male           NaN     India   \n",
       "4  1i9bju4z8s2gxicftve1i9bcwwsjzd6r  18 - 25   Male           NaN     India   \n",
       "\n",
       "  country_detail  year_join knowing_altcoin? altcoin_you_know  \\\n",
       "0            NaN       2019               No              NaN   \n",
       "1            NaN       2017              Yes       Tron (TRX)   \n",
       "2            NaN       2017               No              NaN   \n",
       "3            NaN       2020               No              NaN   \n",
       "4            NaN       2020               No              NaN   \n",
       "\n",
       "             prior_invest    how_to_change_mind why_invest  budget_perc  \\\n",
       "0                     NaN                   NaN        NaN          NaN   \n",
       "1  One of Altcoins I like  Daily ROI Investment        NaN          NaN   \n",
       "2                     NaN                   NaN        NaN          NaN   \n",
       "3                     NaN                   NaN        NaN          NaN   \n",
       "4                     NaN                   NaN        NaN          NaN   \n",
       "\n",
       "  invest_strategy strategy_detail prior_store store_detail prior_difficulty  \\\n",
       "0             NaN             NaN         NaN          NaN              NaN   \n",
       "1             NaN             NaN         NaN          NaN              NaN   \n",
       "2             NaN             NaN         NaN          NaN              NaN   \n",
       "3             NaN             NaN         NaN          NaN              NaN   \n",
       "4             NaN             NaN         NaN          NaN              NaN   \n",
       "\n",
       "  difficulties_detail potential_altcoin how_to_buy difficult_buying  \\\n",
       "0                 NaN               NaN        NaN              NaN   \n",
       "1                 NaN               NaN        NaN              NaN   \n",
       "2                 NaN               NaN        NaN              NaN   \n",
       "3                 NaN               NaN        NaN              NaN   \n",
       "4                 NaN               NaN        NaN              NaN   \n",
       "\n",
       "  how_to_sell difficult_selling                                expect  \\\n",
       "0         NaN               NaN                                   NaN   \n",
       "1         NaN               NaN  Provide Trading Chart And Indicators   \n",
       "2         NaN               NaN                                   NaN   \n",
       "3         NaN               NaN                                   NaN   \n",
       "4         NaN               NaN                                   NaN   \n",
       "\n",
       "                                        prior_expect why_this_exchange  \\\n",
       "0                                                NaN               NaN   \n",
       "1  I can add my new Altcoin (which I create) on R...               NaN   \n",
       "2                                                NaN               NaN   \n",
       "3                                                NaN               NaN   \n",
       "4                                                NaN               NaN   \n",
       "\n",
       "     Start Date (UTC)   Submit Date (UTC)  Network ID investing_altcoins  \n",
       "0 2020-08-03 01:58:34 2020-08-03 02:01:14  6f23d6341c                 No  \n",
       "1 2020-07-15 04:17:25 2020-07-15 04:25:07  6a0087bdf7                 No  \n",
       "2 2020-07-03 23:21:57 2020-07-03 23:24:19  58162a427b                 No  \n",
       "3 2020-06-26 14:32:31 2020-06-26 14:33:10  368d15a9d1                 No  \n",
       "4 2020-06-26 14:31:07 2020-06-26 14:32:22  368d15a9d1                 No  "
      ]
     },
     "execution_count": 36,
     "metadata": {},
     "output_type": "execute_result"
    }
   ],
   "source": [
    "# Rename the columns in order to be more legible\n",
    "new_cols = ['age','gender','gender_detail','country','country_detail','year_join','knowing_altcoin?','altcoin_you_know',\n",
    "            'prior_invest','how_to_change_mind','why_invest','budget_perc','invest_strategy','strategy_detail',\n",
    "            'prior_store','store_detail','prior_difficulty','difficulties_detail','potential_altcoin','how_to_buy',\n",
    "            'difficult_buying','how_to_sell','difficult_selling','expect','prior_expect','why_this_exchange']\n",
    "# test = data_2nd.copy()\n",
    "for i in range(1,27):\n",
    "    data_2nd.rename(columns={data_2nd.iloc[:,i].name : new_cols[i-1]}, inplace=True)\n",
    "data_2nd.head()"
   ]
  },
  {
   "cell_type": "code",
   "execution_count": 24,
   "metadata": {},
   "outputs": [
    {
     "data": {
      "text/plain": [
       "<matplotlib.axes._subplots.AxesSubplot at 0x25dcbffcbc8>"
      ]
     },
     "execution_count": 24,
     "metadata": {},
     "output_type": "execute_result"
    },
    {
     "data": {
      "image/png": "[encoded data removed]",
      "text/plain": [
       "<Figure size 432x288 with 1 Axes>"
      ]
     },
     "metadata": {
      "needs_background": "light"
     },
     "output_type": "display_data"
    }
   ],
   "source": [
    "data.iloc[:,37].plot.box()"
   ]
  },
  {
   "cell_type": "code",
   "execution_count": 27,
   "metadata": {},
   "outputs": [
    {
     "data": {
      "text/plain": [
       "<matplotlib.axes._subplots.AxesSubplot at 0x25dcc294608>"
      ]
     },
     "execution_count": 27,
     "metadata": {},
     "output_type": "execute_result"
    },
    {
     "data": {
      "image/png": "[encoded data removed]",
      "text/plain": [
       "<Figure size 720x360 with 1 Axes>"
      ]
     },
     "metadata": {
      "needs_background": "light"
     },
     "output_type": "display_data"
    }
   ],
   "source": [
    "fig,ax = plt.subplots(figsize=(10,5))\n",
    "sns.boxplot(data=data_2nd, x='age', y='budget_perc', hue='gender',\n",
    "            order = ['< 18', '18 - 25', '26 - 30', '31 - 40', '> 40'])"
   ]
  },
  {
   "cell_type": "code",
   "execution_count": 28,
   "metadata": {},
   "outputs": [
    {
     "data": {
      "text/plain": [
       "<matplotlib.axes._subplots.AxesSubplot at 0x25dcd38d808>"
      ]
     },
     "execution_count": 28,
     "metadata": {},
     "output_type": "execute_result"
    },
    {
     "data": {
      "image/png": "[encoded data removed]",
      "text/plain": [
       "<Figure size 432x288 with 1 Axes>"
      ]
     },
     "metadata": {
      "needs_background": "light"
     },
     "output_type": "display_data"
    }
   ],
   "source": [
    "sns.countplot(data=data_2nd, x='age', hue='gender', order=['< 18', '18 - 25', '26 - 30', '31 - 40', '> 40'])"
   ]
  },
  {
   "cell_type": "code",
   "execution_count": 29,
   "metadata": {},
   "outputs": [
    {
     "data": {
      "text/plain": [
       "<matplotlib.axes._subplots.AxesSubplot at 0x25dcc20a788>"
      ]
     },
     "execution_count": 29,
     "metadata": {},
     "output_type": "execute_result"
    },
    {
     "data": {
      "image/png": "[encoded data removed]",
      "text/plain": [
       "<Figure size 432x288 with 1 Axes>"
      ]
     },
     "metadata": {
      "needs_background": "light"
     },
     "output_type": "display_data"
    }
   ],
   "source": [
    "sns.countplot(data=data_2nd, x='country', hue='gender')"
   ]
  },
  {
   "cell_type": "code",
   "execution_count": 30,
   "metadata": {},
   "outputs": [
    {
     "data": {
      "text/plain": [
       "<matplotlib.axes._subplots.AxesSubplot at 0x25dcc213f88>"
      ]
     },
     "execution_count": 30,
     "metadata": {},
     "output_type": "execute_result"
    },
    {
     "data": {
      "image/png": "[encoded data removed]",
      "text/plain": [
       "<Figure size 432x288 with 1 Axes>"
      ]
     },
     "metadata": {
      "needs_background": "light"
     },
     "output_type": "display_data"
    }
   ],
   "source": [
    "sns.boxplot(data=data_2nd, x='country', y='budget_perc', hue='gender')"
   ]
  },
  {
   "cell_type": "markdown",
   "metadata": {},
   "source": [
    "### **LAST BUT NOT LEAST, EXPORT DATAFRAME INTO CSV FILE TO USE IN BI TOOLS FOR BETTER RESULTS**"
   ]
  },
  {
   "cell_type": "code",
   "execution_count": 31,
   "metadata": {},
   "outputs": [
    {
     "data": {
      "text/plain": [
       "I can buy/sell all Altcoins at \"P2P exchange\".                         262\n",
       "I can \"Swap\" from BTC / ETH / UST to all Altcoins and vice versa.      222\n",
       "I can store and deposit/withdraw all altcoins in \"Remitano wallet\".    176\n",
       "I can \"Swap\" from my fiat-currency to all Altcoins and vice versa.     146\n",
       "I can \"Invest\" in all Altcoins.                                        128\n",
       "I can add my new Altcoin (which I create) on Remitano system.           92\n",
       "Name: variable, dtype: int64"
      ]
     },
     "execution_count": 31,
     "metadata": {},
     "output_type": "execute_result"
    }
   ],
   "source": [
    "unpivot(columns=expectation_cols)['variable'].value_counts()"
   ]
  },
  {
   "cell_type": "code",
   "execution_count": 38,
   "metadata": {},
   "outputs": [
    {
     "data": {
      "text/plain": [
       "array(['Coinbas và Coinbase Pro', 'Bittrex', 'Changelly', 'Binance',\n",
       "       'Kraken', 'BitMEX', 'KuCoin', 'Huobi Pro', 'Bitpanda', 'Remitano',\n",
       "       'Other'], dtype=object)"
      ]
     },
     "execution_count": 38,
     "metadata": {},
     "output_type": "execute_result"
    }
   ],
   "source": [
    "remi_features_data = unpivot(columns=remi_features_cols, var_name='features')\n",
    "invest_coins_data = unpivot(columns=invest_coins_cols, var_name='coin_invest')\n",
    "reason_not_invest_data = unpivot(columns=reason_not_invest_cols, var_name='reasons')\n",
    "difficulties_data = unpivot(columns=difficulties_cols, var_name='difficulties')\n",
    "expectation_data = unpivot(columns=expectation_cols, var_name='expectation')\n",
    "evaluate_data = unpivot(columns=evaluate_cols, var_name='option')\n",
    "exchange_data = unpivot(columns=exchange_cols, var_name='exchange')\n",
    "exchange_data['exchange'].unique()"
   ]
  },
  {
   "cell_type": "code",
   "execution_count": 33,
   "metadata": {},
   "outputs": [
    {
     "data": {
      "text/html": [
       "<div>\n",
       "<style scoped>\n",
       "    .dataframe tbody tr th:only-of-type {\n",
       "        vertical-align: middle;\n",
       "    }\n",
       "\n",
       "    .dataframe tbody tr th {\n",
       "        vertical-align: top;\n",
       "    }\n",
       "\n",
       "    .dataframe thead th {\n",
       "        text-align: right;\n",
       "    }\n",
       "</style>\n",
       "<table border=\"1\" class=\"dataframe\">\n",
       "  <thead>\n",
       "    <tr style=\"text-align: right;\">\n",
       "      <th></th>\n",
       "      <th>#</th>\n",
       "      <th>exchange</th>\n",
       "      <th>detail</th>\n",
       "    </tr>\n",
       "  </thead>\n",
       "  <tbody>\n",
       "    <tr>\n",
       "      <th>9546</th>\n",
       "      <td>auaswfa9t27m3m3mclauas1hgtiba40e</td>\n",
       "      <td>Other</td>\n",
       "      <td>ExMarket</td>\n",
       "    </tr>\n",
       "    <tr>\n",
       "      <th>9600</th>\n",
       "      <td>mx1fnimldhbsiaj2mx1fsr5j27x2l8kf</td>\n",
       "      <td>Other</td>\n",
       "      <td>STEX</td>\n",
       "    </tr>\n",
       "    <tr>\n",
       "      <th>9751</th>\n",
       "      <td>796jyxs4xb11yqw7892d79w6i0c45wmn</td>\n",
       "      <td>Other</td>\n",
       "      <td>ExMarkets</td>\n",
       "    </tr>\n",
       "    <tr>\n",
       "      <th>9778</th>\n",
       "      <td>6mor7pf58yzxnj20grpp6mor7pf5aol6</td>\n",
       "      <td>Other</td>\n",
       "      <td>Blockchain</td>\n",
       "    </tr>\n",
       "    <tr>\n",
       "      <th>9923</th>\n",
       "      <td>4up3yox2vrf9ohej9ha5wnr4up3yox21</td>\n",
       "      <td>Other</td>\n",
       "      <td>coinomi</td>\n",
       "    </tr>\n",
       "  </tbody>\n",
       "</table>\n",
       "</div>"
      ],
      "text/plain": [
       "                                     # exchange      detail\n",
       "9546  auaswfa9t27m3m3mclauas1hgtiba40e    Other    ExMarket\n",
       "9600  mx1fnimldhbsiaj2mx1fsr5j27x2l8kf    Other        STEX\n",
       "9751  796jyxs4xb11yqw7892d79w6i0c45wmn    Other   ExMarkets\n",
       "9778  6mor7pf58yzxnj20grpp6mor7pf5aol6    Other  Blockchain\n",
       "9923  4up3yox2vrf9ohej9ha5wnr4up3yox21    Other     coinomi"
      ]
     },
     "execution_count": 33,
     "metadata": {},
     "output_type": "execute_result"
    }
   ],
   "source": [
    "exchange_data.tail()"
   ]
  },
  {
   "cell_type": "code",
   "execution_count": 39,
   "metadata": {},
   "outputs": [],
   "source": [
    "# Export the data related to the multiple choices questions and evaluate question\n",
    "# remi_features_data.to_csv('remitano_features.csv', sep=',', header=True, index=False)\n",
    "# invest_coins_data.to_csv('invest_coins.csv', index=False)\n",
    "# reason_not_invest_data.to_csv('reason_not_invest.csv', index=False)\n",
    "# difficulties_data.to_csv('difficulties_in_trading.csv', index=False)\n",
    "# expectation_data.to_csv('expectation.csv', index=False)\n",
    "# evaluate_data.to_csv('evaluate.csv', index=False)\n",
    "# exchange_data.to_csv('exchange.csv', index=False)"
   ]
  },
  {
   "cell_type": "code",
   "execution_count": 156,
   "metadata": {},
   "outputs": [],
   "source": [
    "# Export the secondary data to take advantage of data model in BI tools\n",
    "# data_2nd.to_csv('secondary_data.csv', index=False)"
   ]
  },
  {
   "cell_type": "code",
   "execution_count": 74,
   "metadata": {},
   "outputs": [
    {
     "data": {
      "text/plain": [
       "<matplotlib.axes._subplots.AxesSubplot at 0x25dce3a9208>"
      ]
     },
     "execution_count": 74,
     "metadata": {},
     "output_type": "execute_result"
    },
    {
     "data": {
      "image/png": "[encoded data removed]",
      "text/plain": [
       "<Figure size 432x288 with 2 Axes>"
      ]
     },
     "metadata": {
      "needs_background": "light"
     },
     "output_type": "display_data"
    }
   ],
   "source": [
    "correlate = data.iloc[:, [37, 64, 65, 66, 67, 68, 69]].corr().iloc[:,[0]]\n",
    "sns.heatmap(correlate.sort_values(by = correlate.iloc[:,0].name, ascending=False)[1:],\n",
    "            cmap='viridis', annot=True)"
   ]
  },
  {
   "cell_type": "code",
   "execution_count": 76,
   "metadata": {},
   "outputs": [
    {
     "name": "stdout",
     "output_type": "stream",
     "text": [
      "<class 'pandas.core.frame.DataFrame'>\n",
      "Int64Index: 3195 entries, 0 to 3194\n",
      "Data columns (total 33 columns):\n",
      " #   Column               Non-Null Count  Dtype         \n",
      "---  ------               --------------  -----         \n",
      " 0   #                    3195 non-null   object        \n",
      " 1   age                  3195 non-null   object        \n",
      " 2   gender               3195 non-null   object        \n",
      " 3   gender_detail        7 non-null      object        \n",
      " 4   country              3195 non-null   object        \n",
      " 5   country_detail       683 non-null    object        \n",
      " 6   year_join            3195 non-null   int64         \n",
      " 7   knowing_altcoin?     3195 non-null   object        \n",
      " 8   altcoin_you_know     2742 non-null   object        \n",
      " 9   prior_invest         2742 non-null   object        \n",
      " 10  how_to_change_mind   2022 non-null   object        \n",
      " 11  why_invest           720 non-null    object        \n",
      " 12  budget_perc          720 non-null    float64       \n",
      " 13  invest_strategy      720 non-null    object        \n",
      " 14  strategy_detail      6 non-null      object        \n",
      " 15  prior_store          720 non-null    object        \n",
      " 16  store_detail         24 non-null     object        \n",
      " 17  prior_difficulty     720 non-null    object        \n",
      " 18  difficulties_detail  12 non-null     object        \n",
      " 19  potential_altcoin    720 non-null    object        \n",
      " 20  how_to_buy           720 non-null    object        \n",
      " 21  difficult_buying     720 non-null    object        \n",
      " 22  how_to_sell          720 non-null    object        \n",
      " 23  difficult_selling    720 non-null    object        \n",
      " 24  expect               2742 non-null   object        \n",
      " 25  prior_expect         2742 non-null   object        \n",
      " 26  why_this_exchange    720 non-null    object        \n",
      " 27  Start Date (UTC)     3195 non-null   datetime64[ns]\n",
      " 28  Submit Date (UTC)    3195 non-null   datetime64[ns]\n",
      " 29  Network ID           3195 non-null   object        \n",
      " 30  investing_altcoins   3195 non-null   object        \n",
      " 31  option               2742 non-null   object        \n",
      " 32  detail               2742 non-null   float64       \n",
      "dtypes: datetime64[ns](2), float64(2), int64(1), object(28)\n",
      "memory usage: 848.7+ KB\n"
     ]
    }
   ],
   "source": [
    "evaluate_merge = data_2nd.merge(evaluate_data, on='#', how='left')\n",
    "evaluate_merge.info()"
   ]
  },
  {
   "cell_type": "code",
   "execution_count": 82,
   "metadata": {},
   "outputs": [
    {
     "data": {
      "text/plain": [
       "<matplotlib.axes._subplots.AxesSubplot at 0x25dcf7d8648>"
      ]
     },
     "execution_count": 82,
     "metadata": {},
     "output_type": "execute_result"
    },
    {
     "data": {
      "image/png": "[encoded data removed]",
      "text/plain": [
       "<Figure size 432x288 with 1 Axes>"
      ]
     },
     "metadata": {
      "needs_background": "light"
     },
     "output_type": "display_data"
    }
   ],
   "source": [
    "sns.boxplot(data=evaluate_merge, y='option', x='detail', hue='investing_altcoins')"
   ]
  },
  {
   "cell_type": "code",
   "execution_count": 83,
   "metadata": {},
   "outputs": [
    {
     "name": "stdout",
     "output_type": "stream",
     "text": [
      "0 #\n",
      "1 What age range do you have?\n",
      "2 What is your gender?\n",
      "3 Other\n",
      "4 Where are you from?\n",
      "5 Other.1\n",
      "6 When did you join Remitano?\n",
      "7 Buy Coins\n",
      "8 Sell Coins\n",
      "9 Withdraw coins\n",
      "10 Deposit Coins\n",
      "11 Swap\n",
      "12 Invest\n",
      "13 Read articles on Forum\n",
      "14 Participate in minigame on Forum\n",
      "15 Not using any of the above features\n",
      "16 Used all\n",
      "17 Have you know about Altcoins?\n",
      "18 Name at least 1 Altcoin you have known 🧐\n",
      "19 Altcoins\n",
      "20 BTC\n",
      "21 ETH\n",
      "22 USDT\n",
      "23 LTC\n",
      "24 XRP\n",
      "25 BCH\n",
      "26 If you could only choose 1 coin, which one would you invest? (choose only 1)\n",
      "27 Because there are more risks (scam, fraud) than Bitcoin or top coin.\n",
      "28 Because I got difficulty to own and store Altcoins.\n",
      "29 Because of low liquidity.\n",
      "30 Because I have a litte money.\n",
      "31 Because I am lack of information about potential Altcoins.\n",
      "32 Because the crypto exchange platforms I'm using don't have the Altcoins which I want to buy.\n",
      "33 Because the budget of crypto market is very small in my portfolio.\n",
      "34 Other.2\n",
      "35 What will help you change your mind and be willing to invest Altcoin?\n",
      "36 Why did you choose to invest Altcoins?\n",
      "37 How many percentage of total budget are you going to invest in Altcoin? (type the number 0 - 100)\n",
      "38 What is your strategy in the altcoin investment ? (choose only 1)\n",
      "39 Other.3\n",
      "40 Where do you store your altcoin? (choose only 1)\n",
      "41 Other.4\n",
      "42 I got difficulties in owning and storing Altcoins.\n",
      "43 The exchange is low liquidity.\n",
      "44 I have low invest budget\n",
      "45 I am lack of information about potential Altcoins.\n",
      "46 The crypto exchange platforms I'm using don't have the Altcoins which I want to buy.\n",
      "47 The budget of crypto market is very small in my portfolio.\n",
      "48 There are more risks (scam, fraud) than Bitcoin or top coin.\n",
      "49 Other.5\n",
      "50 Which is the most difficult thing? (choose 1)\n",
      "51 Other.6\n",
      "52 Name the most potential Altcoins you can't miss, you should invest now.\n",
      "53 How did you buy Altcoins?\n",
      "54 What is the most difficult thing about buying Altcoins?\n",
      "55 If you have Altcoin, how did you sell Altcoins?\n",
      "56 What is the most difficult thing about selling Altcoin?\n",
      "57 In your opinion, what should Remitano do to help you trade Altcoins easily?\n",
      "58 I can buy/sell all Altcoins at \"P2P exchange\".\n",
      "59 I can \"Swap\" from BTC / ETH / UST to all Altcoins and vice versa.\n",
      "60 I can \"Swap\" from my fiat-currency to all Altcoins and vice versa.\n",
      "61 I can \"Invest\" in all Altcoins.\n",
      "62 I can store and deposit/withdraw all altcoins in \"Remitano wallet\".\n",
      "63 I can add my new Altcoin (which I create) on Remitano system.\n",
      "64 I can buy/sell all Altcoins at \"P2P exchange\"..1\n",
      "65 I can \"Swap\" from BTC / ETH / UST to all Altcoins and vice versa..1\n",
      "66 I can \"Swap\" from my fiat-currency to all Altcoins and vice versa..1\n",
      "67 I can \"Invest\" in all Altcoins..1\n",
      "68 I can store and deposit/withdraw all altcoins in \"Remitano wallet\"..1\n",
      "69 I can add my new Altcoin (which I create) on Remitano system..1\n",
      "70 If there is only 1 vote, which one do you prefer?\n",
      "71 Coinbas và Coinbase Pro\n",
      "72 Bittrex\n",
      "73 Changelly\n",
      "74 Binance\n",
      "75 Kraken\n",
      "76 BitMEX\n",
      "77 KuCoin\n",
      "78 Huobi Pro\n",
      "79 Bitpanda\n",
      "80 Remitano\n",
      "81 Other.7\n",
      "82 Why did you choose this crypto exchange?\n",
      "83 Start Date (UTC)\n",
      "84 Submit Date (UTC)\n",
      "85 Network ID\n",
      "86 investing_altcoins\n"
     ]
    }
   ],
   "source": [
    "for i,col in enumerate(data.columns):\n",
    "    print(i,col)"
   ]
  },
  {
   "cell_type": "code",
   "execution_count": null,
   "metadata": {},
   "outputs": [],
   "source": []
  }
 ],
 "metadata": {
  "kernelspec": {
   "display_name": "Python 3",
   "language": "python",
   "name": "python3"
  },
  "language_info": {
   "codemirror_mode": {
    "name": "ipython",
    "version": 3
   },
   "file_extension": ".py",
   "mimetype": "text/x-python",
   "name": "python",
   "nbconvert_exporter": "python",
   "pygments_lexer": "ipython3",
   "version": "3.7.6"
  }
 },
 "nbformat": 4,
 "nbformat_minor": 4
}
