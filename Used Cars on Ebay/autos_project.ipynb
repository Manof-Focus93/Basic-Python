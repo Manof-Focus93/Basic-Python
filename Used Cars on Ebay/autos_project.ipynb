{
 "cells": [
  {
   "cell_type": "markdown",
   "metadata": {},
   "source": [
    "## **Analyzing Used Car Listings on eBay Kleinanzeigen**\n",
    "\n",
    "#### We will be working on a dataset of used cars from eBay Kleinanzeigen, a classifieds section of the German eBay website. The original [data](https://www.kaggle.com/orgesleka/used-cars-database/data) was scraped and uploaded to Kaggle.\n",
    "\n",
    "#### Our aim of this project is to **clean, analyze and visualize** the included used car listings."
   ]
  },
  {
   "cell_type": "code",
   "execution_count": 1,
   "metadata": {},
   "outputs": [],
   "source": [
    "import pandas as pd\n",
    "import numpy as np\n",
    "import matplotlib.pyplot as plt\n",
    "import seaborn as sns\n",
    "%matplotlib inline\n",
    "pd.set_option('max_columns',200)"
   ]
  },
  {
   "cell_type": "code",
   "execution_count": 2,
   "metadata": {},
   "outputs": [
    {
     "data": {
      "text/html": [
       "<div>\n",
       "<style scoped>\n",
       "    .dataframe tbody tr th:only-of-type {\n",
       "        vertical-align: middle;\n",
       "    }\n",
       "\n",
       "    .dataframe tbody tr th {\n",
       "        vertical-align: top;\n",
       "    }\n",
       "\n",
       "    .dataframe thead th {\n",
       "        text-align: right;\n",
       "    }\n",
       "</style>\n",
       "<table border=\"1\" class=\"dataframe\">\n",
       "  <thead>\n",
       "    <tr style=\"text-align: right;\">\n",
       "      <th></th>\n",
       "      <th>dateCrawled</th>\n",
       "      <th>name</th>\n",
       "      <th>seller</th>\n",
       "      <th>offerType</th>\n",
       "      <th>price</th>\n",
       "      <th>abtest</th>\n",
       "      <th>vehicleType</th>\n",
       "      <th>yearOfRegistration</th>\n",
       "      <th>gearbox</th>\n",
       "      <th>powerPS</th>\n",
       "      <th>model</th>\n",
       "      <th>kilometer</th>\n",
       "      <th>monthOfRegistration</th>\n",
       "      <th>fuelType</th>\n",
       "      <th>brand</th>\n",
       "      <th>notRepairedDamage</th>\n",
       "      <th>dateCreated</th>\n",
       "      <th>nrOfPictures</th>\n",
       "      <th>postalCode</th>\n",
       "      <th>lastSeen</th>\n",
       "    </tr>\n",
       "  </thead>\n",
       "  <tbody>\n",
       "    <tr>\n",
       "      <th>0</th>\n",
       "      <td>2016-03-24 11:52:17</td>\n",
       "      <td>Golf_3_1.6</td>\n",
       "      <td>privat</td>\n",
       "      <td>Angebot</td>\n",
       "      <td>480</td>\n",
       "      <td>test</td>\n",
       "      <td>NaN</td>\n",
       "      <td>1993</td>\n",
       "      <td>manuell</td>\n",
       "      <td>0</td>\n",
       "      <td>golf</td>\n",
       "      <td>150000</td>\n",
       "      <td>0</td>\n",
       "      <td>benzin</td>\n",
       "      <td>volkswagen</td>\n",
       "      <td>NaN</td>\n",
       "      <td>2016-03-24 00:00:00</td>\n",
       "      <td>0</td>\n",
       "      <td>70435</td>\n",
       "      <td>2016-04-07 03:16:57</td>\n",
       "    </tr>\n",
       "    <tr>\n",
       "      <th>1</th>\n",
       "      <td>2016-03-24 10:58:45</td>\n",
       "      <td>A5_Sportback_2.7_Tdi</td>\n",
       "      <td>privat</td>\n",
       "      <td>Angebot</td>\n",
       "      <td>18300</td>\n",
       "      <td>test</td>\n",
       "      <td>coupe</td>\n",
       "      <td>2011</td>\n",
       "      <td>manuell</td>\n",
       "      <td>190</td>\n",
       "      <td>NaN</td>\n",
       "      <td>125000</td>\n",
       "      <td>5</td>\n",
       "      <td>diesel</td>\n",
       "      <td>audi</td>\n",
       "      <td>ja</td>\n",
       "      <td>2016-03-24 00:00:00</td>\n",
       "      <td>0</td>\n",
       "      <td>66954</td>\n",
       "      <td>2016-04-07 01:46:50</td>\n",
       "    </tr>\n",
       "    <tr>\n",
       "      <th>2</th>\n",
       "      <td>2016-03-14 12:52:21</td>\n",
       "      <td>Jeep_Grand_Cherokee_\"Overland\"</td>\n",
       "      <td>privat</td>\n",
       "      <td>Angebot</td>\n",
       "      <td>9800</td>\n",
       "      <td>test</td>\n",
       "      <td>suv</td>\n",
       "      <td>2004</td>\n",
       "      <td>automatik</td>\n",
       "      <td>163</td>\n",
       "      <td>grand</td>\n",
       "      <td>125000</td>\n",
       "      <td>8</td>\n",
       "      <td>diesel</td>\n",
       "      <td>jeep</td>\n",
       "      <td>NaN</td>\n",
       "      <td>2016-03-14 00:00:00</td>\n",
       "      <td>0</td>\n",
       "      <td>90480</td>\n",
       "      <td>2016-04-05 12:47:46</td>\n",
       "    </tr>\n",
       "    <tr>\n",
       "      <th>3</th>\n",
       "      <td>2016-03-17 16:54:04</td>\n",
       "      <td>GOLF_4_1_4__3TÜRER</td>\n",
       "      <td>privat</td>\n",
       "      <td>Angebot</td>\n",
       "      <td>1500</td>\n",
       "      <td>test</td>\n",
       "      <td>kleinwagen</td>\n",
       "      <td>2001</td>\n",
       "      <td>manuell</td>\n",
       "      <td>75</td>\n",
       "      <td>golf</td>\n",
       "      <td>150000</td>\n",
       "      <td>6</td>\n",
       "      <td>benzin</td>\n",
       "      <td>volkswagen</td>\n",
       "      <td>nein</td>\n",
       "      <td>2016-03-17 00:00:00</td>\n",
       "      <td>0</td>\n",
       "      <td>91074</td>\n",
       "      <td>2016-03-17 17:40:17</td>\n",
       "    </tr>\n",
       "    <tr>\n",
       "      <th>4</th>\n",
       "      <td>2016-03-31 17:25:20</td>\n",
       "      <td>Skoda_Fabia_1.4_TDI_PD_Classic</td>\n",
       "      <td>privat</td>\n",
       "      <td>Angebot</td>\n",
       "      <td>3600</td>\n",
       "      <td>test</td>\n",
       "      <td>kleinwagen</td>\n",
       "      <td>2008</td>\n",
       "      <td>manuell</td>\n",
       "      <td>69</td>\n",
       "      <td>fabia</td>\n",
       "      <td>90000</td>\n",
       "      <td>7</td>\n",
       "      <td>diesel</td>\n",
       "      <td>skoda</td>\n",
       "      <td>nein</td>\n",
       "      <td>2016-03-31 00:00:00</td>\n",
       "      <td>0</td>\n",
       "      <td>60437</td>\n",
       "      <td>2016-04-06 10:17:21</td>\n",
       "    </tr>\n",
       "  </tbody>\n",
       "</table>\n",
       "</div>"
      ],
      "text/plain": [
       "           dateCrawled                            name  seller offerType  \\\n",
       "0  2016-03-24 11:52:17                      Golf_3_1.6  privat   Angebot   \n",
       "1  2016-03-24 10:58:45            A5_Sportback_2.7_Tdi  privat   Angebot   \n",
       "2  2016-03-14 12:52:21  Jeep_Grand_Cherokee_\"Overland\"  privat   Angebot   \n",
       "3  2016-03-17 16:54:04              GOLF_4_1_4__3TÜRER  privat   Angebot   \n",
       "4  2016-03-31 17:25:20  Skoda_Fabia_1.4_TDI_PD_Classic  privat   Angebot   \n",
       "\n",
       "   price abtest vehicleType  yearOfRegistration    gearbox  powerPS  model  \\\n",
       "0    480   test         NaN                1993    manuell        0   golf   \n",
       "1  18300   test       coupe                2011    manuell      190    NaN   \n",
       "2   9800   test         suv                2004  automatik      163  grand   \n",
       "3   1500   test  kleinwagen                2001    manuell       75   golf   \n",
       "4   3600   test  kleinwagen                2008    manuell       69  fabia   \n",
       "\n",
       "   kilometer  monthOfRegistration fuelType       brand notRepairedDamage  \\\n",
       "0     150000                    0   benzin  volkswagen               NaN   \n",
       "1     125000                    5   diesel        audi                ja   \n",
       "2     125000                    8   diesel        jeep               NaN   \n",
       "3     150000                    6   benzin  volkswagen              nein   \n",
       "4      90000                    7   diesel       skoda              nein   \n",
       "\n",
       "           dateCreated  nrOfPictures  postalCode             lastSeen  \n",
       "0  2016-03-24 00:00:00             0       70435  2016-04-07 03:16:57  \n",
       "1  2016-03-24 00:00:00             0       66954  2016-04-07 01:46:50  \n",
       "2  2016-03-14 00:00:00             0       90480  2016-04-05 12:47:46  \n",
       "3  2016-03-17 00:00:00             0       91074  2016-03-17 17:40:17  \n",
       "4  2016-03-31 00:00:00             0       60437  2016-04-06 10:17:21  "
      ]
     },
     "execution_count": 2,
     "metadata": {},
     "output_type": "execute_result"
    }
   ],
   "source": [
    "# Let's extract and see some first rows in our dataset\n",
    "autos = pd.read_csv('autos.csv', encoding='Latin-1')\n",
    "autos.head()"
   ]
  },
  {
   "cell_type": "code",
   "execution_count": 3,
   "metadata": {},
   "outputs": [
    {
     "name": "stdout",
     "output_type": "stream",
     "text": [
      "<class 'pandas.core.frame.DataFrame'>\n",
      "RangeIndex: 371528 entries, 0 to 371527\n",
      "Data columns (total 20 columns):\n",
      "dateCrawled            371528 non-null object\n",
      "name                   371528 non-null object\n",
      "seller                 371528 non-null object\n",
      "offerType              371528 non-null object\n",
      "price                  371528 non-null int64\n",
      "abtest                 371528 non-null object\n",
      "vehicleType            333659 non-null object\n",
      "yearOfRegistration     371528 non-null int64\n",
      "gearbox                351319 non-null object\n",
      "powerPS                371528 non-null int64\n",
      "model                  351044 non-null object\n",
      "kilometer              371528 non-null int64\n",
      "monthOfRegistration    371528 non-null int64\n",
      "fuelType               338142 non-null object\n",
      "brand                  371528 non-null object\n",
      "notRepairedDamage      299468 non-null object\n",
      "dateCreated            371528 non-null object\n",
      "nrOfPictures           371528 non-null int64\n",
      "postalCode             371528 non-null int64\n",
      "lastSeen               371528 non-null object\n",
      "dtypes: int64(7), object(13)\n",
      "memory usage: 56.7+ MB\n"
     ]
    }
   ],
   "source": [
    "autos.info()"
   ]
  },
  {
   "cell_type": "code",
   "execution_count": 4,
   "metadata": {},
   "outputs": [
    {
     "data": {
      "text/plain": [
       "<matplotlib.axes._subplots.AxesSubplot at 0x48de358>"
      ]
     },
     "execution_count": 4,
     "metadata": {},
     "output_type": "execute_result"
    },
    {
     "data": {
      "image/png": "[encoded data removed]",
      "text/plain": [
       "<Figure size 432x288 with 2 Axes>"
      ]
     },
     "metadata": {
      "needs_background": "light"
     },
     "output_type": "display_data"
    }
   ],
   "source": [
    "sns.heatmap(autos.isnull())"
   ]
  },
  {
   "cell_type": "markdown",
   "metadata": {},
   "source": [
    "--> We can see that some of columns have NaN values: **\"vehicleType\", \"gearbox\", \"model\", \"fuelType\",** and above all is **\"notRepairedDamage\"** column.\n",
    "\n",
    "In addition, let's rename column names in the same format."
   ]
  },
  {
   "cell_type": "code",
   "execution_count": 5,
   "metadata": {},
   "outputs": [
    {
     "data": {
      "text/html": [
       "<div>\n",
       "<style scoped>\n",
       "    .dataframe tbody tr th:only-of-type {\n",
       "        vertical-align: middle;\n",
       "    }\n",
       "\n",
       "    .dataframe tbody tr th {\n",
       "        vertical-align: top;\n",
       "    }\n",
       "\n",
       "    .dataframe thead th {\n",
       "        text-align: right;\n",
       "    }\n",
       "</style>\n",
       "<table border=\"1\" class=\"dataframe\">\n",
       "  <thead>\n",
       "    <tr style=\"text-align: right;\">\n",
       "      <th></th>\n",
       "      <th>date_crawled</th>\n",
       "      <th>name</th>\n",
       "      <th>seller</th>\n",
       "      <th>offer_type</th>\n",
       "      <th>price</th>\n",
       "      <th>ab_test</th>\n",
       "      <th>vehicle_type</th>\n",
       "      <th>registration_year</th>\n",
       "      <th>gear_box</th>\n",
       "      <th>power_ps</th>\n",
       "      <th>model</th>\n",
       "      <th>kilometer</th>\n",
       "      <th>registration_month</th>\n",
       "      <th>fuel_type</th>\n",
       "      <th>brand</th>\n",
       "      <th>unrepaired_damage</th>\n",
       "      <th>ad_created</th>\n",
       "      <th>num_photos</th>\n",
       "      <th>postal_code</th>\n",
       "      <th>last_seen</th>\n",
       "    </tr>\n",
       "  </thead>\n",
       "  <tbody>\n",
       "    <tr>\n",
       "      <th>371525</th>\n",
       "      <td>2016-03-19 18:57:12</td>\n",
       "      <td>Volkswagen_Multivan_T4_TDI_7DC_UY2</td>\n",
       "      <td>privat</td>\n",
       "      <td>Angebot</td>\n",
       "      <td>9200</td>\n",
       "      <td>test</td>\n",
       "      <td>bus</td>\n",
       "      <td>1996</td>\n",
       "      <td>manuell</td>\n",
       "      <td>102</td>\n",
       "      <td>transporter</td>\n",
       "      <td>150000</td>\n",
       "      <td>3</td>\n",
       "      <td>diesel</td>\n",
       "      <td>volkswagen</td>\n",
       "      <td>nein</td>\n",
       "      <td>2016-03-19 00:00:00</td>\n",
       "      <td>0</td>\n",
       "      <td>87439</td>\n",
       "      <td>2016-04-07 07:15:26</td>\n",
       "    </tr>\n",
       "    <tr>\n",
       "      <th>371526</th>\n",
       "      <td>2016-03-20 19:41:08</td>\n",
       "      <td>VW_Golf_Kombi_1_9l_TDI</td>\n",
       "      <td>privat</td>\n",
       "      <td>Angebot</td>\n",
       "      <td>3400</td>\n",
       "      <td>test</td>\n",
       "      <td>kombi</td>\n",
       "      <td>2002</td>\n",
       "      <td>manuell</td>\n",
       "      <td>100</td>\n",
       "      <td>golf</td>\n",
       "      <td>150000</td>\n",
       "      <td>6</td>\n",
       "      <td>diesel</td>\n",
       "      <td>volkswagen</td>\n",
       "      <td>NaN</td>\n",
       "      <td>2016-03-20 00:00:00</td>\n",
       "      <td>0</td>\n",
       "      <td>40764</td>\n",
       "      <td>2016-03-24 12:45:21</td>\n",
       "    </tr>\n",
       "    <tr>\n",
       "      <th>371527</th>\n",
       "      <td>2016-03-07 19:39:19</td>\n",
       "      <td>BMW_M135i_vollausgestattet_NP_52.720____Euro</td>\n",
       "      <td>privat</td>\n",
       "      <td>Angebot</td>\n",
       "      <td>28990</td>\n",
       "      <td>control</td>\n",
       "      <td>limousine</td>\n",
       "      <td>2013</td>\n",
       "      <td>manuell</td>\n",
       "      <td>320</td>\n",
       "      <td>m_reihe</td>\n",
       "      <td>50000</td>\n",
       "      <td>8</td>\n",
       "      <td>benzin</td>\n",
       "      <td>bmw</td>\n",
       "      <td>nein</td>\n",
       "      <td>2016-03-07 00:00:00</td>\n",
       "      <td>0</td>\n",
       "      <td>73326</td>\n",
       "      <td>2016-03-22 03:17:10</td>\n",
       "    </tr>\n",
       "  </tbody>\n",
       "</table>\n",
       "</div>"
      ],
      "text/plain": [
       "               date_crawled                                          name  \\\n",
       "371525  2016-03-19 18:57:12            Volkswagen_Multivan_T4_TDI_7DC_UY2   \n",
       "371526  2016-03-20 19:41:08                        VW_Golf_Kombi_1_9l_TDI   \n",
       "371527  2016-03-07 19:39:19  BMW_M135i_vollausgestattet_NP_52.720____Euro   \n",
       "\n",
       "        seller offer_type  price  ab_test vehicle_type  registration_year  \\\n",
       "371525  privat    Angebot   9200     test          bus               1996   \n",
       "371526  privat    Angebot   3400     test        kombi               2002   \n",
       "371527  privat    Angebot  28990  control    limousine               2013   \n",
       "\n",
       "       gear_box  power_ps        model  kilometer  registration_month  \\\n",
       "371525  manuell       102  transporter     150000                   3   \n",
       "371526  manuell       100         golf     150000                   6   \n",
       "371527  manuell       320      m_reihe      50000                   8   \n",
       "\n",
       "       fuel_type       brand unrepaired_damage           ad_created  \\\n",
       "371525    diesel  volkswagen              nein  2016-03-19 00:00:00   \n",
       "371526    diesel  volkswagen               NaN  2016-03-20 00:00:00   \n",
       "371527    benzin         bmw              nein  2016-03-07 00:00:00   \n",
       "\n",
       "        num_photos  postal_code            last_seen  \n",
       "371525           0        87439  2016-04-07 07:15:26  \n",
       "371526           0        40764  2016-03-24 12:45:21  \n",
       "371527           0        73326  2016-03-22 03:17:10  "
      ]
     },
     "execution_count": 5,
     "metadata": {},
     "output_type": "execute_result"
    }
   ],
   "source": [
    "autos.columns = ['date_crawled', 'name', 'seller', 'offer_type', 'price', 'ab_test',\n",
    "       'vehicle_type', 'registration_year', 'gear_box', 'power_ps', 'model',\n",
    "       'kilometer', 'registration_month', 'fuel_type', 'brand',\n",
    "       'unrepaired_damage', 'ad_created', 'num_photos', 'postal_code',\n",
    "       'last_seen']\n",
    "autos.tail(3)"
   ]
  },
  {
   "cell_type": "markdown",
   "metadata": {},
   "source": [
    "## **CLEANING PROCESS**\n",
    "\n",
    "### **1. REMOVE INAPPROPRIATE DATA**"
   ]
  },
  {
   "cell_type": "code",
   "execution_count": 6,
   "metadata": {},
   "outputs": [
    {
     "data": {
      "text/plain": [
       "count    3.715280e+05\n",
       "mean     1.729514e+04\n",
       "std      3.587954e+06\n",
       "min      0.000000e+00\n",
       "25%      1.150000e+03\n",
       "50%      2.950000e+03\n",
       "75%      7.200000e+03\n",
       "max      2.147484e+09\n",
       "Name: price, dtype: float64"
      ]
     },
     "execution_count": 6,
     "metadata": {},
     "output_type": "execute_result"
    }
   ],
   "source": [
    "autos['price'].describe()"
   ]
  },
  {
   "cell_type": "code",
   "execution_count": 7,
   "metadata": {},
   "outputs": [
    {
     "data": {
      "text/plain": [
       "(-2147483.648, 357913941.167]     371527\n",
       "(1789569705.83, 2147483647.0]          1\n",
       "(1431655764.67, 1789569705.83]         0\n",
       "(1073741823.5, 1431655764.67]          0\n",
       "(715827882.333, 1073741823.5]          0\n",
       "(357913941.167, 715827882.333]         0\n",
       "Name: price, dtype: int64"
      ]
     },
     "execution_count": 7,
     "metadata": {},
     "output_type": "execute_result"
    }
   ],
   "source": [
    "autos['price'].value_counts(bins=6)"
   ]
  },
  {
   "cell_type": "code",
   "execution_count": 8,
   "metadata": {},
   "outputs": [
    {
     "data": {
      "text/plain": [
       "0    10778\n",
       "1     1189\n",
       "2       12\n",
       "3        8\n",
       "4        1\n",
       "Name: price, dtype: int64"
      ]
     },
     "execution_count": 8,
     "metadata": {},
     "output_type": "execute_result"
    }
   ],
   "source": [
    "autos['price'].value_counts().sort_index()[:5]"
   ]
  },
  {
   "cell_type": "markdown",
   "metadata": {},
   "source": [
    "#### It seems that there are some rows with car_price=0 (about 3% of our data) as well as car_price>400000 (That's incredibly high).\n",
    "\n",
    "#### --> **That's why in order to have better analysis, we'll remove those rows from our dataset.**"
   ]
  },
  {
   "cell_type": "code",
   "execution_count": 9,
   "metadata": {},
   "outputs": [
    {
     "data": {
      "text/plain": [
       "(-349.0, 58334.167]         359563\n",
       "(58334.167, 116667.333]        853\n",
       "(116667.333, 175000.5]         136\n",
       "(175000.5, 233333.667]          47\n",
       "(233333.667, 291666.833]        23\n",
       "(291666.833, 350000.0]          13\n",
       "Name: price, dtype: int64"
      ]
     },
     "execution_count": 9,
     "metadata": {},
     "output_type": "execute_result"
    }
   ],
   "source": [
    "# Choose only data that have car price from $1 to $351,000\n",
    "autos = autos[autos['price'].between(1,351000)]\n",
    "autos['price'].value_counts(bins=6)"
   ]
  },
  {
   "cell_type": "markdown",
   "metadata": {},
   "source": [
    "### **2. TRANSFORM OBJECTS INTO DATETIME FORMAT**\n",
    "\n",
    "In our dataset, there're 3 columns that illustrate the date: **\"date_crawled\", \"ad_created\", \"last_seen\"**."
   ]
  },
  {
   "cell_type": "code",
   "execution_count": 10,
   "metadata": {},
   "outputs": [],
   "source": [
    "# Transform objects into datetime format\n",
    "date_cols = ['date_crawled','ad_created','last_seen']\n",
    "for col in date_cols:\n",
    "    autos[col] = pd.to_datetime(autos[col], errors='coerce')"
   ]
  },
  {
   "cell_type": "code",
   "execution_count": 11,
   "metadata": {},
   "outputs": [
    {
     "data": {
      "text/html": [
       "<div>\n",
       "<style scoped>\n",
       "    .dataframe tbody tr th:only-of-type {\n",
       "        vertical-align: middle;\n",
       "    }\n",
       "\n",
       "    .dataframe tbody tr th {\n",
       "        vertical-align: top;\n",
       "    }\n",
       "\n",
       "    .dataframe thead th {\n",
       "        text-align: right;\n",
       "    }\n",
       "</style>\n",
       "<table border=\"1\" class=\"dataframe\">\n",
       "  <thead>\n",
       "    <tr style=\"text-align: right;\">\n",
       "      <th></th>\n",
       "      <th>date_crawled</th>\n",
       "      <th>name</th>\n",
       "      <th>seller</th>\n",
       "      <th>offer_type</th>\n",
       "      <th>price</th>\n",
       "      <th>ab_test</th>\n",
       "      <th>vehicle_type</th>\n",
       "      <th>registration_year</th>\n",
       "      <th>gear_box</th>\n",
       "      <th>power_ps</th>\n",
       "      <th>model</th>\n",
       "      <th>kilometer</th>\n",
       "      <th>registration_month</th>\n",
       "      <th>fuel_type</th>\n",
       "      <th>brand</th>\n",
       "      <th>unrepaired_damage</th>\n",
       "      <th>ad_created</th>\n",
       "      <th>num_photos</th>\n",
       "      <th>postal_code</th>\n",
       "      <th>last_seen</th>\n",
       "    </tr>\n",
       "  </thead>\n",
       "  <tbody>\n",
       "    <tr>\n",
       "      <th>0</th>\n",
       "      <td>2016-03-24 11:52:17</td>\n",
       "      <td>Golf_3_1.6</td>\n",
       "      <td>privat</td>\n",
       "      <td>Angebot</td>\n",
       "      <td>480</td>\n",
       "      <td>test</td>\n",
       "      <td>NaN</td>\n",
       "      <td>1993</td>\n",
       "      <td>manuell</td>\n",
       "      <td>0</td>\n",
       "      <td>golf</td>\n",
       "      <td>150000</td>\n",
       "      <td>0</td>\n",
       "      <td>benzin</td>\n",
       "      <td>volkswagen</td>\n",
       "      <td>NaN</td>\n",
       "      <td>2016-03-24</td>\n",
       "      <td>0</td>\n",
       "      <td>70435</td>\n",
       "      <td>2016-04-07 03:16:57</td>\n",
       "    </tr>\n",
       "    <tr>\n",
       "      <th>1</th>\n",
       "      <td>2016-03-24 10:58:45</td>\n",
       "      <td>A5_Sportback_2.7_Tdi</td>\n",
       "      <td>privat</td>\n",
       "      <td>Angebot</td>\n",
       "      <td>18300</td>\n",
       "      <td>test</td>\n",
       "      <td>coupe</td>\n",
       "      <td>2011</td>\n",
       "      <td>manuell</td>\n",
       "      <td>190</td>\n",
       "      <td>NaN</td>\n",
       "      <td>125000</td>\n",
       "      <td>5</td>\n",
       "      <td>diesel</td>\n",
       "      <td>audi</td>\n",
       "      <td>ja</td>\n",
       "      <td>2016-03-24</td>\n",
       "      <td>0</td>\n",
       "      <td>66954</td>\n",
       "      <td>2016-04-07 01:46:50</td>\n",
       "    </tr>\n",
       "    <tr>\n",
       "      <th>2</th>\n",
       "      <td>2016-03-14 12:52:21</td>\n",
       "      <td>Jeep_Grand_Cherokee_\"Overland\"</td>\n",
       "      <td>privat</td>\n",
       "      <td>Angebot</td>\n",
       "      <td>9800</td>\n",
       "      <td>test</td>\n",
       "      <td>suv</td>\n",
       "      <td>2004</td>\n",
       "      <td>automatik</td>\n",
       "      <td>163</td>\n",
       "      <td>grand</td>\n",
       "      <td>125000</td>\n",
       "      <td>8</td>\n",
       "      <td>diesel</td>\n",
       "      <td>jeep</td>\n",
       "      <td>NaN</td>\n",
       "      <td>2016-03-14</td>\n",
       "      <td>0</td>\n",
       "      <td>90480</td>\n",
       "      <td>2016-04-05 12:47:46</td>\n",
       "    </tr>\n",
       "  </tbody>\n",
       "</table>\n",
       "</div>"
      ],
      "text/plain": [
       "         date_crawled                            name  seller offer_type  \\\n",
       "0 2016-03-24 11:52:17                      Golf_3_1.6  privat    Angebot   \n",
       "1 2016-03-24 10:58:45            A5_Sportback_2.7_Tdi  privat    Angebot   \n",
       "2 2016-03-14 12:52:21  Jeep_Grand_Cherokee_\"Overland\"  privat    Angebot   \n",
       "\n",
       "   price ab_test vehicle_type  registration_year   gear_box  power_ps  model  \\\n",
       "0    480    test          NaN               1993    manuell         0   golf   \n",
       "1  18300    test        coupe               2011    manuell       190    NaN   \n",
       "2   9800    test          suv               2004  automatik       163  grand   \n",
       "\n",
       "   kilometer  registration_month fuel_type       brand unrepaired_damage  \\\n",
       "0     150000                   0    benzin  volkswagen               NaN   \n",
       "1     125000                   5    diesel        audi                ja   \n",
       "2     125000                   8    diesel        jeep               NaN   \n",
       "\n",
       "  ad_created  num_photos  postal_code           last_seen  \n",
       "0 2016-03-24           0        70435 2016-04-07 03:16:57  \n",
       "1 2016-03-24           0        66954 2016-04-07 01:46:50  \n",
       "2 2016-03-14           0        90480 2016-04-05 12:47:46  "
      ]
     },
     "execution_count": 11,
     "metadata": {},
     "output_type": "execute_result"
    }
   ],
   "source": [
    "autos.head(3)"
   ]
  },
  {
   "cell_type": "code",
   "execution_count": 12,
   "metadata": {},
   "outputs": [
    {
     "name": "stdout",
     "output_type": "stream",
     "text": [
      "Number of days the item was sold since the crawled day:\n"
     ]
    },
    {
     "data": {
      "text/plain": [
       "-13    0.000003\n",
       " 0     0.176655\n",
       " 1     0.081515\n",
       " 2     0.080785\n",
       " 3     0.068729\n",
       " 4     0.043870\n",
       " 5     0.059501\n",
       " 6     0.028350\n",
       " 7     0.054476\n",
       " 8     0.024188\n",
       "Name: exist_day, dtype: float64"
      ]
     },
     "execution_count": 12,
     "metadata": {},
     "output_type": "execute_result"
    }
   ],
   "source": [
    "autos['exist_day'] = autos['last_seen'] - autos['date_crawled']\n",
    "def get_day(date):\n",
    "    return date.days\n",
    "autos['exist_day'] = autos['exist_day'].apply(get_day)\n",
    "print('Number of days the item was sold since the crawled day:')\n",
    "autos['exist_day'].value_counts(ascending=True, normalize=True).sort_index()[:10]"
   ]
  },
  {
   "cell_type": "markdown",
   "metadata": {},
   "source": [
    "--> Assuming that last_seen date is the date when the items is sold. We can see that nearly **18% of autos items on ebay is sold within day**. Also, there is ONE data when the last_seen date is before the crawled_date. It's impossible!\n",
    "\n",
    "*Let's remove that row from our dataset.*"
   ]
  },
  {
   "cell_type": "code",
   "execution_count": 13,
   "metadata": {},
   "outputs": [
    {
     "data": {
      "text/plain": [
       "(360634, 21)"
      ]
     },
     "execution_count": 13,
     "metadata": {},
     "output_type": "execute_result"
    }
   ],
   "source": [
    "autos = autos[autos['exist_day']>=0]\n",
    "autos.shape"
   ]
  },
  {
   "cell_type": "code",
   "execution_count": 14,
   "metadata": {},
   "outputs": [
    {
     "data": {
      "text/plain": [
       "0    63708\n",
       "1    29397\n",
       "2    29134\n",
       "3    24786\n",
       "4    15821\n",
       "Name: exist_day, dtype: int64"
      ]
     },
     "execution_count": 14,
     "metadata": {},
     "output_type": "execute_result"
    }
   ],
   "source": [
    "autos['exist_day'].value_counts().sort_index()[:5]"
   ]
  },
  {
   "cell_type": "markdown",
   "metadata": {},
   "source": [
    "### **3. REMOVE INVALID REGISTRATION YEAR**"
   ]
  },
  {
   "cell_type": "code",
   "execution_count": 15,
   "metadata": {},
   "outputs": [
    {
     "data": {
      "text/plain": [
       "count    360634.000000\n",
       "mean       2004.433129\n",
       "std          81.017089\n",
       "min        1000.000000\n",
       "25%        1999.000000\n",
       "50%        2004.000000\n",
       "75%        2008.000000\n",
       "max        9999.000000\n",
       "Name: registration_year, dtype: float64"
      ]
     },
     "execution_count": 15,
     "metadata": {},
     "output_type": "execute_result"
    }
   ],
   "source": [
    "autos['registration_year'].describe()"
   ]
  },
  {
   "cell_type": "markdown",
   "metadata": {},
   "source": [
    "--> It seems unreasonable since there is car that was **registered in year 1000**, even before when cars were invented. Also, there is car that was **registered in year 9999**, a long time into the future!\n",
    "\n",
    "*Let's remove those rows to clean our dataset.*"
   ]
  },
  {
   "cell_type": "code",
   "execution_count": 16,
   "metadata": {},
   "outputs": [
    {
     "name": "stdout",
     "output_type": "stream",
     "text": [
      "Percentage of cars with the appropriate registration year:\n"
     ]
    },
    {
     "data": {
      "text/plain": [
       "2000    6.669955\n",
       "1999    6.355237\n",
       "2005    6.266966\n",
       "2006    5.770512\n",
       "2001    5.695511\n",
       "2003    5.655702\n",
       "2004    5.617336\n",
       "2002    5.428966\n",
       "2007    5.049919\n",
       "1998    4.969148\n",
       "Name: registration_year, dtype: float64"
      ]
     },
     "execution_count": 16,
     "metadata": {},
     "output_type": "execute_result"
    }
   ],
   "source": [
    "# Choose only data where registration_year is between 1900 and 2016\n",
    "autos = autos[autos['registration_year'].between(1900,2016)]\n",
    "print('Percentage of cars with the appropriate registration year:')\n",
    "autos['registration_year'].value_counts(normalize=True)[:10]*100"
   ]
  },
  {
   "cell_type": "markdown",
   "metadata": {},
   "source": [
    "--> It seems that most of cars listed on ebay registered **within recent 2 decades.**"
   ]
  },
  {
   "cell_type": "markdown",
   "metadata": {},
   "source": [
    "## **EXPLORING PRICES AND KILOMETERS BY BRAND**"
   ]
  },
  {
   "cell_type": "code",
   "execution_count": 17,
   "metadata": {},
   "outputs": [
    {
     "data": {
      "text/plain": [
       "Text(0.5,1,'Price Distribution Categorized by Vehicle Type')"
      ]
     },
     "execution_count": 17,
     "metadata": {},
     "output_type": "execute_result"
    },
    {
     "data": {
      "image/png": "[encoded data removed]",
      "text/plain": [
       "<Figure size 1008x360 with 1 Axes>"
      ]
     },
     "metadata": {
      "needs_background": "light"
     },
     "output_type": "display_data"
    }
   ],
   "source": [
    "autos.boxplot('price', by='vehicle_type', vert=False, figsize=(14,5), whis=3, grid=False)\n",
    "plt.axvline(10800, alpha=0.5, c='red')\n",
    "plt.title('Price Distribution Categorized by Vehicle Type')"
   ]
  },
  {
   "cell_type": "markdown",
   "metadata": {},
   "source": [
    "CORRELATION BETWEEN **PRICE** AND **KILOMETER**"
   ]
  },
  {
   "cell_type": "code",
   "execution_count": 18,
   "metadata": {},
   "outputs": [
    {
     "data": {
      "text/plain": [
       "array([[<matplotlib.axes._subplots.AxesSubplot object at 0x000000001657E470>,\n",
       "        <matplotlib.axes._subplots.AxesSubplot object at 0x00000000157A5550>],\n",
       "       [<matplotlib.axes._subplots.AxesSubplot object at 0x0000000014A18CC0>,\n",
       "        <matplotlib.axes._subplots.AxesSubplot object at 0x0000000013C09470>]],\n",
       "      dtype=object)"
      ]
     },
     "execution_count": 18,
     "metadata": {},
     "output_type": "execute_result"
    },
    {
     "data": {
      "image/png": "[encoded data removed]",
      "text/plain": [
       "<Figure size 864x576 with 4 Axes>"
      ]
     },
     "metadata": {
      "needs_background": "light"
     },
     "output_type": "display_data"
    }
   ],
   "source": [
    "from pandas.plotting import scatter_matrix\n",
    "scatter_matrix(autos[['price','kilometer']], figsize=(12,8))"
   ]
  },
  {
   "cell_type": "code",
   "execution_count": 19,
   "metadata": {},
   "outputs": [
    {
     "data": {
      "text/plain": [
       "volkswagen       21.170084\n",
       "bmw              10.987166\n",
       "opel             10.641005\n",
       "mercedes_benz     9.684156\n",
       "audi              8.954333\n",
       "ford              6.891787\n",
       "renault           4.751644\n",
       "peugeot           3.015355\n",
       "fiat              2.569095\n",
       "seat              1.866099\n",
       "Name: brand, dtype: float64"
      ]
     },
     "execution_count": 19,
     "metadata": {},
     "output_type": "execute_result"
    }
   ],
   "source": [
    "brand_series = autos['brand'].value_counts(normalize=True)[:10]*100\n",
    "brand_series"
   ]
  },
  {
   "cell_type": "markdown",
   "metadata": {},
   "source": [
    "*---> We only aggregate the brands that have the percentages >5%*"
   ]
  },
  {
   "cell_type": "code",
   "execution_count": 20,
   "metadata": {},
   "outputs": [
    {
     "data": {
      "text/plain": [
       "Index([u'volkswagen', u'bmw', u'opel', u'mercedes_benz', u'audi', u'ford'], dtype='object')"
      ]
     },
     "execution_count": 20,
     "metadata": {},
     "output_type": "execute_result"
    }
   ],
   "source": [
    "common_brand = brand_series[brand_series>5].index\n",
    "common_brand"
   ]
  },
  {
   "cell_type": "markdown",
   "metadata": {},
   "source": [
    "### **1. EXPLORE PRICES BY BRAND**"
   ]
  },
  {
   "cell_type": "code",
   "execution_count": 21,
   "metadata": {},
   "outputs": [
    {
     "data": {
      "text/plain": [
       "{u'audi': 9086.279597951097,\n",
       " u'bmw': 8449.121823146397,\n",
       " u'ford': 3696.4059687748527,\n",
       " u'mercedes_benz': 8551.650114682316,\n",
       " u'opel': 2971.8999132509216,\n",
       " u'volkswagen': 5400.188763830599}"
      ]
     },
     "execution_count": 21,
     "metadata": {},
     "output_type": "execute_result"
    }
   ],
   "source": [
    "# Compare the price of cars categorized by brand\n",
    "brand_mean_price = {}\n",
    "for brand in common_brand:\n",
    "    mean_price = autos.loc[autos['brand']==brand,'price'].mean()\n",
    "    brand_mean_price[brand] = mean_price\n",
    "brand_mean_price"
   ]
  },
  {
   "cell_type": "markdown",
   "metadata": {},
   "source": [
    "**'Volkswagen' is the 'best of both world' option. That's why it's the most popular brand (over 22%)**"
   ]
  },
  {
   "cell_type": "code",
   "execution_count": 22,
   "metadata": {},
   "outputs": [
    {
     "data": {
      "text/plain": [
       "{u'audi': 129443.9612125898,\n",
       " u'bmw': 132800.0945179584,\n",
       " u'ford': 123662.25775396593,\n",
       " u'mercedes_benz': 130572.96476125227,\n",
       " u'opel': 128722.61982216439,\n",
       " u'volkswagen': 128386.04403989753}"
      ]
     },
     "execution_count": 22,
     "metadata": {},
     "output_type": "execute_result"
    }
   ],
   "source": [
    "# Compare the mileage of cars categorized by brand\n",
    "brand_mean_mileage = {}\n",
    "for brand in common_brand:\n",
    "    mean_mileage = autos.loc[autos['brand']==brand, 'kilometer'].mean()\n",
    "    brand_mean_mileage[brand] = mean_mileage\n",
    "brand_mean_mileage"
   ]
  },
  {
   "cell_type": "code",
   "execution_count": 23,
   "metadata": {},
   "outputs": [],
   "source": [
    "#Create a dataframe to see the correlation between 'price' & 'mileage'\n",
    "bmp_series = pd.Series(brand_mean_price).sort_values(ascending=False)\n",
    "bmm_series = pd.Series(brand_mean_mileage).sort_values(ascending=False)"
   ]
  },
  {
   "cell_type": "code",
   "execution_count": 24,
   "metadata": {},
   "outputs": [
    {
     "data": {
      "text/html": [
       "<div>\n",
       "<style scoped>\n",
       "    .dataframe tbody tr th:only-of-type {\n",
       "        vertical-align: middle;\n",
       "    }\n",
       "\n",
       "    .dataframe tbody tr th {\n",
       "        vertical-align: top;\n",
       "    }\n",
       "\n",
       "    .dataframe thead th {\n",
       "        text-align: right;\n",
       "    }\n",
       "</style>\n",
       "<table border=\"1\" class=\"dataframe\">\n",
       "  <thead>\n",
       "    <tr style=\"text-align: right;\">\n",
       "      <th></th>\n",
       "      <th>mean_price</th>\n",
       "    </tr>\n",
       "  </thead>\n",
       "  <tbody>\n",
       "    <tr>\n",
       "      <th>audi</th>\n",
       "      <td>9086.279598</td>\n",
       "    </tr>\n",
       "    <tr>\n",
       "      <th>mercedes_benz</th>\n",
       "      <td>8551.650115</td>\n",
       "    </tr>\n",
       "    <tr>\n",
       "      <th>bmw</th>\n",
       "      <td>8449.121823</td>\n",
       "    </tr>\n",
       "    <tr>\n",
       "      <th>volkswagen</th>\n",
       "      <td>5400.188764</td>\n",
       "    </tr>\n",
       "    <tr>\n",
       "      <th>ford</th>\n",
       "      <td>3696.405969</td>\n",
       "    </tr>\n",
       "    <tr>\n",
       "      <th>opel</th>\n",
       "      <td>2971.899913</td>\n",
       "    </tr>\n",
       "  </tbody>\n",
       "</table>\n",
       "</div>"
      ],
      "text/plain": [
       "                mean_price\n",
       "audi           9086.279598\n",
       "mercedes_benz  8551.650115\n",
       "bmw            8449.121823\n",
       "volkswagen     5400.188764\n",
       "ford           3696.405969\n",
       "opel           2971.899913"
      ]
     },
     "execution_count": 24,
     "metadata": {},
     "output_type": "execute_result"
    }
   ],
   "source": [
    "pd.DataFrame(bmp_series, columns=['mean_price'])"
   ]
  },
  {
   "cell_type": "code",
   "execution_count": 25,
   "metadata": {},
   "outputs": [
    {
     "data": {
      "text/html": [
       "<div>\n",
       "<style scoped>\n",
       "    .dataframe tbody tr th:only-of-type {\n",
       "        vertical-align: middle;\n",
       "    }\n",
       "\n",
       "    .dataframe tbody tr th {\n",
       "        vertical-align: top;\n",
       "    }\n",
       "\n",
       "    .dataframe thead th {\n",
       "        text-align: right;\n",
       "    }\n",
       "</style>\n",
       "<table border=\"1\" class=\"dataframe\">\n",
       "  <thead>\n",
       "    <tr style=\"text-align: right;\">\n",
       "      <th></th>\n",
       "      <th>mean_mileage</th>\n",
       "    </tr>\n",
       "  </thead>\n",
       "  <tbody>\n",
       "    <tr>\n",
       "      <th>bmw</th>\n",
       "      <td>132800.094518</td>\n",
       "    </tr>\n",
       "    <tr>\n",
       "      <th>mercedes_benz</th>\n",
       "      <td>130572.964761</td>\n",
       "    </tr>\n",
       "    <tr>\n",
       "      <th>audi</th>\n",
       "      <td>129443.961213</td>\n",
       "    </tr>\n",
       "    <tr>\n",
       "      <th>opel</th>\n",
       "      <td>128722.619822</td>\n",
       "    </tr>\n",
       "    <tr>\n",
       "      <th>volkswagen</th>\n",
       "      <td>128386.044040</td>\n",
       "    </tr>\n",
       "    <tr>\n",
       "      <th>ford</th>\n",
       "      <td>123662.257754</td>\n",
       "    </tr>\n",
       "  </tbody>\n",
       "</table>\n",
       "</div>"
      ],
      "text/plain": [
       "                mean_mileage\n",
       "bmw            132800.094518\n",
       "mercedes_benz  130572.964761\n",
       "audi           129443.961213\n",
       "opel           128722.619822\n",
       "volkswagen     128386.044040\n",
       "ford           123662.257754"
      ]
     },
     "execution_count": 25,
     "metadata": {},
     "output_type": "execute_result"
    }
   ],
   "source": [
    "pd.DataFrame(bmm_series, columns=['mean_mileage'])"
   ]
  },
  {
   "cell_type": "code",
   "execution_count": 26,
   "metadata": {},
   "outputs": [
    {
     "data": {
      "text/html": [
       "<div>\n",
       "<style scoped>\n",
       "    .dataframe tbody tr th:only-of-type {\n",
       "        vertical-align: middle;\n",
       "    }\n",
       "\n",
       "    .dataframe tbody tr th {\n",
       "        vertical-align: top;\n",
       "    }\n",
       "\n",
       "    .dataframe thead th {\n",
       "        text-align: right;\n",
       "    }\n",
       "</style>\n",
       "<table border=\"1\" class=\"dataframe\">\n",
       "  <thead>\n",
       "    <tr style=\"text-align: right;\">\n",
       "      <th></th>\n",
       "      <th>mean_price</th>\n",
       "      <th>mean_mileage</th>\n",
       "    </tr>\n",
       "  </thead>\n",
       "  <tbody>\n",
       "    <tr>\n",
       "      <th>audi</th>\n",
       "      <td>9086.279598</td>\n",
       "      <td>129443.961213</td>\n",
       "    </tr>\n",
       "    <tr>\n",
       "      <th>mercedes_benz</th>\n",
       "      <td>8551.650115</td>\n",
       "      <td>130572.964761</td>\n",
       "    </tr>\n",
       "    <tr>\n",
       "      <th>bmw</th>\n",
       "      <td>8449.121823</td>\n",
       "      <td>132800.094518</td>\n",
       "    </tr>\n",
       "    <tr>\n",
       "      <th>volkswagen</th>\n",
       "      <td>5400.188764</td>\n",
       "      <td>128386.044040</td>\n",
       "    </tr>\n",
       "    <tr>\n",
       "      <th>ford</th>\n",
       "      <td>3696.405969</td>\n",
       "      <td>123662.257754</td>\n",
       "    </tr>\n",
       "    <tr>\n",
       "      <th>opel</th>\n",
       "      <td>2971.899913</td>\n",
       "      <td>128722.619822</td>\n",
       "    </tr>\n",
       "  </tbody>\n",
       "</table>\n",
       "</div>"
      ],
      "text/plain": [
       "                mean_price   mean_mileage\n",
       "audi           9086.279598  129443.961213\n",
       "mercedes_benz  8551.650115  130572.964761\n",
       "bmw            8449.121823  132800.094518\n",
       "volkswagen     5400.188764  128386.044040\n",
       "ford           3696.405969  123662.257754\n",
       "opel           2971.899913  128722.619822"
      ]
     },
     "execution_count": 26,
     "metadata": {},
     "output_type": "execute_result"
    }
   ],
   "source": [
    "brand_info = pd.DataFrame(bmp_series, columns=['mean_price'])\n",
    "brand_info['mean_mileage'] = bmm_series\n",
    "brand_info"
   ]
  },
  {
   "cell_type": "markdown",
   "metadata": {},
   "source": [
    "**--> There's actually no correlation between those 2 features**"
   ]
  },
  {
   "cell_type": "markdown",
   "metadata": {},
   "source": [
    "### **OTHER TASKS TO DO WITH THE DATASET**\n",
    "\n",
    "#Identify categorical data that uses german words, translate them and map the values to their english counterparts\n",
    "#Convert the dates to be uniform numeric data, so \"2016-03-21\" becomes the integer 20160321\n",
    "#See if there are particular keywords in the name column that you can extract as new columns\n",
    "#Find the most common brand/model combinations\n",
    "#Split the odometer_km into groups, and use aggregation to see if average prices follows any patterns based on the milage.\n",
    "#How much cheaper are cars with damage than their non-damaged counterparts?"
   ]
  },
  {
   "cell_type": "code",
   "execution_count": 32,
   "metadata": {},
   "outputs": [
    {
     "data": {
      "text/plain": [
       "0     2016-03-24\n",
       "1     2016-03-24\n",
       "2     2016-03-14\n",
       "3     2016-03-17\n",
       "4     2016-03-31\n",
       "5     2016-04-04\n",
       "6     2016-04-01\n",
       "8     2016-04-04\n",
       "9     2016-03-17\n",
       "10    2016-03-26\n",
       "Name: date_crawled, dtype: object"
      ]
     },
     "execution_count": 32,
     "metadata": {},
     "output_type": "execute_result"
    }
   ],
   "source": [
    "autos['date_crawled'] = autos['date_crawled'].astype(str).str[:10]\n",
    "autos['date_crawled'][:10]"
   ]
  },
  {
   "cell_type": "code",
   "execution_count": 33,
   "metadata": {},
   "outputs": [
    {
     "name": "stdout",
     "output_type": "stream",
     "text": [
      "<class 'pandas.core.frame.DataFrame'>\n",
      "Int64Index: 346659 entries, 0 to 371527\n",
      "Data columns (total 21 columns):\n",
      "date_crawled          346659 non-null object\n",
      "name                  346659 non-null object\n",
      "seller                346659 non-null object\n",
      "offer_type            346659 non-null object\n",
      "price                 346659 non-null int64\n",
      "ab_test               346659 non-null object\n",
      "vehicle_type          326520 non-null object\n",
      "registration_year     346659 non-null int64\n",
      "gear_box              330736 non-null object\n",
      "power_ps              346659 non-null int64\n",
      "model                 330308 non-null object\n",
      "kilometer             346659 non-null int64\n",
      "registration_month    346659 non-null int64\n",
      "fuel_type             322103 non-null object\n",
      "brand                 346659 non-null object\n",
      "unrepaired_damage     285955 non-null object\n",
      "ad_created            346659 non-null datetime64[ns]\n",
      "num_photos            346659 non-null int64\n",
      "postal_code           346659 non-null int64\n",
      "last_seen             346659 non-null datetime64[ns]\n",
      "exist_day             346659 non-null int64\n",
      "dtypes: datetime64[ns](2), int64(8), object(11)\n",
      "memory usage: 58.2+ MB\n"
     ]
    },
    {
     "data": {
      "text/html": [
       "<div>\n",
       "<style scoped>\n",
       "    .dataframe tbody tr th:only-of-type {\n",
       "        vertical-align: middle;\n",
       "    }\n",
       "\n",
       "    .dataframe tbody tr th {\n",
       "        vertical-align: top;\n",
       "    }\n",
       "\n",
       "    .dataframe thead th {\n",
       "        text-align: right;\n",
       "    }\n",
       "</style>\n",
       "<table border=\"1\" class=\"dataframe\">\n",
       "  <thead>\n",
       "    <tr style=\"text-align: right;\">\n",
       "      <th></th>\n",
       "      <th>date_crawled</th>\n",
       "      <th>name</th>\n",
       "      <th>seller</th>\n",
       "      <th>offer_type</th>\n",
       "      <th>price</th>\n",
       "      <th>ab_test</th>\n",
       "      <th>vehicle_type</th>\n",
       "      <th>registration_year</th>\n",
       "      <th>gear_box</th>\n",
       "      <th>power_ps</th>\n",
       "      <th>model</th>\n",
       "      <th>kilometer</th>\n",
       "      <th>registration_month</th>\n",
       "      <th>fuel_type</th>\n",
       "      <th>brand</th>\n",
       "      <th>unrepaired_damage</th>\n",
       "      <th>ad_created</th>\n",
       "      <th>num_photos</th>\n",
       "      <th>postal_code</th>\n",
       "      <th>last_seen</th>\n",
       "      <th>exist_day</th>\n",
       "      <th>date_crawled_uniform</th>\n",
       "      <th>ad_created_uniform</th>\n",
       "      <th>last_seen_uniform</th>\n",
       "    </tr>\n",
       "  </thead>\n",
       "  <tbody>\n",
       "    <tr>\n",
       "      <th>0</th>\n",
       "      <td>2016-03-24</td>\n",
       "      <td>Golf_3_1.6</td>\n",
       "      <td>privat</td>\n",
       "      <td>Angebot</td>\n",
       "      <td>480</td>\n",
       "      <td>test</td>\n",
       "      <td>NaN</td>\n",
       "      <td>1993</td>\n",
       "      <td>manuell</td>\n",
       "      <td>0</td>\n",
       "      <td>golf</td>\n",
       "      <td>150000</td>\n",
       "      <td>0</td>\n",
       "      <td>benzin</td>\n",
       "      <td>volkswagen</td>\n",
       "      <td>NaN</td>\n",
       "      <td>2016-03-24</td>\n",
       "      <td>0</td>\n",
       "      <td>70435</td>\n",
       "      <td>2016-04-07 03:16:57</td>\n",
       "      <td>13</td>\n",
       "      <td>20160324</td>\n",
       "      <td>20160324</td>\n",
       "      <td>20160407</td>\n",
       "    </tr>\n",
       "    <tr>\n",
       "      <th>1</th>\n",
       "      <td>2016-03-24</td>\n",
       "      <td>A5_Sportback_2.7_Tdi</td>\n",
       "      <td>privat</td>\n",
       "      <td>Angebot</td>\n",
       "      <td>18300</td>\n",
       "      <td>test</td>\n",
       "      <td>coupe</td>\n",
       "      <td>2011</td>\n",
       "      <td>manuell</td>\n",
       "      <td>190</td>\n",
       "      <td>NaN</td>\n",
       "      <td>125000</td>\n",
       "      <td>5</td>\n",
       "      <td>diesel</td>\n",
       "      <td>audi</td>\n",
       "      <td>ja</td>\n",
       "      <td>2016-03-24</td>\n",
       "      <td>0</td>\n",
       "      <td>66954</td>\n",
       "      <td>2016-04-07 01:46:50</td>\n",
       "      <td>13</td>\n",
       "      <td>20160324</td>\n",
       "      <td>20160324</td>\n",
       "      <td>20160407</td>\n",
       "    </tr>\n",
       "    <tr>\n",
       "      <th>2</th>\n",
       "      <td>2016-03-14</td>\n",
       "      <td>Jeep_Grand_Cherokee_\"Overland\"</td>\n",
       "      <td>privat</td>\n",
       "      <td>Angebot</td>\n",
       "      <td>9800</td>\n",
       "      <td>test</td>\n",
       "      <td>suv</td>\n",
       "      <td>2004</td>\n",
       "      <td>automatik</td>\n",
       "      <td>163</td>\n",
       "      <td>grand</td>\n",
       "      <td>125000</td>\n",
       "      <td>8</td>\n",
       "      <td>diesel</td>\n",
       "      <td>jeep</td>\n",
       "      <td>NaN</td>\n",
       "      <td>2016-03-14</td>\n",
       "      <td>0</td>\n",
       "      <td>90480</td>\n",
       "      <td>2016-04-05 12:47:46</td>\n",
       "      <td>21</td>\n",
       "      <td>20160314</td>\n",
       "      <td>20160314</td>\n",
       "      <td>20160405</td>\n",
       "    </tr>\n",
       "  </tbody>\n",
       "</table>\n",
       "</div>"
      ],
      "text/plain": [
       "  date_crawled                            name  seller offer_type  price  \\\n",
       "0   2016-03-24                      Golf_3_1.6  privat    Angebot    480   \n",
       "1   2016-03-24            A5_Sportback_2.7_Tdi  privat    Angebot  18300   \n",
       "2   2016-03-14  Jeep_Grand_Cherokee_\"Overland\"  privat    Angebot   9800   \n",
       "\n",
       "  ab_test vehicle_type  registration_year   gear_box  power_ps  model  \\\n",
       "0    test          NaN               1993    manuell         0   golf   \n",
       "1    test        coupe               2011    manuell       190    NaN   \n",
       "2    test          suv               2004  automatik       163  grand   \n",
       "\n",
       "   kilometer  registration_month fuel_type       brand unrepaired_damage  \\\n",
       "0     150000                   0    benzin  volkswagen               NaN   \n",
       "1     125000                   5    diesel        audi                ja   \n",
       "2     125000                   8    diesel        jeep               NaN   \n",
       "\n",
       "  ad_created  num_photos  postal_code           last_seen  exist_day  \\\n",
       "0 2016-03-24           0        70435 2016-04-07 03:16:57         13   \n",
       "1 2016-03-24           0        66954 2016-04-07 01:46:50         13   \n",
       "2 2016-03-14           0        90480 2016-04-05 12:47:46         21   \n",
       "\n",
       "   date_crawled_uniform  ad_created_uniform  last_seen_uniform  \n",
       "0              20160324            20160324           20160407  \n",
       "1              20160324            20160324           20160407  \n",
       "2              20160314            20160314           20160405  "
      ]
     },
     "execution_count": 33,
     "metadata": {},
     "output_type": "execute_result"
    }
   ],
   "source": [
    "#Convert the dates to be uniform numeric data\n",
    "autos.info()\n",
    "#There're 3 columns that have values as dates: 'date_crawled', 'ad_created', 'last_seen'\n",
    "autos['date_crawled_uniform'] = autos['date_crawled'].astype(str).str[:10].str.split('-')\n",
    "autos['date_crawled_uniform'] = (autos['date_crawled_uniform'].str[0] + autos['date_crawled_uniform'].str[1] + autos['date_crawled_uniform'].str[2]).astype(int)\n",
    "\n",
    "autos['ad_created_uniform'] = autos['ad_created'].astype(str).str[:10].str.split('-')\n",
    "autos['ad_created_uniform'] = (autos['ad_created_uniform'].str[0] + autos['ad_created_uniform'].str[1] + autos['ad_created_uniform'].str[2]).astype(int)\n",
    "\n",
    "autos['last_seen_uniform'] = autos['last_seen'].astype(str).str[:10].str.split('-')\n",
    "autos['last_seen_uniform'] = (autos['last_seen_uniform'].str[0] + autos['last_seen_uniform'].str[1] + autos['last_seen_uniform'].str[2]).astype(int)\n",
    "\n",
    "autos.head(3)"
   ]
  },
  {
   "cell_type": "code",
   "execution_count": 36,
   "metadata": {},
   "outputs": [
    {
     "data": {
      "text/plain": [
       "0                                        [Golf, 3, 1.6]\n",
       "1                             [A5, Sportback, 2.7, Tdi]\n",
       "2                   [Jeep, Grand, Cherokee, \"Overland\"]\n",
       "3                             [GOLF, 4, 1, 4, , 3TÜRER]\n",
       "4                 [Skoda, Fabia, 1.4, TDI, PD, Classic]\n",
       "5     [BMW, 316i, , , e36, Limousine, , , Bastlerfah...\n",
       "6                     [Peugeot, 206, CC, 110, Platinum]\n",
       "8       [Ford, C, , , Max, Titanium, 1, 0, L, EcoBoost]\n",
       "9     [VW, Golf, 4, 5, tuerig, zu, verkaufen, mit, A...\n",
       "10                               [Mazda, 3, 1.6, Sport]\n",
       "Name: name, dtype: object"
      ]
     },
     "execution_count": 36,
     "metadata": {},
     "output_type": "execute_result"
    }
   ],
   "source": [
    "#See if there are particular keywords in the name column that we can extract as new columns\n",
    "#Brand name is at the start (before the '_')\n",
    "autos['name'].str.split('_')[:10]"
   ]
  },
  {
   "cell_type": "code",
   "execution_count": 37,
   "metadata": {},
   "outputs": [
    {
     "data": {
      "text/plain": [
       "volkswagen_golf           0.079464\n",
       "bmw_3er                   0.056165\n",
       "volkswagen_polo           0.034769\n",
       "opel_corsa                0.033457\n",
       "opel_astra                0.028974\n",
       "audi_a4                   0.028270\n",
       "volkswagen_passat         0.028045\n",
       "mercedes_benz_c_klasse    0.024358\n",
       "bmw_5er                   0.023672\n",
       "mercedes_benz_e_klasse    0.020946\n",
       "Name: brand_model, dtype: float64"
      ]
     },
     "execution_count": 37,
     "metadata": {},
     "output_type": "execute_result"
    }
   ],
   "source": [
    "#Find the most common brand/model combinations\n",
    "autos.loc[autos['model'].isnull(),'model'] = 'Unknown'\n",
    "autos['brand_model'] = autos['brand'] + '_' + autos['model']\n",
    "autos['brand_model'].value_counts(normalize=True).sort_values(ascending=False)[:10]"
   ]
  },
  {
   "cell_type": "markdown",
   "metadata": {},
   "source": [
    "**We can see that *Volswagen_gold* is the most common model that is sold on Amazon. Also, *Volswagen* particularly constitues over 10% of the car market on this platform.**"
   ]
  },
  {
   "cell_type": "code",
   "execution_count": 38,
   "metadata": {},
   "outputs": [
    {
     "name": "stdout",
     "output_type": "stream",
     "text": [
      "                Average_price\n",
      "<50000           14952.008758\n",
      "50000 - 80000    11381.901409\n",
      "90000 - 125000    7155.828796\n",
      "150000            3799.633958\n"
     ]
    },
    {
     "data": {
      "text/html": [
       "<div>\n",
       "<style scoped>\n",
       "    .dataframe tbody tr th:only-of-type {\n",
       "        vertical-align: middle;\n",
       "    }\n",
       "\n",
       "    .dataframe tbody tr th {\n",
       "        vertical-align: top;\n",
       "    }\n",
       "\n",
       "    .dataframe thead th {\n",
       "        text-align: right;\n",
       "    }\n",
       "</style>\n",
       "<table border=\"1\" class=\"dataframe\">\n",
       "  <thead>\n",
       "    <tr style=\"text-align: right;\">\n",
       "      <th></th>\n",
       "      <th>average_price</th>\n",
       "    </tr>\n",
       "  </thead>\n",
       "  <tbody>\n",
       "    <tr>\n",
       "      <th>10000</th>\n",
       "      <td>21887.502521</td>\n",
       "    </tr>\n",
       "    <tr>\n",
       "      <th>20000</th>\n",
       "      <td>17356.608566</td>\n",
       "    </tr>\n",
       "    <tr>\n",
       "      <th>30000</th>\n",
       "      <td>16068.099638</td>\n",
       "    </tr>\n",
       "    <tr>\n",
       "      <th>40000</th>\n",
       "      <td>15189.329792</td>\n",
       "    </tr>\n",
       "    <tr>\n",
       "      <th>50000</th>\n",
       "      <td>13473.143905</td>\n",
       "    </tr>\n",
       "    <tr>\n",
       "      <th>60000</th>\n",
       "      <td>12138.998459</td>\n",
       "    </tr>\n",
       "    <tr>\n",
       "      <th>70000</th>\n",
       "      <td>10976.783792</td>\n",
       "    </tr>\n",
       "    <tr>\n",
       "      <th>80000</th>\n",
       "      <td>9690.372974</td>\n",
       "    </tr>\n",
       "    <tr>\n",
       "      <th>5000</th>\n",
       "      <td>9024.498752</td>\n",
       "    </tr>\n",
       "    <tr>\n",
       "      <th>90000</th>\n",
       "      <td>8678.521565</td>\n",
       "    </tr>\n",
       "    <tr>\n",
       "      <th>100000</th>\n",
       "      <td>7916.946189</td>\n",
       "    </tr>\n",
       "    <tr>\n",
       "      <th>125000</th>\n",
       "      <td>6331.169485</td>\n",
       "    </tr>\n",
       "    <tr>\n",
       "      <th>150000</th>\n",
       "      <td>3799.633958</td>\n",
       "    </tr>\n",
       "  </tbody>\n",
       "</table>\n",
       "</div>"
      ],
      "text/plain": [
       "        average_price\n",
       "10000    21887.502521\n",
       "20000    17356.608566\n",
       "30000    16068.099638\n",
       "40000    15189.329792\n",
       "50000    13473.143905\n",
       "60000    12138.998459\n",
       "70000    10976.783792\n",
       "80000     9690.372974\n",
       "5000      9024.498752\n",
       "90000     8678.521565\n",
       "100000    7916.946189\n",
       "125000    6331.169485\n",
       "150000    3799.633958"
      ]
     },
     "execution_count": 38,
     "metadata": {},
     "output_type": "execute_result"
    }
   ],
   "source": [
    "#Split the 'kilometer' into groups, and use aggregation to see if average prices follows any patterns based on the milage.\n",
    "autos['kilometer'].value_counts(normalize=True)\n",
    "km_price = {}\n",
    "\n",
    "km_price['150000'] = autos.loc[autos['kilometer']==150000, 'price'].mean()\n",
    "km_price['90000 - 125000'] = autos.loc[autos['kilometer'].between(90000,125000), 'price'].mean()\n",
    "km_price['50000 - 80000'] = autos.loc[autos['kilometer'].between(50000,80000), 'price'].mean()\n",
    "km_price['<50000'] = autos.loc[autos['kilometer']<=40000, 'price'].mean()\n",
    "km_price_sr = pd.Series(km_price).sort_values(ascending=False)\n",
    "km_price_df = pd.DataFrame(km_price_sr, columns=['Average_price'])\n",
    "print(km_price_df)\n",
    "\n",
    "km_price_1 = {}\n",
    "for each in autos['kilometer'].unique():\n",
    "    mean_price = autos.loc[autos['kilometer']==each,'price'].mean()\n",
    "    km_price_1[each] = mean_price\n",
    "km_price_series = pd.Series(km_price_1).sort_values(ascending=False)\n",
    "km_price_dataframe = pd.DataFrame(km_price_series, columns=['average_price'])\n",
    "km_price_dataframe"
   ]
  },
  {
   "cell_type": "markdown",
   "metadata": {},
   "source": [
    "**--> We can see that the correlation between mileage & price are negative. That means the longer (& further, of course) the car was used, the lower the price.**\n",
    "\n",
    "*Only average price of cars that used for 5,000 km is unique (mean price is lower than 80,000 km's)*"
   ]
  },
  {
   "cell_type": "code",
   "execution_count": 39,
   "metadata": {},
   "outputs": [
    {
     "name": "stdout",
     "output_type": "stream",
     "text": [
      "('Mean price of new cars:', 7145.773392096278)\n",
      "('Mean price of old cars:', 2236.730776184163)\n"
     ]
    }
   ],
   "source": [
    "#How much cheaper are cars with damage than their non-damaged counterparts?\n",
    "mean_price_new = autos.loc[autos['unrepaired_damage']=='nein','price'].mean()\n",
    "mean_price_old = autos.loc[autos['unrepaired_damage']=='ja','price'].mean()\n",
    "print('Mean price of new cars:', mean_price_new)\n",
    "print('Mean price of old cars:', mean_price_old)"
   ]
  },
  {
   "cell_type": "code",
   "execution_count": 40,
   "metadata": {},
   "outputs": [
    {
     "data": {
      "text/html": [
       "<div>\n",
       "<style scoped>\n",
       "    .dataframe tbody tr th:only-of-type {\n",
       "        vertical-align: middle;\n",
       "    }\n",
       "\n",
       "    .dataframe tbody tr th {\n",
       "        vertical-align: top;\n",
       "    }\n",
       "\n",
       "    .dataframe thead th {\n",
       "        text-align: right;\n",
       "    }\n",
       "</style>\n",
       "<table border=\"1\" class=\"dataframe\">\n",
       "  <thead>\n",
       "    <tr style=\"text-align: right;\">\n",
       "      <th></th>\n",
       "      <th>Old_cars_prices</th>\n",
       "      <th>New_cars_prices</th>\n",
       "      <th>Price_difference</th>\n",
       "    </tr>\n",
       "  </thead>\n",
       "  <tbody>\n",
       "    <tr>\n",
       "      <th>audi</th>\n",
       "      <td>3419.606037</td>\n",
       "      <td>10576.613830</td>\n",
       "      <td>7157.007793</td>\n",
       "    </tr>\n",
       "    <tr>\n",
       "      <th>mercedes_benz</th>\n",
       "      <td>3749.299121</td>\n",
       "      <td>9670.552214</td>\n",
       "      <td>5921.253093</td>\n",
       "    </tr>\n",
       "    <tr>\n",
       "      <th>bmw</th>\n",
       "      <td>3660.239721</td>\n",
       "      <td>9571.392981</td>\n",
       "      <td>5911.153260</td>\n",
       "    </tr>\n",
       "    <tr>\n",
       "      <th>volkswagen</th>\n",
       "      <td>2223.407764</td>\n",
       "      <td>6413.682106</td>\n",
       "      <td>4190.274342</td>\n",
       "    </tr>\n",
       "    <tr>\n",
       "      <th>ford</th>\n",
       "      <td>1361.901272</td>\n",
       "      <td>4585.775586</td>\n",
       "      <td>3223.874314</td>\n",
       "    </tr>\n",
       "    <tr>\n",
       "      <th>opel</th>\n",
       "      <td>1251.970283</td>\n",
       "      <td>3639.082729</td>\n",
       "      <td>2387.112446</td>\n",
       "    </tr>\n",
       "  </tbody>\n",
       "</table>\n",
       "</div>"
      ],
      "text/plain": [
       "               Old_cars_prices  New_cars_prices  Price_difference\n",
       "audi               3419.606037     10576.613830       7157.007793\n",
       "mercedes_benz      3749.299121      9670.552214       5921.253093\n",
       "bmw                3660.239721      9571.392981       5911.153260\n",
       "volkswagen         2223.407764      6413.682106       4190.274342\n",
       "ford               1361.901272      4585.775586       3223.874314\n",
       "opel               1251.970283      3639.082729       2387.112446"
      ]
     },
     "execution_count": 40,
     "metadata": {},
     "output_type": "execute_result"
    }
   ],
   "source": [
    "# Difference between old cars & new cars categorized by common brands\n",
    "brand_price_old = {}\n",
    "brand_price_new = {}\n",
    "brand_price_diff = {}\n",
    "for brand in common_brand:\n",
    "    mean_old = autos.loc[(autos['brand']==brand) & (autos['unrepaired_damage']=='ja'), 'price'].mean()\n",
    "    mean_new = autos.loc[(autos['brand']==brand) & (autos['unrepaired_damage']=='nein'), 'price'].mean()\n",
    "    price_diff = mean_new - mean_old\n",
    "    brand_price_old[brand] = mean_old\n",
    "    brand_price_new[brand] = mean_new\n",
    "    brand_price_diff[brand] = price_diff\n",
    "bpo_series = pd.Series(brand_price_old).sort_values(ascending=False)\n",
    "bpn_series = pd.Series(brand_price_new).sort_values(ascending=False)\n",
    "bpd_series = pd.Series(brand_price_diff)\n",
    "bp_df = pd.DataFrame(bpo_series, columns=['Old_cars_prices'])\n",
    "bp_df['New_cars_prices'] = bpn_series\n",
    "bp_df['Price_difference'] = bpd_series\n",
    "bp_df = bp_df.sort_values('Price_difference', ascending=False)\n",
    "bp_df"
   ]
  },
  {
   "cell_type": "code",
   "execution_count": null,
   "metadata": {},
   "outputs": [],
   "source": []
  }
 ],
 "metadata": {
  "kernelspec": {
   "display_name": "Python 2",
   "language": "python",
   "name": "python2"
  },
  "language_info": {
   "codemirror_mode": {
    "name": "ipython",
    "version": 2
   },
   "file_extension": ".py",
   "mimetype": "text/x-python",
   "name": "python",
   "nbconvert_exporter": "python",
   "pygments_lexer": "ipython2",
   "version": "2.7.16"
  }
 },
 "nbformat": 4,
 "nbformat_minor": 2
}
